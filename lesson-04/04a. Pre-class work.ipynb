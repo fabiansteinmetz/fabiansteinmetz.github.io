{
  "cells": [
    {
      "cell_type": "markdown",
      "metadata": {
        "id": "5H1j_2J1g4vS"
      },
      "source": [
        "# Working with posteriors\n",
        "\n",
        "In the previous lesson, we discussed the workflow for checking that the priors of a model make sense. In this lesson, we focus on the posterior distribution. The posterior-predictive sampling process is very similar to the prior-predictive sampling process but instead of sampling from the prior and then the likelihood, we sample from the posterior and then the likelihood.\n",
        "\n",
        "The posterior-predictive distribution tells us what the probability is of future data. In the eczema medical trial case study, imagine we were to run a 7th study (the data set contains 6 studies) with $n$ patients. What is our prediction for the number of patients that will improve in either the treatment or control group? The posterior-predictive distribution answers this question."
      ]
    },
    {
      "cell_type": "markdown",
      "metadata": {
        "id": "2JxEhThRadFA"
      },
      "source": [
        "## Prep plan\n",
        "\n",
        "* The McElreath reading should take ~1.5 hours.\n",
        "* This workbook should take ~30 minutes."
      ]
    },
    {
      "cell_type": "markdown",
      "metadata": {
        "id": "_s8N8yz1g4vY"
      },
      "source": [
        "## Required reading: Statistical rethinking\n",
        "\n",
        "Read Sections 3.1–3.3 of McElreath, R. (2020). _Statistical Rethinking, Second Edition_. Chapman and Hall/CRC Press.\n",
        "\n",
        "* [Publisher's page](https://www.routledge.com/Statistical-Rethinking-A-Bayesian-Course-with-Examples-in-R-and-STAN/McElreath/p/book/9780367139919) for buying the book if you want to\n",
        "* [The whole book is available online on O'Reilly via the San Francisco Public Library](https://learning-oreilly-com.ezproxy.sfpl.org/library/view/statistical-rethinking-2nd/9780429639142/xhtml/11_Chapter03.xhtml). Log in with your library card number.\n",
        "\n",
        "**Most of today's pre-class work is reading the textbook.** There is an example and some questions for you to answer below but expect to spend most of your time reading.\n",
        "\n",
        "### Outline\n",
        "\n",
        "* **The introduction section is required** (1640 words). The chapter begins by showing how sampling from posterior distributions can make Bayesian inference more intuitive. Instead of working with abstract probabilities and integrals, samples transform problems into frequency-based, countable terms that we often find easier to think about. Sampling also anticipates modern Bayesian computation — many powerful computational algorithms output samples directly, not closed-form posteriors. Learning to use samples early on prepares us to analyze real models later.\n",
        "* Section 3.1 (_Sampling from a grid-approximate posterior_) is optional (410 words). We don’t cover grid-based sampling since it is a terrible computational technique (extremely slow if you have many variables in your model). However, this is a short section and you might as well read it for continuity.\n",
        "* **Section 3.2 (_Sampling to summarize_) is required** (3500 words). PyMC helps us to generate samples from the posterior distribution (and other distributions) of a model but it is still our job to interpret those posterior samples. This section goes into detail about the ways we can and should summarize results. Pay particular attention to the _highest posterior density interval (HPDI)_ since we will use it a lot in the rest of the course.\n",
        "* **Section 3.3 (_Sampling to simulate prediction_) is required** (3330 words). Here, samples are used to generate simulated data (dummy data) from the model. Simulation serves multiple purposes: checking priors, validating software, exploring research design, forecasting, and testing model adequacy. Read it in detail to understand the ways in which posterior-predictive samples can be useful — for making predictions (our focus today) but also for checking the validity of our model (something we’ll get to in a later lesson).\n",
        "\n",
        "### Terminology for the reading\n",
        "\n",
        "\n",
        "* The _posterior distribution_ is the distribution over unknown variables (parameters) of the model after incorporating the data set.\n",
        "* The _posterior-predictive distribution_ is, intuitively, the distribution over the possible future data sets that our model can generate, given the data we have seen already. So, given everything we know so far (including our modeling assumptions and the data), what is our prediction of future observable outcomes?\n",
        "\n",
        "  In short, the posterior-predictive distribution generates/simulates possible data sets from the fitted model. The fitted model incorporates the data, which is what distinguishes the _posterior_-predictive from the _prior_-predictive distribution which generated possible data sets _without_ conditioning on the real data set."
      ]
    },
    {
      "cell_type": "markdown",
      "metadata": {
        "id": "J_6C_ku3g4vZ"
      },
      "source": [
        "## Case study: Eczema medical trials\n",
        "\n",
        "We revisit the medical trial example from the previous session.\n",
        "\n",
        "### Data\n",
        "\n",
        "| Study          | TG improved      | TG not improved   | CG improved    | CG not improved   |\n",
        "|:-------------- | --------:| ------:| ------:| ------:|\n",
        "| Di Rienzo 2014 | 20       | 3      | 9      | 6      |\n",
        "| Galli 1994     | 10       | 6      | 11     | 7      |\n",
        "| Kaufman 1974   | 13       | 3      | 4      | 6      |\n",
        "| Qin 2014       | 35       | 10     | 21     | 18     |\n",
        "| Sanchez 2012   | 22       | 9      | 12     | 17     |\n",
        "| Silny 2006     | 7        | 3      | 0      | 10     |\n",
        "| **Totals**     | **107**  | **34** | **57** | **64** |\n",
        "| TG = Treatment group. CG = Control group. [Source](https://www.cochranelibrary.com/cdsr/doi/10.1002/14651858.CD008774.pub2/full) |\n",
        "\n",
        "### Model\n",
        "\n",
        "**Likelihood:** $x\\sim\\text{Binomial}(n,p)$ where $x$ and $n$ are observed variables (data) and $p$ is an unobserved variable (the parameter we want to estimate).\n",
        "\n",
        "**Prior:** $p\\sim\\text{Beta}(\\alpha=1,\\beta=1)$.\n",
        "\n",
        "**Posterior:** Since we have a conjugate prior–likelihood pair, the posterior is also a Beta distribution, $(p \\,|\\, s,f)\\sim\\text{Beta}(\\alpha=1 + s,\\, \\beta=1 + f)$ where $s$ is the number of patients who improved (the successes) and $f$ is the number of patients who did not improve (the failures).\n",
        "\n",
        "In general, we are not able to solve the posterior analytically and instead we rely on PyMC to generate samples from the posterior. In the code below, you will see that we use samples instead of the closed-form solution.\n",
        "\n",
        "**Posterior-predictive:** There is also a closed-form solution for this since we have a conjugate prior.\n",
        "\n",
        "$$(x \\mid n,s,f) \\sim \\text{Beta-Binomial}(n, \\alpha=1+s, \\beta=1+f)$$\n",
        "\n",
        "Again, as with the posterior distribution, we won't use the closed-form solution of the posterior-predictive distribution but instead rely on samples from PyMC.\n",
        "\n",
        "(Optional) Proof outline: The PDF of the Beta-Binomial distribution is the product of the likelihood function and the posterior PDF, with the parameter $p$ integrated out.\n",
        "\n",
        "$$f_{x \\,|\\, s,f} = \\int_0^1 f_{\\text{Binomial}}(x \\,|\\, n,p)\\,f_{\\text{Beta}}(p \\,|\\, 1+s, 1+f) \\,\\text{d}p$$\n",
        "\n",
        "$$= \\binom{n}{x}\\frac{B(x+1+s,n-x+1+f)}{B(1+s,1+f)}$$\n",
        "\n",
        "We won't go through the proof for the last line. If you're interested, the basic idea is to use the conjugacy of the Beta and Binomial distributions. Watch these two videos for a derivation: [[1](https://www.youtube.com/watch?v=DR_sr23C74A)] [[2](https://www.youtube.com/watch?v=SY8u4vvwG3A)]."
      ]
    },
    {
      "cell_type": "markdown",
      "metadata": {
        "id": "M8rFfyhIg4va"
      },
      "source": [
        "## PyMC implementation\n",
        "\n",
        "**Your task** is to read through, understand, and ask questions about the code below. You should also read the comments — there is useful information in there.\n",
        "\n",
        "**It is imperative** that you understand the code since we will build on it in class, where you will use the posterior and posterior-predictive samples to answer questions about the medical trial scenario."
      ]
    },
    {
      "cell_type": "code",
      "execution_count": 3,
      "metadata": {
        "id": "4CEE7y6ng4vb",
        "colab": {
          "base_uri": "https://localhost:8080/",
          "height": 296,
          "referenced_widgets": [
            "60a813ea2b81493b8c1fa347fa80df6a",
            "c026da9534154888b282a579f53e1912",
            "04dfa058b9d64cd1931457aa69c80219",
            "7cecccbc257448cdbb581f7ff4a4ae70",
            "dc25f6ddeda3475ea373d8ad6dbbea47",
            "57242b589be04d4ea8a3704f008aa7ca",
            "3a66f4a4105e4545b98c3af6a12320b7",
            "cf784f34bb324ebaae553fd7fa4ff594"
          ]
        },
        "outputId": "6afaca4a-7d18-448a-a592-3fa30e00db2b"
      },
      "outputs": [
        {
          "output_type": "display_data",
          "data": {
            "text/plain": [
              "Output()"
            ],
            "application/vnd.jupyter.widget-view+json": {
              "version_major": 2,
              "version_minor": 0,
              "model_id": "60a813ea2b81493b8c1fa347fa80df6a"
            }
          },
          "metadata": {}
        },
        {
          "output_type": "display_data",
          "data": {
            "text/plain": [],
            "text/html": [
              "<pre style=\"white-space:pre;overflow-x:auto;line-height:normal;font-family:Menlo,'DejaVu Sans Mono',consolas,'Courier New',monospace\"></pre>\n"
            ]
          },
          "metadata": {}
        },
        {
          "output_type": "display_data",
          "data": {
            "text/plain": [
              "Output()"
            ],
            "application/vnd.jupyter.widget-view+json": {
              "version_major": 2,
              "version_minor": 0,
              "model_id": "04dfa058b9d64cd1931457aa69c80219"
            }
          },
          "metadata": {}
        },
        {
          "output_type": "display_data",
          "data": {
            "text/plain": [],
            "text/html": [
              "<pre style=\"white-space:pre;overflow-x:auto;line-height:normal;font-family:Menlo,'DejaVu Sans Mono',consolas,'Courier New',monospace\"></pre>\n"
            ]
          },
          "metadata": {}
        },
        {
          "output_type": "display_data",
          "data": {
            "text/plain": [
              "Output()"
            ],
            "application/vnd.jupyter.widget-view+json": {
              "version_major": 2,
              "version_minor": 0,
              "model_id": "dc25f6ddeda3475ea373d8ad6dbbea47"
            }
          },
          "metadata": {}
        },
        {
          "output_type": "display_data",
          "data": {
            "text/plain": [],
            "text/html": [
              "<pre style=\"white-space:pre;overflow-x:auto;line-height:normal;font-family:Menlo,'DejaVu Sans Mono',consolas,'Courier New',monospace\"></pre>\n"
            ]
          },
          "metadata": {}
        },
        {
          "output_type": "display_data",
          "data": {
            "text/plain": [
              "Output()"
            ],
            "application/vnd.jupyter.widget-view+json": {
              "version_major": 2,
              "version_minor": 0,
              "model_id": "3a66f4a4105e4545b98c3af6a12320b7"
            }
          },
          "metadata": {}
        },
        {
          "output_type": "display_data",
          "data": {
            "text/plain": [],
            "text/html": [
              "<pre style=\"white-space:pre;overflow-x:auto;line-height:normal;font-family:Menlo,'DejaVu Sans Mono',consolas,'Courier New',monospace\"></pre>\n"
            ]
          },
          "metadata": {}
        }
      ],
      "source": [
        "import numpy as np\n",
        "import scipy.stats as sts\n",
        "import matplotlib.pyplot as plt\n",
        "import pymc as pm\n",
        "\n",
        "\n",
        "prior_alpha = 1\n",
        "prior_beta = 1\n",
        "\n",
        "data = {\n",
        "    'treatment': {\n",
        "        'improved': 107,\n",
        "        'patients': 141},\n",
        "    'control': {\n",
        "        'improved': 57,\n",
        "        'patients': 121}}\n",
        "\n",
        "\n",
        "def create_model(patients, improved):\n",
        "    '''\n",
        "    Create a Beta-Binomial model with the total number of `patients` and the\n",
        "    number of `improved` patients provided as arguments.\n",
        "    '''\n",
        "    with pm.Model() as model:\n",
        "        # Prior\n",
        "        p = pm.Beta('p', alpha=prior_alpha, beta=prior_beta)\n",
        "        # Likelihood\n",
        "        pm.Binomial('x', n=patients, p=p, observed=improved)\n",
        "    return model\n",
        "\n",
        "\n",
        "# Generate posterior and posterior-predictive samples for both groups in the\n",
        "# data. Notice how we use `pm.sample()` to sample from the posterior and then\n",
        "# `pm.sample_posterior_predictive` to add the posterior-predictive samples to\n",
        "# the same `inference` object.\n",
        "inference = {}\n",
        "for data_label in data:  # treatment, control\n",
        "    # Create the model\n",
        "    model = create_model(\n",
        "        data[data_label]['patients'], data[data_label]['improved'])\n",
        "    with model:\n",
        "        # Sample posterior\n",
        "        inference[data_label] = pm.sample()\n",
        "        # Sample posterior-predictive\n",
        "        pm.sample_posterior_predictive(\n",
        "            inference[data_label], extend_inferencedata=True)"
      ]
    },
    {
      "cell_type": "code",
      "source": [
        "print(inference)"
      ],
      "metadata": {
        "id": "pCmBnSvVytU0",
        "outputId": "c17c486a-e8b5-4204-8138-fff7a8b2bbb0",
        "colab": {
          "base_uri": "https://localhost:8080/"
        }
      },
      "execution_count": 4,
      "outputs": [
        {
          "output_type": "stream",
          "name": "stdout",
          "text": [
            "{'treatment': Inference data with groups:\n",
            "\t> posterior\n",
            "\t> posterior_predictive\n",
            "\t> sample_stats\n",
            "\t> observed_data, 'control': Inference data with groups:\n",
            "\t> posterior\n",
            "\t> posterior_predictive\n",
            "\t> sample_stats\n",
            "\t> observed_data}\n"
          ]
        }
      ]
    },
    {
      "cell_type": "markdown",
      "metadata": {
        "id": "bN2BKgmVg4ve"
      },
      "source": [
        "### Plot the posterior distributions\n",
        "\n",
        "We plot the samples from the approximate posterior as well as the exact solution."
      ]
    },
    {
      "cell_type": "code",
      "execution_count": 2,
      "metadata": {
        "colab": {
          "base_uri": "https://localhost:8080/",
          "height": 378
        },
        "id": "Y5cI8Tvsg4ve",
        "outputId": "937a15a8-e4e1-4586-f0a7-600e34fd87d0"
      },
      "outputs": [
        {
          "output_type": "display_data",
          "data": {
            "text/plain": [
              "<Figure size 800x400 with 1 Axes>"
            ],
            "image/png": "[encoded data removed]"
          },
          "metadata": {}
        }
      ],
      "source": [
        "plt.figure(figsize=(8, 4))\n",
        "plt.title('Posteriors')\n",
        "plt.xlabel('p')\n",
        "plt.ylabel('probability density')\n",
        "\n",
        "# Plot histograms of posterior samples\n",
        "for i, group in enumerate(inference):\n",
        "    plt.hist(\n",
        "        inference[group].posterior.p.values.flatten(), bins=30, density=True,\n",
        "        color=f'C{i}', edgecolor='white', alpha=0.33, label=group + ' samples')\n",
        "\n",
        "# Plot the exact posteriors. (We know the posterior is a Beta distribution.)\n",
        "x = np.linspace(0.3, 0.9, 500)\n",
        "for i, group in enumerate(inference):\n",
        "    y = sts.beta.pdf(\n",
        "        x,\n",
        "        prior_alpha + data[group]['improved'],\n",
        "        prior_beta + data[group]['patients'] - data[group]['improved'])\n",
        "    plt.plot(x, y, f'C{i}--', label=f'{group} exact')\n",
        "\n",
        "plt.legend()\n",
        "plt.show()"
      ]
    },
    {
      "cell_type": "markdown",
      "metadata": {
        "id": "bHw26--Qg4ve"
      },
      "source": [
        "### Plot the posterior-predictive distributions\n",
        "\n",
        "We plot the samples from the approximate posterior-predictive as well as the exact posterior-predictive distribution. The Beta-Binomial distribution is discrete so we use dots rather than a line to plot the PMF.\n",
        "\n",
        "These plots answer the question, what is the probability that $k$ patients would improve if we ran another set of trials with exactly the same number of patients as in the data set?"
      ]
    },
    {
      "cell_type": "code",
      "execution_count": 3,
      "metadata": {
        "colab": {
          "base_uri": "https://localhost:8080/",
          "height": 726
        },
        "id": "62u2nKTwg4vf",
        "outputId": "aee15107-d5a1-427d-8d03-fab5d5bf2438"
      },
      "outputs": [
        {
          "output_type": "display_data",
          "data": {
            "text/plain": [
              "<Figure size 800x400 with 1 Axes>"
            ],
            "image/png": "[encoded data removed]"
          },
          "metadata": {}
        },
        {
          "output_type": "display_data",
          "data": {
            "text/plain": [
              "<Figure size 800x400 with 1 Axes>"
            ],
            "image/png": "[encoded data removed]"
          },
          "metadata": {}
        }
      ],
      "source": [
        "for i, group in enumerate(inference):\n",
        "\n",
        "    # Plot histograms of posterior-predictive samples\n",
        "    n = data[group]['patients']\n",
        "    plt.figure(figsize=(8, 4))\n",
        "    plt.title(f'{group.title()} posterior-predictive (n = {n})')\n",
        "    plt.xlabel('x')\n",
        "    plt.ylabel('probability')\n",
        "    samples = inference[group].posterior_predictive.x.values.flatten()\n",
        "    x = np.arange(np.min(samples), np.max(samples) + 2)\n",
        "    plt.hist(\n",
        "        samples, bins=x-0.5, density=True, color=f'C{i}', alpha=0.33,\n",
        "        edgecolor='white', label='samples')\n",
        "\n",
        "    # Plot the exact posterior-predictive, a Beta-Binomial distribution.\n",
        "    y = sts.betabinom.pmf(\n",
        "        x, n, prior_alpha + data[group]['improved'],\n",
        "        prior_beta + n - data[group]['improved'])\n",
        "    plt.plot(x, y, f'C{i}.', markersize=10, label='exact')\n",
        "    plt.legend()\n",
        "\n",
        "plt.show()"
      ]
    },
    {
      "cell_type": "markdown",
      "metadata": {
        "id": "MdMlNSr0adFC"
      },
      "source": [
        "## Questions\n",
        "\n",
        "Given the plots above, do you think the treatment works or not? Motivate your answer."
      ]
    },
    {
      "cell_type": "code",
      "execution_count": null,
      "metadata": {
        "id": "htPlMhjbadFC"
      },
      "outputs": [],
      "source": [
        "# ADD YOUR ANSWER TO THE PRE-CLASS WORKBOOK ON FORUM"
      ]
    }
  ],
  "metadata": {
    "colab": {
      "provenance": []
    },
    "kernelspec": {
      "display_name": "Python 3 (ipykernel)",
      "language": "python",
      "name": "python3"
    },
    "language_info": {
      "codemirror_mode": {
        "name": "ipython",
        "version": 3
      },
      "file_extension": ".py",
      "mimetype": "text/x-python",
      "name": "python",
      "nbconvert_exporter": "python",
      "pygments_lexer": "ipython3",
      "version": "3.13.5"
    },
    "widgets": {
      "application/vnd.jupyter.widget-state+json": {
        "60a813ea2b81493b8c1fa347fa80df6a": {
          "model_module": "@jupyter-widgets/output",
          "model_name": "OutputModel",
          "model_module_version": "1.0.0",
          "state": {
            "_dom_classes": [],
            "_model_module": "@jupyter-widgets/output",
            "_model_module_version": "1.0.0",
            "_model_name": "OutputModel",
            "_view_count": null,
            "_view_module": "@jupyter-widgets/output",
            "_view_module_version": "1.0.0",
            "_view_name": "OutputView",
            "layout": "IPY_MODEL_c026da9534154888b282a579f53e1912",
            "msg_id": "",
            "outputs": [
              {
                "output_type": "display_data",
                "data": {
                  "text/plain": "                                                                                                                   \n \u001b[1m \u001b[0m\u001b[1mProgress                \u001b[0m\u001b[1m \u001b[0m \u001b[1m \u001b[0m\u001b[1mDraws\u001b[0m\u001b[1m \u001b[0m \u001b[1m \u001b[0m\u001b[1mDivergences\u001b[0m\u001b[1m \u001b[0m \u001b[1m \u001b[0m\u001b[1mStep size\u001b[0m\u001b[1m \u001b[0m \u001b[1m \u001b[0m\u001b[1mGrad evals\u001b[0m\u001b[1m \u001b[0m \u001b[1m \u001b[0m\u001b[1mSampling Speed \u001b[0m\u001b[1m \u001b[0m \u001b[1m \u001b[0m\u001b[1mElapsed\u001b[0m\u001b[1m \u001b[0m \u001b[1m \u001b[0m\u001b[1mRemaining\u001b[0m\u001b[1m \u001b[0m \n ───────────────────────────────────────────────────────────────────────────────────────────────────────────────── \n  \u001b[38;2;31;119;180m━━━━━━━━━━━━━━━━━━━━━━━━\u001b[0m   2000    0             0.92        1            2608.93 draws/s   0:00:00   0:00:00    \n  \u001b[38;2;31;119;180m━━━━━━━━━━━━━━━━━━━━━━━━\u001b[0m   2000    0             1.39        1            991.15 draws/s    0:00:02   0:00:00    \n                                                                                                                   \n",
                  "text/html": "<pre style=\"white-space:pre;overflow-x:auto;line-height:normal;font-family:Menlo,'DejaVu Sans Mono',consolas,'Courier New',monospace\">                                                                                                                   \n <span style=\"font-weight: bold\"> Progress                 </span> <span style=\"font-weight: bold\"> Draws </span> <span style=\"font-weight: bold\"> Divergences </span> <span style=\"font-weight: bold\"> Step size </span> <span style=\"font-weight: bold\"> Grad evals </span> <span style=\"font-weight: bold\"> Sampling Speed  </span> <span style=\"font-weight: bold\"> Elapsed </span> <span style=\"font-weight: bold\"> Remaining </span> \n ───────────────────────────────────────────────────────────────────────────────────────────────────────────────── \n  <span style=\"color: #1f77b4; text-decoration-color: #1f77b4\">━━━━━━━━━━━━━━━━━━━━━━━━</span>   2000    0             0.92        1            2608.93 draws/s   0:00:00   0:00:00    \n  <span style=\"color: #1f77b4; text-decoration-color: #1f77b4\">━━━━━━━━━━━━━━━━━━━━━━━━</span>   2000    0             1.39        1            991.15 draws/s    0:00:02   0:00:00    \n                                                                                                                   \n</pre>\n"
                },
                "metadata": {}
              }
            ]
          }
        },
        "c026da9534154888b282a579f53e1912": {
          "model_module": "@jupyter-widgets/base",
          "model_name": "LayoutModel",
          "model_module_version": "1.2.0",
          "state": {
            "_model_module": "@jupyter-widgets/base",
            "_model_module_version": "1.2.0",
            "_model_name": "LayoutModel",
            "_view_count": null,
            "_view_module": "@jupyter-widgets/base",
            "_view_module_version": "1.2.0",
            "_view_name": "LayoutView",
            "align_content": null,
            "align_items": null,
            "align_self": null,
            "border": null,
            "bottom": null,
            "display": null,
            "flex": null,
            "flex_flow": null,
            "grid_area": null,
            "grid_auto_columns": null,
            "grid_auto_flow": null,
            "grid_auto_rows": null,
            "grid_column": null,
            "grid_gap": null,
            "grid_row": null,
            "grid_template_areas": null,
            "grid_template_columns": null,
            "grid_template_rows": null,
            "height": null,
            "justify_content": null,
            "justify_items": null,
            "left": null,
            "margin": null,
            "max_height": null,
            "max_width": null,
            "min_height": null,
            "min_width": null,
            "object_fit": null,
            "object_position": null,
            "order": null,
            "overflow": null,
            "overflow_x": null,
            "overflow_y": null,
            "padding": null,
            "right": null,
            "top": null,
            "visibility": null,
            "width": null
          }
        },
        "04dfa058b9d64cd1931457aa69c80219": {
          "model_module": "@jupyter-widgets/output",
          "model_name": "OutputModel",
          "model_module_version": "1.0.0",
          "state": {
            "_dom_classes": [],
            "_model_module": "@jupyter-widgets/output",
            "_model_module_version": "1.0.0",
            "_model_name": "OutputModel",
            "_view_count": null,
            "_view_module": "@jupyter-widgets/output",
            "_view_module_version": "1.0.0",
            "_view_name": "OutputView",
            "layout": "IPY_MODEL_7cecccbc257448cdbb581f7ff4a4ae70",
            "msg_id": "",
            "outputs": [
              {
                "output_type": "display_data",
                "data": {
                  "text/plain": "Sampling ... \u001b[32m━━━━━━━━━━━━━━━━━━━━━━━━━━━━━━━━━━━━━━━━\u001b[0m \u001b[35m100%\u001b[0m 0:00:00 / 0:00:00\n",
                  "text/html": "<pre style=\"white-space:pre;overflow-x:auto;line-height:normal;font-family:Menlo,'DejaVu Sans Mono',consolas,'Courier New',monospace\">Sampling ... <span style=\"color: #008000; text-decoration-color: #008000\">━━━━━━━━━━━━━━━━━━━━━━━━━━━━━━━━━━━━━━━━</span> <span style=\"color: #800080; text-decoration-color: #800080\">100%</span> 0:00:00 / 0:00:00\n</pre>\n"
                },
                "metadata": {}
              }
            ]
          }
        },
        "7cecccbc257448cdbb581f7ff4a4ae70": {
          "model_module": "@jupyter-widgets/base",
          "model_name": "LayoutModel",
          "model_module_version": "1.2.0",
          "state": {
            "_model_module": "@jupyter-widgets/base",
            "_model_module_version": "1.2.0",
            "_model_name": "LayoutModel",
            "_view_count": null,
            "_view_module": "@jupyter-widgets/base",
            "_view_module_version": "1.2.0",
            "_view_name": "LayoutView",
            "align_content": null,
            "align_items": null,
            "align_self": null,
            "border": null,
            "bottom": null,
            "display": null,
            "flex": null,
            "flex_flow": null,
            "grid_area": null,
            "grid_auto_columns": null,
            "grid_auto_flow": null,
            "grid_auto_rows": null,
            "grid_column": null,
            "grid_gap": null,
            "grid_row": null,
            "grid_template_areas": null,
            "grid_template_columns": null,
            "grid_template_rows": null,
            "height": null,
            "justify_content": null,
            "justify_items": null,
            "left": null,
            "margin": null,
            "max_height": null,
            "max_width": null,
            "min_height": null,
            "min_width": null,
            "object_fit": null,
            "object_position": null,
            "order": null,
            "overflow": null,
            "overflow_x": null,
            "overflow_y": null,
            "padding": null,
            "right": null,
            "top": null,
            "visibility": null,
            "width": null
          }
        },
        "dc25f6ddeda3475ea373d8ad6dbbea47": {
          "model_module": "@jupyter-widgets/output",
          "model_name": "OutputModel",
          "model_module_version": "1.0.0",
          "state": {
            "_dom_classes": [],
            "_model_module": "@jupyter-widgets/output",
            "_model_module_version": "1.0.0",
            "_model_name": "OutputModel",
            "_view_count": null,
            "_view_module": "@jupyter-widgets/output",
            "_view_module_version": "1.0.0",
            "_view_name": "OutputView",
            "layout": "IPY_MODEL_57242b589be04d4ea8a3704f008aa7ca",
            "msg_id": "",
            "outputs": [
              {
                "output_type": "display_data",
                "data": {
                  "text/plain": "                                                                                                                   \n \u001b[1m \u001b[0m\u001b[1mProgress                \u001b[0m\u001b[1m \u001b[0m \u001b[1m \u001b[0m\u001b[1mDraws\u001b[0m\u001b[1m \u001b[0m \u001b[1m \u001b[0m\u001b[1mDivergences\u001b[0m\u001b[1m \u001b[0m \u001b[1m \u001b[0m\u001b[1mStep size\u001b[0m\u001b[1m \u001b[0m \u001b[1m \u001b[0m\u001b[1mGrad evals\u001b[0m\u001b[1m \u001b[0m \u001b[1m \u001b[0m\u001b[1mSampling Speed \u001b[0m\u001b[1m \u001b[0m \u001b[1m \u001b[0m\u001b[1mElapsed\u001b[0m\u001b[1m \u001b[0m \u001b[1m \u001b[0m\u001b[1mRemaining\u001b[0m\u001b[1m \u001b[0m \n ───────────────────────────────────────────────────────────────────────────────────────────────────────────────── \n  \u001b[38;2;31;119;180m━━━━━━━━━━━━━━━━━━━━━━━━\u001b[0m   2000    0             1.56        3            2347.58 draws/s   0:00:00   0:00:00    \n  \u001b[38;2;31;119;180m━━━━━━━━━━━━━━━━━━━━━━━━\u001b[0m   2000    0             2.08        1            1125.63 draws/s   0:00:01   0:00:00    \n                                                                                                                   \n",
                  "text/html": "<pre style=\"white-space:pre;overflow-x:auto;line-height:normal;font-family:Menlo,'DejaVu Sans Mono',consolas,'Courier New',monospace\">                                                                                                                   \n <span style=\"font-weight: bold\"> Progress                 </span> <span style=\"font-weight: bold\"> Draws </span> <span style=\"font-weight: bold\"> Divergences </span> <span style=\"font-weight: bold\"> Step size </span> <span style=\"font-weight: bold\"> Grad evals </span> <span style=\"font-weight: bold\"> Sampling Speed  </span> <span style=\"font-weight: bold\"> Elapsed </span> <span style=\"font-weight: bold\"> Remaining </span> \n ───────────────────────────────────────────────────────────────────────────────────────────────────────────────── \n  <span style=\"color: #1f77b4; text-decoration-color: #1f77b4\">━━━━━━━━━━━━━━━━━━━━━━━━</span>   2000    0             1.56        3            2347.58 draws/s   0:00:00   0:00:00    \n  <span style=\"color: #1f77b4; text-decoration-color: #1f77b4\">━━━━━━━━━━━━━━━━━━━━━━━━</span>   2000    0             2.08        1            1125.63 draws/s   0:00:01   0:00:00    \n                                                                                                                   \n</pre>\n"
                },
                "metadata": {}
              }
            ]
          }
        },
        "57242b589be04d4ea8a3704f008aa7ca": {
          "model_module": "@jupyter-widgets/base",
          "model_name": "LayoutModel",
          "model_module_version": "1.2.0",
          "state": {
            "_model_module": "@jupyter-widgets/base",
            "_model_module_version": "1.2.0",
            "_model_name": "LayoutModel",
            "_view_count": null,
            "_view_module": "@jupyter-widgets/base",
            "_view_module_version": "1.2.0",
            "_view_name": "LayoutView",
            "align_content": null,
            "align_items": null,
            "align_self": null,
            "border": null,
            "bottom": null,
            "display": null,
            "flex": null,
            "flex_flow": null,
            "grid_area": null,
            "grid_auto_columns": null,
            "grid_auto_flow": null,
            "grid_auto_rows": null,
            "grid_column": null,
            "grid_gap": null,
            "grid_row": null,
            "grid_template_areas": null,
            "grid_template_columns": null,
            "grid_template_rows": null,
            "height": null,
            "justify_content": null,
            "justify_items": null,
            "left": null,
            "margin": null,
            "max_height": null,
            "max_width": null,
            "min_height": null,
            "min_width": null,
            "object_fit": null,
            "object_position": null,
            "order": null,
            "overflow": null,
            "overflow_x": null,
            "overflow_y": null,
            "padding": null,
            "right": null,
            "top": null,
            "visibility": null,
            "width": null
          }
        },
        "3a66f4a4105e4545b98c3af6a12320b7": {
          "model_module": "@jupyter-widgets/output",
          "model_name": "OutputModel",
          "model_module_version": "1.0.0",
          "state": {
            "_dom_classes": [],
            "_model_module": "@jupyter-widgets/output",
            "_model_module_version": "1.0.0",
            "_model_name": "OutputModel",
            "_view_count": null,
            "_view_module": "@jupyter-widgets/output",
            "_view_module_version": "1.0.0",
            "_view_name": "OutputView",
            "layout": "IPY_MODEL_cf784f34bb324ebaae553fd7fa4ff594",
            "msg_id": "",
            "outputs": [
              {
                "output_type": "display_data",
                "data": {
                  "text/plain": "Sampling ... \u001b[32m━━━━━━━━━━━━━━━━━━━━━━━━━━━━━━━━━━━━━━━━\u001b[0m \u001b[35m100%\u001b[0m 0:00:00 / 0:00:00\n",
                  "text/html": "<pre style=\"white-space:pre;overflow-x:auto;line-height:normal;font-family:Menlo,'DejaVu Sans Mono',consolas,'Courier New',monospace\">Sampling ... <span style=\"color: #008000; text-decoration-color: #008000\">━━━━━━━━━━━━━━━━━━━━━━━━━━━━━━━━━━━━━━━━</span> <span style=\"color: #800080; text-decoration-color: #800080\">100%</span> 0:00:00 / 0:00:00\n</pre>\n"
                },
                "metadata": {}
              }
            ]
          }
        },
        "cf784f34bb324ebaae553fd7fa4ff594": {
          "model_module": "@jupyter-widgets/base",
          "model_name": "LayoutModel",
          "model_module_version": "1.2.0",
          "state": {
            "_model_module": "@jupyter-widgets/base",
            "_model_module_version": "1.2.0",
            "_model_name": "LayoutModel",
            "_view_count": null,
            "_view_module": "@jupyter-widgets/base",
            "_view_module_version": "1.2.0",
            "_view_name": "LayoutView",
            "align_content": null,
            "align_items": null,
            "align_self": null,
            "border": null,
            "bottom": null,
            "display": null,
            "flex": null,
            "flex_flow": null,
            "grid_area": null,
            "grid_auto_columns": null,
            "grid_auto_flow": null,
            "grid_auto_rows": null,
            "grid_column": null,
            "grid_gap": null,
            "grid_row": null,
            "grid_template_areas": null,
            "grid_template_columns": null,
            "grid_template_rows": null,
            "height": null,
            "justify_content": null,
            "justify_items": null,
            "left": null,
            "margin": null,
            "max_height": null,
            "max_width": null,
            "min_height": null,
            "min_width": null,
            "object_fit": null,
            "object_position": null,
            "order": null,
            "overflow": null,
            "overflow_x": null,
            "overflow_y": null,
            "padding": null,
            "right": null,
            "top": null,
            "visibility": null,
            "width": null
          }
        }
      }
    }
  },
  "nbformat": 4,
  "nbformat_minor": 0
}