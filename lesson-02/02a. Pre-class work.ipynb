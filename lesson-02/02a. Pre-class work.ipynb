{
  "cells": [
    {
      "cell_type": "markdown",
      "metadata": {
        "id": "view-in-github",
        "colab_type": "text"
      },
      "source": [
        "<a href=\"https://colab.research.google.com/github/fabiansteinmetz/fabiansteinmetz.github.io/blob/main/lesson-02/02a.%20Pre-class%20work.ipynb\" target=\"_parent\"><img src=\"https://colab.research.google.com/assets/colab-badge.svg\" alt=\"Open In Colab\"/></a>"
      ]
    },
    {
      "cell_type": "markdown",
      "metadata": {
        "id": "ql2rAZkJqLqE"
      },
      "source": [
        "# Automated inference with PyMC\n",
        "\n",
        "We implement the same model as in the previous class but this time using the PyMC library. PyMC is a very powerful library with a lot of functionality and we will spend much of this course learning how to use PyMC effectively and how the algorithms behind automated inference work. We gloss over many of these details today to focus on the basic code needed for using PyMC and demonstrating that it actually does what it is supposed to."
      ]
    },
    {
      "cell_type": "markdown",
      "metadata": {
        "id": "7STgJSKhqLqI"
      },
      "source": [
        "## Tasks\n",
        "\n",
        "Other than this workbook, there are no readings for today. The main goal today is to go through every line of code below in detail, to understand what each line does, and to clear up any questions you might have. We will use PyMC in almost every lesson after this one.\n",
        "\n",
        "Feel free to discuss this pre-class work with other students in the course, or attempt it on your own if you prefer."
      ]
    },
    {
      "cell_type": "markdown",
      "metadata": {
        "id": "qZht2ASUqLqM"
      },
      "source": [
        "## PyMC on Forum, Google Colab, and your laptop\n",
        "\n",
        "* Unfortunately, Forum doesn't provide enough computational resources to run PyMC effectively.\n",
        "* The recommended way to run the pre-class workbooks is to use Google Colab. It is free to use, has all the necessary libraries pre-installed, and is automatically saved to your Google account.\n",
        "* On your laptop, you need to install the PyMC library using `pip install pymc`. There are some more details (but not much more) in the [PyMC documentation](https://www.pymc.io/projects/docs/en/latest/installation.html). You will also need [Anaconda](https://www.anaconda.com/) already installed before installing PyMC."
      ]
    },
    {
      "cell_type": "code",
      "execution_count": 1,
      "metadata": {
        "id": "1Nnzq_8EqLqN"
      },
      "outputs": [],
      "source": [
        "# This is the standard naming convention for PyMC, abbreviating it to `pm`\n",
        "import pymc as pm\n",
        "\n",
        "# We still need NumPy for creating and computing with arrays\n",
        "import numpy as np\n",
        "\n",
        "# We won't use SciPy much after today, but today we use it to compare our\n",
        "# solutions (posteriors) from the previous lesson with the solutions we get\n",
        "# from PyMC.\n",
        "import scipy.stats as sts\n",
        "\n",
        "# Making plots\n",
        "import matplotlib.pyplot as plt"
      ]
    },
    {
      "cell_type": "markdown",
      "metadata": {
        "id": "jLNrlah_GRnK"
      },
      "source": [
        "## Review\n",
        "\n",
        "In CS114, we covered the basics of Bayesian inference, which we assume you know for today.\n",
        "\n",
        "The core idea is that Bayesian inference combines prior beliefs about an unknown variable (which we model using a random variable) with observed data to update our uncertainty. This updating is formalized by Bayes’ rule:\n",
        "\n",
        "$$\\begin{align}\n",
        "\\text{posterior} &= \\,\\frac{\\text{likelihood} \\times \\text{prior}}{\\text{marginal likelihood}} \\\\\n",
        "P(\\theta\\,|\\,D) &= \\,\\frac{P(D \\,|\\, \\theta) \\, P(\\theta)}{P(D)}\\end{align}$$\n",
        "\n",
        "* **Prior:** Represents what we believe about a parameter ($\\theta$) before seeing data ($D$). Priors can come from past experiments, domain knowledge, past experience, or be uninformative if little is known.\n",
        "\n",
        "* **Likelihood:** Captures how probable the observed data ($D$) are under different parameter values ($\\theta$). It comes directly from the model of the data-generating process (for example, Binomial for dice rolls, Poisson for traffic counts).\n",
        "\n",
        "* **Marginal likelihood (or evidence):** Represents the total probability (marginalized over all possible parameter values, $\\theta$) of the data under this model. This is useful when comparing different models to see which model best fits the data.\n",
        "\n",
        "* **Posterior:** The updated distribution over the parameter ($\\theta$) after seeing data ($D$). It reflects both prior beliefs and additional information from the likelihood.\n",
        "\n",
        "* **Credible interval:** The posterior can be used to compute credible intervals, for example, we are 95% confident $\\theta \\in [0.14, 0.29]$. Unlike frequentist confidence intervals, a Bayesian credible interval has a direct probability meaning: given the data, there is a 95% probability the parameter lies within that interval."
      ]
    },
    {
      "cell_type": "markdown",
      "metadata": {
        "id": "MBB5lkWJIswj"
      },
      "source": [
        "Describe the prior, likelihood, and posterior of the medical trial model we started in the previous class. (You can also see it below in the _Model_ section.) What is the interpretation of each of these three components — what does each component tell us about the medical trial scenario?"
      ]
    },
    {
      "cell_type": "code",
      "execution_count": 2,
      "metadata": {
        "id": "rsqjLo6rYxvP"
      },
      "outputs": [],
      "source": [
        "# ADD YOUR ANSWER TO THE PRE-CLASS WORKBOOK ON FORUM"
      ]
    },
    {
      "cell_type": "markdown",
      "metadata": {
        "id": "h4IawlG7qLqP"
      },
      "source": [
        "## Data\n",
        "\n",
        "We use the same data set as in the previous lesson, focusing on the totals row of the table below.\n",
        "\n",
        "| Study          | TG improved      | TG not improved   | CG improved    | CG not improved   |\n",
        "|:-------------- | --------:| ------:| ------:| ------:|\n",
        "| Di Rienzo 2014 | 20       | 3      | 9      | 6      |\n",
        "| Galli 1994     | 10       | 6      | 11     | 7      |\n",
        "| Kaufman 1974   | 13       | 3      | 4      | 6      |\n",
        "| Qin 2014       | 35       | 10     | 21     | 18     |\n",
        "| Sanchez 2012   | 22       | 9      | 12     | 17     |\n",
        "| Silny 2006     | 7        | 3      | 0      | 10     |\n",
        "| **Totals**     | **107**  | **34** | **57** | **64** |\n",
        "\n",
        "* TG = Treatment group\n",
        "* CG = Control group"
      ]
    },
    {
      "cell_type": "code",
      "execution_count": 3,
      "metadata": {
        "id": "fcuWc0vUqLqQ"
      },
      "outputs": [],
      "source": [
        "data = {\n",
        "    'treatment': {\n",
        "        'improved': 107,\n",
        "        'patients': 141},\n",
        "    'control': {\n",
        "        'improved': 57,\n",
        "        'patients': 121}}"
      ]
    },
    {
      "cell_type": "markdown",
      "metadata": {
        "id": "32gmlkXtqLqR"
      },
      "source": [
        "## Model\n",
        "\n",
        "We use the same model as in the previous lesson.\n",
        "\n",
        "**Likelihood:**\n",
        "\n",
        "$$x\\sim\\text{Binomial}(n,p)$$\n",
        "\n",
        "where $x$ and $n$ are observed variables (data) and $p$ is an unobserved variable (the parameter we want to estimate).\n",
        "\n",
        "**Prior:**\n",
        "\n",
        "$$p\\sim\\text{Beta}(1,1)$$\n",
        "\n",
        "**Posterior:**\n",
        "\n",
        "As always, the posterior PDF is proportional to the likelihood function times the prior PDF.\n",
        "\n",
        "$$f_{\\text{post}} \\propto f_{\\text{like}} \\times f_{\\text{prior}}$$\n",
        "\n",
        "$$f_{\\text{post}}(p) \\propto f_{\\text{Binomial}}(x\\,|\\,n,p) \\, f_{\\text{Beta}}(p\\,|\\,1,1)$$\n",
        "\n",
        "From the previous lesson, we already know the posterior is a Beta distribution but PyMC doesn't know that. In fact, PyMC makes no attempt to solve for the posterior distribution function directly. Instead, it approximates the posterior using simpler functions and samples from distributions. More on this below."
      ]
    },
    {
      "cell_type": "markdown",
      "metadata": {
        "id": "U0BgYxltqLqR"
      },
      "source": [
        "## PyMC implementation of the model\n",
        "\n",
        "Below is the PyMC code for the medical trial data set. We have to tell PyMC what the prior and likelihood functions are and how the data connect to the parameters in the likelihood function. Since the posterior is just proportional to the product of the likelihood and the prior, we don't distinguish between the prior and the likelihood explicitly in the model below. Every distribution we specify is automatically incorporated into the product prior × likelihood."
      ]
    },
    {
      "cell_type": "code",
      "execution_count": 4,
      "metadata": {
        "id": "x1AOOQbmqLqS"
      },
      "outputs": [],
      "source": [
        "with pm.Model() as medical_model:\n",
        "    p = pm.Beta('p', alpha=1, beta=1)\n",
        "    x = pm.Binomial(\n",
        "        'x', n=data['treatment']['patients'], p=p,\n",
        "        observed=data['treatment']['improved'])"
      ]
    },
    {
      "cell_type": "markdown",
      "metadata": {
        "id": "dDNIM4n9qLqS"
      },
      "source": [
        "Let's go through that line-by-line.\n",
        "\n",
        "**Line 1:**\n",
        "```python\n",
        "with pm.Model() as medical_model::\n",
        "```\n",
        "\n",
        "This line creates a new PyMC Model object and gives it a name, `medical_model`. We can give it any name we like — it's just a Python variable — and we will refer to the model by this name in the rest of the code. Much of the time, we'll just call the model `model`.\n",
        "\n",
        "**Line 2:**\n",
        "```python\n",
        "p = pm.Beta('p', alpha=1, beta=1)\n",
        "```\n",
        "\n",
        "This line tells PyMC that we have a variable called `p` that comes from a Beta distribution with parameters $\\alpha=1$ and $\\beta=1$. Note that the name `p` shows up twice — once as a Python variable `p = ...` and once as a string `'p'` inside the `Beta` distribution. This is strange and confusing at first and will take some getting used to.\n",
        "\n",
        "The distinction is that the string `'p'` is the name PyMC uses internally to refer to its variables and the Python variable `p` is what you use to refer to the `pm.Beta` object in your Python code.\n",
        "\n",
        "For now, just be aware that the PyMC name of a variable and the Python name of a variable are different things. We'll usually give them the same name but that is not a requirement.\n",
        "\n",
        "**Line 3:**\n",
        "```python\n",
        "x = pm.Binomial('x', n=data['treatment']['patients'], p=p, observed=data['treatment']['improved'])\n",
        "```\n",
        "\n",
        "Finally, we tell PyMC that we have another variable, $x$ that comes from a Binomial distribution with parameters $n$ and $p$. Here $n$ is a constant equal to 141, the total number of patients in the treatment group, and $p$ is the variable we defined in the previous line — the variable that has a Beta distribution.\n",
        "\n",
        "We also tell PyMC that we get to observe the value of $x$ and that its value is 107, the number of patients in the treatment group who improved.\n",
        "\n",
        "**Summary:**\n",
        "\n",
        "That defines everything we need for the model — the prior and likelihood along with the values of the observed variables (data) in the model."
      ]
    },
    {
      "cell_type": "markdown",
      "metadata": {
        "id": "TQI0m0fVqLqT"
      },
      "source": [
        "## Visualize the model\n",
        "\n",
        "Now that we've defined the model, we can ask PyMC to represent it as a directed graph. The graph shows which variables depend on which other variables. This visualization is useful for checking that you specified your model correctly.\n",
        "\n",
        "(This line of code won't work on your laptop unless you have the [Graphviz](https://graphviz.org/) package installed. It's not a Python package and you need to install it through your operating system. It's installed on Google Colab.)"
      ]
    },
    {
      "cell_type": "code",
      "execution_count": 5,
      "metadata": {
        "colab": {
          "base_uri": "https://localhost:8080/",
          "height": 276
        },
        "id": "HAh17DvFqLqi",
        "outputId": "511d1ea2-677e-4c8e-d85e-9e2e2469e766"
      },
      "outputs": [
        {
          "output_type": "execute_result",
          "data": {
            "image/png": "[encoded data removed]",
            "text/plain": [
              "<IPython.core.display.Image object>"
            ]
          },
          "metadata": {},
          "execution_count": 5
        }
      ],
      "source": [
        "pm.model_to_graphviz(medical_model)\n",
        "\n",
        "# The two lines below are not needed unless you are on Forum. For\n",
        "# some reason, it can't display the PDF generated in the line above.\n",
        "from IPython.display import Image\n",
        "Image(pm.model_to_graphviz(medical_model).render(format='png'))"
      ]
    },
    {
      "cell_type": "markdown",
      "metadata": {
        "id": "bYNEP4_cqLqk"
      },
      "source": [
        "## Compute the posterior distribution\n",
        "\n",
        "PyMC provides two classes of algorithms for approximating the posterior distribution of a model, namely sampling (Markov chain Monte Carlo algorithms) and fitting (variational inference algorithms). We will use both types of algorithms today to get an idea of how they work and explore each type of algorithm in more depth later in the course."
      ]
    },
    {
      "cell_type": "markdown",
      "metadata": {
        "id": "zDRYWQMQqLqk"
      },
      "source": [
        "### Approximation 1: Inference by sampling\n",
        "\n",
        "Sampling algorithms are able to generate random samples from the posterior distribution without actually being able to compute the analytical form (equation) of the posterior PDF.\n",
        "\n",
        "In theory, sampling algorithms generate samples that really do come from the posterior distribution, _if you give them enough time to run_. Unfortunately, the theory requires \"enough time\" to mean \"forever\" before you are guaranteed that the samples really come from the distribution you want.\n",
        "\n",
        "In practice, the samples are _approximately_ from the correct distribution and the approximation is usually really good. We have some metrics we can monitor to sanity check whether the sampler is behaving as it should but things can go wrong and later we will learn what problems to look out for.\n",
        "\n",
        "The main drawback of sampling algorithms is that they are slow since they have to run approximately forever to generate accurate samples. The code cell below will take a while to run. Sampling from a PyMC model will feel slow even for simple models."
      ]
    },
    {
      "cell_type": "code",
      "execution_count": 6,
      "metadata": {
        "colab": {
          "base_uri": "https://localhost:8080/",
          "height": 116,
          "referenced_widgets": [
            "55492dab7c5b4d7d92c67b35d1ea5068",
            "2780c0919a28481a9e61967a983c8577"
          ]
        },
        "id": "bygHoL_PqLqk",
        "outputId": "37b132b2-0ce1-4663-c587-f27e5324dd53"
      },
      "outputs": [
        {
          "output_type": "display_data",
          "data": {
            "text/plain": [
              "Output()"
            ],
            "application/vnd.jupyter.widget-view+json": {
              "version_major": 2,
              "version_minor": 0,
              "model_id": "55492dab7c5b4d7d92c67b35d1ea5068"
            }
          },
          "metadata": {}
        },
        {
          "output_type": "display_data",
          "data": {
            "text/plain": [],
            "text/html": [
              "<pre style=\"white-space:pre;overflow-x:auto;line-height:normal;font-family:Menlo,'DejaVu Sans Mono',consolas,'Courier New',monospace\"></pre>\n"
            ]
          },
          "metadata": {}
        }
      ],
      "source": [
        "with medical_model:\n",
        "    inference = pm.sample()"
      ]
    },
    {
      "cell_type": "markdown",
      "metadata": {
        "id": "7jyx2mwQqLql"
      },
      "source": [
        "**Line 1:**\n",
        "```python\n",
        "with medical_model:\n",
        "```\n",
        "\n",
        "This line reactivates the model we defined earlier so that Line 2 below which model to sample from. We can define multiple models in one notebook and use this `with` line to activate a particular model.\n",
        "\n",
        "**Line 2:**\n",
        "```python\n",
        "inference = pm.sample()\n",
        "```\n",
        "\n",
        "This line runs the default sampler (called the No-U-Turn Sampler, or NUTS) and stores the results in the variable called `inference`."
      ]
    },
    {
      "cell_type": "code",
      "execution_count": 7,
      "metadata": {
        "colab": {
          "base_uri": "https://localhost:8080/",
          "height": 415
        },
        "id": "5zu9DOhnqLql",
        "outputId": "6fe436fe-89fa-4483-992a-3e13fd450997"
      },
      "outputs": [
        {
          "output_type": "execute_result",
          "data": {
            "text/plain": [
              "<xarray.Dataset> Size: 24kB\n",
              "Dimensions:  (chain: 2, draw: 1000)\n",
              "Coordinates:\n",
              "  * chain    (chain) int64 16B 0 1\n",
              "  * draw     (draw) int64 8kB 0 1 2 3 4 5 6 7 ... 993 994 995 996 997 998 999\n",
              "Data variables:\n",
              "    p        (chain, draw) float64 16kB 0.7305 0.7305 0.7514 ... 0.7966 0.7584\n",
              "Attributes:\n",
              "    created_at:                 2025-09-09T19:19:50.742860+00:00\n",
              "    arviz_version:              0.22.0\n",
              "    inference_library:          pymc\n",
              "    inference_library_version:  5.25.1\n",
              "    sampling_time:              2.553262948989868\n",
              "    tuning_steps:               1000"
            ],
            "text/html": [
              "<div><svg style=\"position: absolute; width: 0; height: 0; overflow: hidden\">\n",
              "<defs>\n",
              "<symbol id=\"icon-database\" viewBox=\"0 0 32 32\">\n",
              "<path d=\"M16 0c-8.837 0-16 2.239-16 5v4c0 2.761 7.163 5 16 5s16-2.239 16-5v-4c0-2.761-7.163-5-16-5z\"></path>\n",
              "<path d=\"M16 17c-8.837 0-16-2.239-16-5v6c0 2.761 7.163 5 16 5s16-2.239 16-5v-6c0 2.761-7.163 5-16 5z\"></path>\n",
              "<path d=\"M16 26c-8.837 0-16-2.239-16-5v6c0 2.761 7.163 5 16 5s16-2.239 16-5v-6c0 2.761-7.163 5-16 5z\"></path>\n",
              "</symbol>\n",
              "<symbol id=\"icon-file-text2\" viewBox=\"0 0 32 32\">\n",
              "<path d=\"M28.681 7.159c-0.694-0.947-1.662-2.053-2.724-3.116s-2.169-2.030-3.116-2.724c-1.612-1.182-2.393-1.319-2.841-1.319h-15.5c-1.378 0-2.5 1.121-2.5 2.5v27c0 1.378 1.122 2.5 2.5 2.5h23c1.378 0 2.5-1.122 2.5-2.5v-19.5c0-0.448-0.137-1.23-1.319-2.841zM24.543 5.457c0.959 0.959 1.712 1.825 2.268 2.543h-4.811v-4.811c0.718 0.556 1.584 1.309 2.543 2.268zM28 29.5c0 0.271-0.229 0.5-0.5 0.5h-23c-0.271 0-0.5-0.229-0.5-0.5v-27c0-0.271 0.229-0.5 0.5-0.5 0 0 15.499-0 15.5 0v7c0 0.552 0.448 1 1 1h7v19.5z\"></path>\n",
              "<path d=\"M23 26h-14c-0.552 0-1-0.448-1-1s0.448-1 1-1h14c0.552 0 1 0.448 1 1s-0.448 1-1 1z\"></path>\n",
              "<path d=\"M23 22h-14c-0.552 0-1-0.448-1-1s0.448-1 1-1h14c0.552 0 1 0.448 1 1s-0.448 1-1 1z\"></path>\n",
              "<path d=\"M23 18h-14c-0.552 0-1-0.448-1-1s0.448-1 1-1h14c0.552 0 1 0.448 1 1s-0.448 1-1 1z\"></path>\n",
              "</symbol>\n",
              "</defs>\n",
              "</svg>\n",
              "<style>/* CSS stylesheet for displaying xarray objects in jupyterlab.\n",
              " *\n",
              " */\n",
              "\n",
              ":root {\n",
              "  --xr-font-color0: var(\n",
              "    --jp-content-font-color0,\n",
              "    var(--pst-color-text-base rgba(0, 0, 0, 1))\n",
              "  );\n",
              "  --xr-font-color2: var(\n",
              "    --jp-content-font-color2,\n",
              "    var(--pst-color-text-base, rgba(0, 0, 0, 0.54))\n",
              "  );\n",
              "  --xr-font-color3: var(\n",
              "    --jp-content-font-color3,\n",
              "    var(--pst-color-text-base, rgba(0, 0, 0, 0.38))\n",
              "  );\n",
              "  --xr-border-color: var(\n",
              "    --jp-border-color2,\n",
              "    hsl(from var(--pst-color-on-background, white) h s calc(l - 10))\n",
              "  );\n",
              "  --xr-disabled-color: var(\n",
              "    --jp-layout-color3,\n",
              "    hsl(from var(--pst-color-on-background, white) h s calc(l - 40))\n",
              "  );\n",
              "  --xr-background-color: var(\n",
              "    --jp-layout-color0,\n",
              "    var(--pst-color-on-background, white)\n",
              "  );\n",
              "  --xr-background-color-row-even: var(\n",
              "    --jp-layout-color1,\n",
              "    hsl(from var(--pst-color-on-background, white) h s calc(l - 5))\n",
              "  );\n",
              "  --xr-background-color-row-odd: var(\n",
              "    --jp-layout-color2,\n",
              "    hsl(from var(--pst-color-on-background, white) h s calc(l - 15))\n",
              "  );\n",
              "}\n",
              "\n",
              "html[theme=\"dark\"],\n",
              "html[data-theme=\"dark\"],\n",
              "body[data-theme=\"dark\"],\n",
              "body.vscode-dark {\n",
              "  --xr-font-color0: var(\n",
              "    --jp-content-font-color0,\n",
              "    var(--pst-color-text-base, rgba(255, 255, 255, 1))\n",
              "  );\n",
              "  --xr-font-color2: var(\n",
              "    --jp-content-font-color2,\n",
              "    var(--pst-color-text-base, rgba(255, 255, 255, 0.54))\n",
              "  );\n",
              "  --xr-font-color3: var(\n",
              "    --jp-content-font-color3,\n",
              "    var(--pst-color-text-base, rgba(255, 255, 255, 0.38))\n",
              "  );\n",
              "  --xr-border-color: var(\n",
              "    --jp-border-color2,\n",
              "    hsl(from var(--pst-color-on-background, #111111) h s calc(l + 10))\n",
              "  );\n",
              "  --xr-disabled-color: var(\n",
              "    --jp-layout-color3,\n",
              "    hsl(from var(--pst-color-on-background, #111111) h s calc(l + 40))\n",
              "  );\n",
              "  --xr-background-color: var(\n",
              "    --jp-layout-color0,\n",
              "    var(--pst-color-on-background, #111111)\n",
              "  );\n",
              "  --xr-background-color-row-even: var(\n",
              "    --jp-layout-color1,\n",
              "    hsl(from var(--pst-color-on-background, #111111) h s calc(l + 5))\n",
              "  );\n",
              "  --xr-background-color-row-odd: var(\n",
              "    --jp-layout-color2,\n",
              "    hsl(from var(--pst-color-on-background, #111111) h s calc(l + 15))\n",
              "  );\n",
              "}\n",
              "\n",
              ".xr-wrap {\n",
              "  display: block !important;\n",
              "  min-width: 300px;\n",
              "  max-width: 700px;\n",
              "}\n",
              "\n",
              ".xr-text-repr-fallback {\n",
              "  /* fallback to plain text repr when CSS is not injected (untrusted notebook) */\n",
              "  display: none;\n",
              "}\n",
              "\n",
              ".xr-header {\n",
              "  padding-top: 6px;\n",
              "  padding-bottom: 6px;\n",
              "  margin-bottom: 4px;\n",
              "  border-bottom: solid 1px var(--xr-border-color);\n",
              "}\n",
              "\n",
              ".xr-header > div,\n",
              ".xr-header > ul {\n",
              "  display: inline;\n",
              "  margin-top: 0;\n",
              "  margin-bottom: 0;\n",
              "}\n",
              "\n",
              ".xr-obj-type,\n",
              ".xr-array-name {\n",
              "  margin-left: 2px;\n",
              "  margin-right: 10px;\n",
              "}\n",
              "\n",
              ".xr-obj-type {\n",
              "  color: var(--xr-font-color2);\n",
              "}\n",
              "\n",
              ".xr-sections {\n",
              "  padding-left: 0 !important;\n",
              "  display: grid;\n",
              "  grid-template-columns: 150px auto auto 1fr 0 20px 0 20px;\n",
              "}\n",
              "\n",
              ".xr-section-item {\n",
              "  display: contents;\n",
              "}\n",
              "\n",
              ".xr-section-item input {\n",
              "  display: inline-block;\n",
              "  opacity: 0;\n",
              "  height: 0;\n",
              "}\n",
              "\n",
              ".xr-section-item input + label {\n",
              "  color: var(--xr-disabled-color);\n",
              "  border: 2px solid transparent !important;\n",
              "}\n",
              "\n",
              ".xr-section-item input:enabled + label {\n",
              "  cursor: pointer;\n",
              "  color: var(--xr-font-color2);\n",
              "}\n",
              "\n",
              ".xr-section-item input:focus + label {\n",
              "  border: 2px solid var(--xr-font-color0) !important;\n",
              "}\n",
              "\n",
              ".xr-section-item input:enabled + label:hover {\n",
              "  color: var(--xr-font-color0);\n",
              "}\n",
              "\n",
              ".xr-section-summary {\n",
              "  grid-column: 1;\n",
              "  color: var(--xr-font-color2);\n",
              "  font-weight: 500;\n",
              "}\n",
              "\n",
              ".xr-section-summary > span {\n",
              "  display: inline-block;\n",
              "  padding-left: 0.5em;\n",
              "}\n",
              "\n",
              ".xr-section-summary-in:disabled + label {\n",
              "  color: var(--xr-font-color2);\n",
              "}\n",
              "\n",
              ".xr-section-summary-in + label:before {\n",
              "  display: inline-block;\n",
              "  content: \"►\";\n",
              "  font-size: 11px;\n",
              "  width: 15px;\n",
              "  text-align: center;\n",
              "}\n",
              "\n",
              ".xr-section-summary-in:disabled + label:before {\n",
              "  color: var(--xr-disabled-color);\n",
              "}\n",
              "\n",
              ".xr-section-summary-in:checked + label:before {\n",
              "  content: \"▼\";\n",
              "}\n",
              "\n",
              ".xr-section-summary-in:checked + label > span {\n",
              "  display: none;\n",
              "}\n",
              "\n",
              ".xr-section-summary,\n",
              ".xr-section-inline-details {\n",
              "  padding-top: 4px;\n",
              "  padding-bottom: 4px;\n",
              "}\n",
              "\n",
              ".xr-section-inline-details {\n",
              "  grid-column: 2 / -1;\n",
              "}\n",
              "\n",
              ".xr-section-details {\n",
              "  display: none;\n",
              "  grid-column: 1 / -1;\n",
              "  margin-bottom: 5px;\n",
              "}\n",
              "\n",
              ".xr-section-summary-in:checked ~ .xr-section-details {\n",
              "  display: contents;\n",
              "}\n",
              "\n",
              ".xr-array-wrap {\n",
              "  grid-column: 1 / -1;\n",
              "  display: grid;\n",
              "  grid-template-columns: 20px auto;\n",
              "}\n",
              "\n",
              ".xr-array-wrap > label {\n",
              "  grid-column: 1;\n",
              "  vertical-align: top;\n",
              "}\n",
              "\n",
              ".xr-preview {\n",
              "  color: var(--xr-font-color3);\n",
              "}\n",
              "\n",
              ".xr-array-preview,\n",
              ".xr-array-data {\n",
              "  padding: 0 5px !important;\n",
              "  grid-column: 2;\n",
              "}\n",
              "\n",
              ".xr-array-data,\n",
              ".xr-array-in:checked ~ .xr-array-preview {\n",
              "  display: none;\n",
              "}\n",
              "\n",
              ".xr-array-in:checked ~ .xr-array-data,\n",
              ".xr-array-preview {\n",
              "  display: inline-block;\n",
              "}\n",
              "\n",
              ".xr-dim-list {\n",
              "  display: inline-block !important;\n",
              "  list-style: none;\n",
              "  padding: 0 !important;\n",
              "  margin: 0;\n",
              "}\n",
              "\n",
              ".xr-dim-list li {\n",
              "  display: inline-block;\n",
              "  padding: 0;\n",
              "  margin: 0;\n",
              "}\n",
              "\n",
              ".xr-dim-list:before {\n",
              "  content: \"(\";\n",
              "}\n",
              "\n",
              ".xr-dim-list:after {\n",
              "  content: \")\";\n",
              "}\n",
              "\n",
              ".xr-dim-list li:not(:last-child):after {\n",
              "  content: \",\";\n",
              "  padding-right: 5px;\n",
              "}\n",
              "\n",
              ".xr-has-index {\n",
              "  font-weight: bold;\n",
              "}\n",
              "\n",
              ".xr-var-list,\n",
              ".xr-var-item {\n",
              "  display: contents;\n",
              "}\n",
              "\n",
              ".xr-var-item > div,\n",
              ".xr-var-item label,\n",
              ".xr-var-item > .xr-var-name span {\n",
              "  background-color: var(--xr-background-color-row-even);\n",
              "  border-color: var(--xr-background-color-row-odd);\n",
              "  margin-bottom: 0;\n",
              "  padding-top: 2px;\n",
              "}\n",
              "\n",
              ".xr-var-item > .xr-var-name:hover span {\n",
              "  padding-right: 5px;\n",
              "}\n",
              "\n",
              ".xr-var-list > li:nth-child(odd) > div,\n",
              ".xr-var-list > li:nth-child(odd) > label,\n",
              ".xr-var-list > li:nth-child(odd) > .xr-var-name span {\n",
              "  background-color: var(--xr-background-color-row-odd);\n",
              "  border-color: var(--xr-background-color-row-even);\n",
              "}\n",
              "\n",
              ".xr-var-name {\n",
              "  grid-column: 1;\n",
              "}\n",
              "\n",
              ".xr-var-dims {\n",
              "  grid-column: 2;\n",
              "}\n",
              "\n",
              ".xr-var-dtype {\n",
              "  grid-column: 3;\n",
              "  text-align: right;\n",
              "  color: var(--xr-font-color2);\n",
              "}\n",
              "\n",
              ".xr-var-preview {\n",
              "  grid-column: 4;\n",
              "}\n",
              "\n",
              ".xr-index-preview {\n",
              "  grid-column: 2 / 5;\n",
              "  color: var(--xr-font-color2);\n",
              "}\n",
              "\n",
              ".xr-var-name,\n",
              ".xr-var-dims,\n",
              ".xr-var-dtype,\n",
              ".xr-preview,\n",
              ".xr-attrs dt {\n",
              "  white-space: nowrap;\n",
              "  overflow: hidden;\n",
              "  text-overflow: ellipsis;\n",
              "  padding-right: 10px;\n",
              "}\n",
              "\n",
              ".xr-var-name:hover,\n",
              ".xr-var-dims:hover,\n",
              ".xr-var-dtype:hover,\n",
              ".xr-attrs dt:hover {\n",
              "  overflow: visible;\n",
              "  width: auto;\n",
              "  z-index: 1;\n",
              "}\n",
              "\n",
              ".xr-var-attrs,\n",
              ".xr-var-data,\n",
              ".xr-index-data {\n",
              "  display: none;\n",
              "  border-top: 2px dotted var(--xr-background-color);\n",
              "  padding-bottom: 20px !important;\n",
              "  padding-top: 10px !important;\n",
              "}\n",
              "\n",
              ".xr-var-attrs-in + label,\n",
              ".xr-var-data-in + label,\n",
              ".xr-index-data-in + label {\n",
              "  padding: 0 1px;\n",
              "}\n",
              "\n",
              ".xr-var-attrs-in:checked ~ .xr-var-attrs,\n",
              ".xr-var-data-in:checked ~ .xr-var-data,\n",
              ".xr-index-data-in:checked ~ .xr-index-data {\n",
              "  display: block;\n",
              "}\n",
              "\n",
              ".xr-var-data > table {\n",
              "  float: right;\n",
              "}\n",
              "\n",
              ".xr-var-data > pre,\n",
              ".xr-index-data > pre,\n",
              ".xr-var-data > table > tbody > tr {\n",
              "  background-color: transparent !important;\n",
              "}\n",
              "\n",
              ".xr-var-name span,\n",
              ".xr-var-data,\n",
              ".xr-index-name div,\n",
              ".xr-index-data,\n",
              ".xr-attrs {\n",
              "  padding-left: 25px !important;\n",
              "}\n",
              "\n",
              ".xr-attrs,\n",
              ".xr-var-attrs,\n",
              ".xr-var-data,\n",
              ".xr-index-data {\n",
              "  grid-column: 1 / -1;\n",
              "}\n",
              "\n",
              "dl.xr-attrs {\n",
              "  padding: 0;\n",
              "  margin: 0;\n",
              "  display: grid;\n",
              "  grid-template-columns: 125px auto;\n",
              "}\n",
              "\n",
              ".xr-attrs dt,\n",
              ".xr-attrs dd {\n",
              "  padding: 0;\n",
              "  margin: 0;\n",
              "  float: left;\n",
              "  padding-right: 10px;\n",
              "  width: auto;\n",
              "}\n",
              "\n",
              ".xr-attrs dt {\n",
              "  font-weight: normal;\n",
              "  grid-column: 1;\n",
              "}\n",
              "\n",
              ".xr-attrs dt:hover span {\n",
              "  display: inline-block;\n",
              "  background: var(--xr-background-color);\n",
              "  padding-right: 10px;\n",
              "}\n",
              "\n",
              ".xr-attrs dd {\n",
              "  grid-column: 2;\n",
              "  white-space: pre-wrap;\n",
              "  word-break: break-all;\n",
              "}\n",
              "\n",
              ".xr-icon-database,\n",
              ".xr-icon-file-text2,\n",
              ".xr-no-icon {\n",
              "  display: inline-block;\n",
              "  vertical-align: middle;\n",
              "  width: 1em;\n",
              "  height: 1.5em !important;\n",
              "  stroke-width: 0;\n",
              "  stroke: currentColor;\n",
              "  fill: currentColor;\n",
              "}\n",
              "\n",
              ".xr-var-attrs-in:checked + label > .xr-icon-file-text2,\n",
              ".xr-var-data-in:checked + label > .xr-icon-database,\n",
              ".xr-index-data-in:checked + label > .xr-icon-database {\n",
              "  color: var(--xr-font-color0);\n",
              "  filter: drop-shadow(1px 1px 5px var(--xr-font-color2));\n",
              "  stroke-width: 0.8px;\n",
              "}\n",
              "</style><pre class='xr-text-repr-fallback'>&lt;xarray.Dataset&gt; Size: 24kB\n",
              "Dimensions:  (chain: 2, draw: 1000)\n",
              "Coordinates:\n",
              "  * chain    (chain) int64 16B 0 1\n",
              "  * draw     (draw) int64 8kB 0 1 2 3 4 5 6 7 ... 993 994 995 996 997 998 999\n",
              "Data variables:\n",
              "    p        (chain, draw) float64 16kB 0.7305 0.7305 0.7514 ... 0.7966 0.7584\n",
              "Attributes:\n",
              "    created_at:                 2025-09-09T19:19:50.742860+00:00\n",
              "    arviz_version:              0.22.0\n",
              "    inference_library:          pymc\n",
              "    inference_library_version:  5.25.1\n",
              "    sampling_time:              2.553262948989868\n",
              "    tuning_steps:               1000</pre><div class='xr-wrap' style='display:none'><div class='xr-header'><div class='xr-obj-type'>xarray.Dataset</div></div><ul class='xr-sections'><li class='xr-section-item'><input id='section-d3010a6b-1090-4136-b1d3-1dd5bf6e0c5e' class='xr-section-summary-in' type='checkbox' disabled ><label for='section-d3010a6b-1090-4136-b1d3-1dd5bf6e0c5e' class='xr-section-summary'  title='Expand/collapse section'>Dimensions:</label><div class='xr-section-inline-details'><ul class='xr-dim-list'><li><span class='xr-has-index'>chain</span>: 2</li><li><span class='xr-has-index'>draw</span>: 1000</li></ul></div><div class='xr-section-details'></div></li><li class='xr-section-item'><input id='section-0f68cf1d-24cf-42e5-83fe-ef7776911b18' class='xr-section-summary-in' type='checkbox'  checked><label for='section-0f68cf1d-24cf-42e5-83fe-ef7776911b18' class='xr-section-summary' >Coordinates: <span>(2)</span></label><div class='xr-section-inline-details'></div><div class='xr-section-details'><ul class='xr-var-list'><li class='xr-var-item'><div class='xr-var-name'><span class='xr-has-index'>chain</span></div><div class='xr-var-dims'>(chain)</div><div class='xr-var-dtype'>int64</div><div class='xr-var-preview xr-preview'>0 1</div><input id='attrs-d594cea8-b53a-40ae-9fe7-9cdfc34c2ba4' class='xr-var-attrs-in' type='checkbox' disabled><label for='attrs-d594cea8-b53a-40ae-9fe7-9cdfc34c2ba4' title='Show/Hide attributes'><svg class='icon xr-icon-file-text2'><use xlink:href='#icon-file-text2'></use></svg></label><input id='data-48047fbc-490f-4a98-bb3f-62c907fd1a6a' class='xr-var-data-in' type='checkbox'><label for='data-48047fbc-490f-4a98-bb3f-62c907fd1a6a' title='Show/Hide data repr'><svg class='icon xr-icon-database'><use xlink:href='#icon-database'></use></svg></label><div class='xr-var-attrs'><dl class='xr-attrs'></dl></div><div class='xr-var-data'><pre>array([0, 1])</pre></div></li><li class='xr-var-item'><div class='xr-var-name'><span class='xr-has-index'>draw</span></div><div class='xr-var-dims'>(draw)</div><div class='xr-var-dtype'>int64</div><div class='xr-var-preview xr-preview'>0 1 2 3 4 5 ... 995 996 997 998 999</div><input id='attrs-4876fc94-e0d4-4076-971b-21a0723f00af' class='xr-var-attrs-in' type='checkbox' disabled><label for='attrs-4876fc94-e0d4-4076-971b-21a0723f00af' title='Show/Hide attributes'><svg class='icon xr-icon-file-text2'><use xlink:href='#icon-file-text2'></use></svg></label><input id='data-522ff553-b250-43a0-94fa-6437c29e4fcd' class='xr-var-data-in' type='checkbox'><label for='data-522ff553-b250-43a0-94fa-6437c29e4fcd' title='Show/Hide data repr'><svg class='icon xr-icon-database'><use xlink:href='#icon-database'></use></svg></label><div class='xr-var-attrs'><dl class='xr-attrs'></dl></div><div class='xr-var-data'><pre>array([  0,   1,   2, ..., 997, 998, 999])</pre></div></li></ul></div></li><li class='xr-section-item'><input id='section-fcec36a3-aef8-4b52-8106-8506d1be7b6e' class='xr-section-summary-in' type='checkbox'  checked><label for='section-fcec36a3-aef8-4b52-8106-8506d1be7b6e' class='xr-section-summary' >Data variables: <span>(1)</span></label><div class='xr-section-inline-details'></div><div class='xr-section-details'><ul class='xr-var-list'><li class='xr-var-item'><div class='xr-var-name'><span>p</span></div><div class='xr-var-dims'>(chain, draw)</div><div class='xr-var-dtype'>float64</div><div class='xr-var-preview xr-preview'>0.7305 0.7305 ... 0.7966 0.7584</div><input id='attrs-c7be8e8d-aba4-4a9b-863e-bdaf9c642c74' class='xr-var-attrs-in' type='checkbox' disabled><label for='attrs-c7be8e8d-aba4-4a9b-863e-bdaf9c642c74' title='Show/Hide attributes'><svg class='icon xr-icon-file-text2'><use xlink:href='#icon-file-text2'></use></svg></label><input id='data-b7638d26-be3a-40e0-bdb3-f3c34803f1b0' class='xr-var-data-in' type='checkbox'><label for='data-b7638d26-be3a-40e0-bdb3-f3c34803f1b0' title='Show/Hide data repr'><svg class='icon xr-icon-database'><use xlink:href='#icon-database'></use></svg></label><div class='xr-var-attrs'><dl class='xr-attrs'></dl></div><div class='xr-var-data'><pre>array([[0.73053402, 0.73053402, 0.75144152, ..., 0.74298322, 0.69223489,\n",
              "        0.75010869],\n",
              "       [0.77788422, 0.7369231 , 0.68797022, ..., 0.77118249, 0.79661607,\n",
              "        0.75841209]])</pre></div></li></ul></div></li><li class='xr-section-item'><input id='section-c2f226e1-5754-4860-abd0-3e35037bc423' class='xr-section-summary-in' type='checkbox'  ><label for='section-c2f226e1-5754-4860-abd0-3e35037bc423' class='xr-section-summary' >Indexes: <span>(2)</span></label><div class='xr-section-inline-details'></div><div class='xr-section-details'><ul class='xr-var-list'><li class='xr-var-item'><div class='xr-index-name'><div>chain</div></div><div class='xr-index-preview'>PandasIndex</div><input type='checkbox' disabled/><label></label><input id='index-bed20846-de81-4fba-9bb7-1258b3d5fbc6' class='xr-index-data-in' type='checkbox'/><label for='index-bed20846-de81-4fba-9bb7-1258b3d5fbc6' title='Show/Hide index repr'><svg class='icon xr-icon-database'><use xlink:href='#icon-database'></use></svg></label><div class='xr-index-data'><pre>PandasIndex(Index([0, 1], dtype=&#x27;int64&#x27;, name=&#x27;chain&#x27;))</pre></div></li><li class='xr-var-item'><div class='xr-index-name'><div>draw</div></div><div class='xr-index-preview'>PandasIndex</div><input type='checkbox' disabled/><label></label><input id='index-8f3d820b-94f1-49a9-96e3-e0d7b0b8389a' class='xr-index-data-in' type='checkbox'/><label for='index-8f3d820b-94f1-49a9-96e3-e0d7b0b8389a' title='Show/Hide index repr'><svg class='icon xr-icon-database'><use xlink:href='#icon-database'></use></svg></label><div class='xr-index-data'><pre>PandasIndex(Index([  0,   1,   2,   3,   4,   5,   6,   7,   8,   9,\n",
              "       ...\n",
              "       990, 991, 992, 993, 994, 995, 996, 997, 998, 999],\n",
              "      dtype=&#x27;int64&#x27;, name=&#x27;draw&#x27;, length=1000))</pre></div></li></ul></div></li><li class='xr-section-item'><input id='section-8fcbe712-de2b-42aa-8133-a5163da487ce' class='xr-section-summary-in' type='checkbox'  checked><label for='section-8fcbe712-de2b-42aa-8133-a5163da487ce' class='xr-section-summary' >Attributes: <span>(6)</span></label><div class='xr-section-inline-details'></div><div class='xr-section-details'><dl class='xr-attrs'><dt><span>created_at :</span></dt><dd>2025-09-09T19:19:50.742860+00:00</dd><dt><span>arviz_version :</span></dt><dd>0.22.0</dd><dt><span>inference_library :</span></dt><dd>pymc</dd><dt><span>inference_library_version :</span></dt><dd>5.25.1</dd><dt><span>sampling_time :</span></dt><dd>2.553262948989868</dd><dt><span>tuning_steps :</span></dt><dd>1000</dd></dl></div></li></ul></div></div>"
            ]
          },
          "metadata": {},
          "execution_count": 7
        }
      ],
      "source": [
        "inference.posterior"
      ]
    },
    {
      "cell_type": "markdown",
      "metadata": {
        "id": "-v5CTZaQqLql"
      },
      "source": [
        "We don't normally print out the posterior like this but it is helpful to look at it at least once. The `inference.posterior` object contains samples for each of the unknown variables in the model — in this case, that's just the variable $p$. In more complicated models, we will see more variables listed here.\n",
        "\n",
        "Note that there are multiple \"chains\" and each chain has multiple \"draws\". We will learn more about what chains are later in the course. For now, just know that we should use all the values (\"draws\" — people often talk about drawing a sample from a distribution, hence the name) in all the chains to represent the posterior.\n",
        "\n",
        "Let's get all those values for $p$ into one array."
      ]
    },
    {
      "cell_type": "code",
      "execution_count": 8,
      "metadata": {
        "id": "-f82wTi4qLql"
      },
      "outputs": [],
      "source": [
        "all_p_samples = inference.posterior.p.values.flatten()"
      ]
    },
    {
      "cell_type": "markdown",
      "metadata": {
        "id": "sW7HyDn1qLqm"
      },
      "source": [
        "You should be able to read that line. We get all the values for the $p$ variable from the posterior distribution stored in the `inference` object. The `flatten()` function turns the 2-dimensional array of values (it's a \"chains\" by \"draws\" array) into a 1-dimensional array of values."
      ]
    },
    {
      "cell_type": "code",
      "execution_count": 9,
      "metadata": {
        "colab": {
          "base_uri": "https://localhost:8080/",
          "height": 410
        },
        "id": "agbdDYcoqLqm",
        "outputId": "9ab58608-60b3-4e65-8f4e-c95917553a2b"
      },
      "outputs": [
        {
          "output_type": "display_data",
          "data": {
            "text/plain": [
              "<Figure size 800x400 with 1 Axes>"
            ],
            "image/png": "[encoded data removed]"
          },
          "metadata": {}
        }
      ],
      "source": [
        "# Plot the samples from the approximate posterior as well as the exact solution\n",
        "plt.figure(figsize=(8, 4))\n",
        "plt.title('Comparison of the sampling approximation and the exact posterior')\n",
        "plt.xlabel('p')\n",
        "plt.ylabel('probability density')\n",
        "plt.hist(\n",
        "    all_p_samples, bins=20, density=True,\n",
        "    edgecolor='white', label='approximation')\n",
        "x = np.linspace(0.5, 0.9, 500)\n",
        "y = sts.beta.pdf(x, 108, 35)\n",
        "plt.plot(x, y, label='exact')\n",
        "plt.legend()\n",
        "plt.show()"
      ]
    },
    {
      "cell_type": "markdown",
      "metadata": {
        "id": "dMSlciU7qLqm"
      },
      "source": [
        "If you already know how to use Matplotlib to plot functions and histograms, you can skip this part. If not, read on!\n",
        "\n",
        "We ran `import matplotlib.pyplot as plt` earlier in this notebook. So, every time we refer to `plt` below it is a reference to the Matplotlib library.\n",
        "\n",
        "**Lines 2–5:**\n",
        "```python\n",
        "plt.figure(figsize=(8, 4))\n",
        "plt.title('Comparison of the sampling approximation and the exact posterior')\n",
        "plt.xlabel('p')\n",
        "plt.ylabel('probability density')\n",
        "```\n",
        "\n",
        "These lines create a new, empty figure with a particular size (optional, you don't have to specify a size), give the figure a title, and label the $x$ (horizontal) and $y$ (vertical) axes. **You should always provide titles and labels for your plots.** This is important for making interpretable plots. You will be graded on the #Professionalism LO for your plots.\n",
        "\n",
        "**Lines 6–8:**\n",
        "```python\n",
        "plt.hist(all_p_samples, bins=20, density=True, edgecolor='white', label='approximation')\n",
        "```\n",
        "\n",
        "These lines produce a histogram. The `hist()` function will look at the values inside the list or array you provide as the first input and figure out how to bin the data to create the histogram.\n",
        "* If you want to, you can tell it how many bins you want (we use `bins=20` here) but that is optional.\n",
        "* The `density=True` argument tells Matplotlib that we want to change the vertical scale of the histogram so that it behaves like a probability density function. This means if you add up the areas (width × height) of all the bars, the total area will be 1 just like a PDF. By default, with `density=False`, the histogram shows counts on the vertical axis — that is, the number of values from the array that fall inside each bin.\n",
        "* The bars look prettier with white edges, so we have `edgecolor='white'` in there. We can change the color of anything on the plot if we want to. Why do we bother doing this? Because it makes the plot more readable. #Professionalism\n",
        "* And we give the histogram a label with `label='approximation'`. This is important because there are two plots on that figure — the histogram and the curve of the posterior Beta PDF. We identify them on the plot using labels. #Professionalism\n",
        "\n",
        "**Lines 9–11:**\n",
        "```python\n",
        "x = np.linspace(0.5, 0.9, 500)\n",
        "y = sts.beta.pdf(x, 108, 35)\n",
        "plt.plot(x, y, label='exact')\n",
        "```\n",
        "\n",
        "These lines produce the curved line. To make line plots, we provide Matplotlib with an array of $x$ coordinates and an array of $y$ coordinates as the first two arguments to the `plot()` function. Matplotlib then draws a line through those coordinates.\n",
        "\n",
        "Line 9 creates an array of 500 evenly-spaced $x$-coordinates starting at 0.5 on the left and ending at 0.9 on the right. You can see that the orange curve runs from 0.5 to 0.9 on the plot. You can choose to use more or fewer than 500 points. If you use too few, the plot won't look smooth since Matplotlib just connects the $(x,y)$-coordinates with straight line segments. If you use too many, the plot will take longer to produce. A few hundred points are usually fine.\n",
        "\n",
        "Line 10 creates an array with 500 values containing one $y$-value for each $x$-value, where the $y$-values are computed using the posterior Beta PDF for the treatment group. In this case study, the model is simple enough that we can compute the exact posterior distribution mathematically. We're doing that to check how well the PyMC approximation is doing. In real case studies, we won't be able to compute the posterior mathematically and we won't be able to compare the PyMC approximation to anything like we're doing here.\n",
        "\n",
        "Line 11 adds the curved line to the same figure, on top of the histogram that is there already. We provide the $x$ and $y$-coordinates and a label.\n",
        "\n",
        "**Line 12:**\n",
        "```python\n",
        "plt.legend()\n",
        "```\n",
        "\n",
        "This line turns on the legend. The legend is the box in the top-right corner that contains all the plot labels. If you forget this line, the legend won't appear even if you labeled all your plots.\n",
        "\n",
        "**Line 13:**\n",
        "```python\n",
        "plt.show()\n",
        "```\n",
        "\n",
        "This line displays the plot in the notebook."
      ]
    },
    {
      "cell_type": "markdown",
      "metadata": {
        "id": "BfoyUX5NqLqm"
      },
      "source": [
        "### Approximation 2: Inference by fitting a function\n",
        "\n",
        "The basic idea here is that we approximate a complicated function (the posterior) using a simple function. Here, \"simple\" means it should be easy to generate samples from the approximation and it should be easy to evaluate the PDF of the approximation. For example, PyMC might fit a Normal PDF to the true posterior distribution. The approximation won't be perfect (unless the posterior really is a Normal distribution!) but we have existing algorithms for evaluating the Normal PDF and generating samples from a Normal random variable.\n",
        "\n",
        "The main advantage of fitting algorithms is that they are fast — much faster than sampling algorithms. This has the benefit that you can iterate much faster on improving your model since you don't have to wait for the inference algorithm to complete. With faster algorithms, you can also generally handle larger data sets in a reasonable amount of time.\n",
        "\n",
        "The main drawback of fitting algorithms is that we know the answer they produce is wrong — by design. The approximate posterior distribution is just that — an approximation. Samplers have the theoretical guarantee that if we run them for long enough (approximately forever), they will generate samples from the true posterior distribution. Fitting algorithms can never achieve this.\n",
        "\n",
        "In short, if you want a decent solution fast, use function fitting; if you want an accurate solution and are willing to wait, use sampling."
      ]
    },
    {
      "cell_type": "code",
      "execution_count": 10,
      "metadata": {
        "colab": {
          "base_uri": "https://localhost:8080/",
          "height": 34,
          "referenced_widgets": [
            "742747e403224749bb1f5043840d67e8",
            "f945acb145de4dcdb6988ee58710cdd4"
          ]
        },
        "id": "w55K_uifqLqn",
        "outputId": "6ac79306-6993-4c2e-e69f-c5e7c300a520"
      },
      "outputs": [
        {
          "output_type": "display_data",
          "data": {
            "text/plain": [
              "Output()"
            ],
            "application/vnd.jupyter.widget-view+json": {
              "version_major": 2,
              "version_minor": 0,
              "model_id": "742747e403224749bb1f5043840d67e8"
            }
          },
          "metadata": {}
        },
        {
          "output_type": "display_data",
          "data": {
            "text/plain": [],
            "text/html": [
              "<pre style=\"white-space:pre;overflow-x:auto;line-height:normal;font-family:Menlo,'DejaVu Sans Mono',consolas,'Courier New',monospace\"></pre>\n"
            ]
          },
          "metadata": {}
        }
      ],
      "source": [
        "with medical_model:\n",
        "    approx = pm.fit()\n",
        "    inference = approx.sample(4000)"
      ]
    },
    {
      "cell_type": "markdown",
      "metadata": {
        "id": "k-5k1DVBqLqn"
      },
      "source": [
        "**Line 1:**\n",
        "```python\n",
        "with medical_model:\n",
        "```\n",
        "\n",
        "Activate the model.\n",
        "\n",
        "**Line 2:**\n",
        "```python\n",
        "approx = pm.fit()\n",
        "```\n",
        "\n",
        "This line runs the default function fitting algorithm (the Automatic Differentiation Variational Inference algorithm, or \"ADVI\") to fit an approximating PDF to the true posterior distribution.\n",
        "\n",
        "**Line 3:**\n",
        "```python\n",
        "inference = approx.sample(4000)\n",
        "```\n",
        "\n",
        "This line generates 4000 samples from the approximating distribution. This is fast since the approximating distribution is simple."
      ]
    },
    {
      "cell_type": "code",
      "execution_count": 11,
      "metadata": {
        "colab": {
          "base_uri": "https://localhost:8080/",
          "height": 410
        },
        "id": "NJTVSLT9qLqn",
        "outputId": "8fa13ec4-9676-4def-e699-ada89142b8ba"
      },
      "outputs": [
        {
          "output_type": "display_data",
          "data": {
            "text/plain": [
              "<Figure size 800x400 with 1 Axes>"
            ],
            "image/png": "[encoded data removed]"
          },
          "metadata": {}
        }
      ],
      "source": [
        "# Plot the samples from the function fitting posterior as well as the exact solution\n",
        "plt.figure(figsize=(8, 4))\n",
        "plt.title('Comparison of the function fitting approximation and the exact posterior')\n",
        "plt.xlabel('p')\n",
        "plt.ylabel('probability density')\n",
        "plt.hist(\n",
        "    inference.posterior.p.values.flatten(), bins=20, density=True,\n",
        "    edgecolor='white', label='approximation')\n",
        "x = np.linspace(0.5, 0.9, 500)\n",
        "y = sts.beta.pdf(x, 108, 35)\n",
        "plt.plot(x, y, label='exact')\n",
        "plt.legend()\n",
        "plt.show()"
      ]
    },
    {
      "cell_type": "markdown",
      "metadata": {
        "id": "S0ZmsdljqLqo"
      },
      "source": [
        "## Task\n",
        "\n",
        "* Reuse (copy-and-paste) the code above to calculate the sampling and function fitting approximations for the **control group**.\n",
        "* Plot the approximations and histograms and the true Beta() posterior as a curve like we did above. Check how good the approximations are.\n",
        "* Remember to add your questions or topics for class discussion to the top of this workbook!"
      ]
    },
    {
      "cell_type": "code",
      "execution_count": 21,
      "metadata": {
        "id": "jecm5k_rqLqq",
        "outputId": "ec997915-512f-4953-8f31-3f1149c5304c",
        "colab": {
          "base_uri": "https://localhost:8080/",
          "height": 1000,
          "referenced_widgets": [
            "2df07b0c98684277bff4d1bfce7c8984",
            "9606d562f6ea4c76b6efad5a663ef6f3",
            "a8a7aa289bf4434db45cf193b57d3e2b",
            "6b5999850ce342158f8ae3718ccb03c0"
          ]
        }
      },
      "outputs": [
        {
          "output_type": "stream",
          "name": "stdout",
          "text": [
            "Sampling Method\n",
            "\n"
          ]
        },
        {
          "output_type": "display_data",
          "data": {
            "text/plain": [
              "Output()"
            ],
            "application/vnd.jupyter.widget-view+json": {
              "version_major": 2,
              "version_minor": 0,
              "model_id": "2df07b0c98684277bff4d1bfce7c8984"
            }
          },
          "metadata": {}
        },
        {
          "output_type": "display_data",
          "data": {
            "text/plain": [],
            "text/html": [
              "<pre style=\"white-space:pre;overflow-x:auto;line-height:normal;font-family:Menlo,'DejaVu Sans Mono',consolas,'Courier New',monospace\"></pre>\n"
            ]
          },
          "metadata": {}
        },
        {
          "output_type": "display_data",
          "data": {
            "text/plain": [
              "<Figure size 800x400 with 1 Axes>"
            ],
            "image/png": "[encoded data removed]"
          },
          "metadata": {}
        },
        {
          "output_type": "stream",
          "name": "stdout",
          "text": [
            "\n",
            "\n",
            "Fitting Method\n",
            "\n"
          ]
        },
        {
          "output_type": "display_data",
          "data": {
            "text/plain": [
              "Output()"
            ],
            "application/vnd.jupyter.widget-view+json": {
              "version_major": 2,
              "version_minor": 0,
              "model_id": "a8a7aa289bf4434db45cf193b57d3e2b"
            }
          },
          "metadata": {}
        },
        {
          "output_type": "display_data",
          "data": {
            "text/plain": [],
            "text/html": [
              "<pre style=\"white-space:pre;overflow-x:auto;line-height:normal;font-family:Menlo,'DejaVu Sans Mono',consolas,'Courier New',monospace\"></pre>\n"
            ]
          },
          "metadata": {}
        },
        {
          "output_type": "display_data",
          "data": {
            "text/plain": [
              "<Figure size 800x400 with 1 Axes>"
            ],
            "image/png": "[encoded data removed]"
          },
          "metadata": {}
        }
      ],
      "source": [
        "# YOUR WORK GOES HERE\n",
        "# PASTE THIS CODE INTO THE FORUM PRE-CLASS WORKBOOK WHEN YOU'RE DONE!\n",
        "'''\n",
        "Exact solution: Beta(a+k, b+n-k) = Beta(1+57, 1+121-57) = Beta(58, 65)\n",
        "'''\n",
        "\n",
        "# SAMPLING METHOD\n",
        "print(\"Sampling Method\\n\")\n",
        "\n",
        "with pm.Model() as medical_control_model:\n",
        "    p = pm.Beta('p', alpha=1, beta=1)\n",
        "    x = pm.Binomial(\n",
        "        'x', n=data['control']['patients'], p=p,\n",
        "        observed=data['control']['improved'])\n",
        "\n",
        "with medical_control_model:\n",
        "\t\t# default sampler (very slow) \"no-u-turns sampler\"\n",
        "    inference = pm.sample()\n",
        "\n",
        "# Plot the samples from the approximate posterior as well as the exact solution\n",
        "plt.figure(figsize=(8, 4))\n",
        "plt.title('Comparison of the sampling approximation and the exact posterior [control group]')\n",
        "plt.xlabel('p')\n",
        "plt.ylabel('probability density')\n",
        "plt.hist(\n",
        "    inference.posterior.p.values.flatten(), bins=20, density=True,\n",
        "    edgecolor='white', label='approximation')\n",
        "x = np.linspace(0.3, 0.7, 500)\n",
        "y = sts.beta.pdf(x, 58, 65)\n",
        "plt.plot(x, y, label='exact')\n",
        "plt.legend()\n",
        "plt.grid(alpha=0.2)\n",
        "plt.show()\n",
        "\n",
        "# FITTING METHOD\n",
        "print(\"\\n\\nFitting Method\\n\")\n",
        "with medical_control_model:\n",
        "\t\t# run a fitting algorithm\n",
        "    approx = pm.fit()\n",
        "    # generate 4,000 samples from the approximating distribution\n",
        "    inference = approx.sample(4000)\n",
        "\n",
        "plt.figure(figsize=(8, 4))\n",
        "plt.title('Comparison of the function fitting approximation and the exact posterior [control group]')\n",
        "plt.xlabel('p')\n",
        "plt.ylabel('probability density')\n",
        "plt.hist(\n",
        "    inference.posterior.p.values.flatten(), bins=20, density=True,\n",
        "    edgecolor='white', label='approximation')\n",
        "x = np.linspace(0.3, 0.7, 500)\n",
        "y = sts.beta.pdf(x, 58, 65)\n",
        "plt.plot(x, y, label='exact')\n",
        "plt.grid(alpha=0.2)\n",
        "plt.legend()\n",
        "plt.show()"
      ]
    },
    {
      "cell_type": "markdown",
      "metadata": {
        "id": "FvKPaFqQqLqr"
      },
      "source": [
        "## (Optional) Further reading\n",
        "\n",
        "We used only the Binomial and Beta distributions today but PyMC has many, many distributions predefined. You can view them in [the PyMC documentation](https://www.pymc.io/projects/docs/en/stable/api/distributions.html). Reading this documentation is optional for now. We will cover many of those distributions as we progress through the course. However, if you would like to get started building your own models, the PyMC documentation is an invaluable resource.\n",
        "\n",
        "The PyMC documentation also contains lots of [example notebooks](https://www.pymc.io/projects/examples/en/latest/gallery.html) that you can use to see how more complicated data analyses are done. Feel free to read ahead if you want to. Most of these notebooks are much more complicated than what we have done so far."
      ]
    }
  ],
  "metadata": {
    "colab": {
      "provenance": [],
      "include_colab_link": true
    },
    "kernelspec": {
      "display_name": "Python 3 (ipykernel)",
      "language": "python",
      "name": "python3"
    },
    "language_info": {
      "codemirror_mode": {
        "name": "ipython",
        "version": 3
      },
      "file_extension": ".py",
      "mimetype": "text/x-python",
      "name": "python",
      "nbconvert_exporter": "python",
      "pygments_lexer": "ipython3",
      "version": "3.13.5"
    },
    "widgets": {
      "application/vnd.jupyter.widget-state+json": {
        "55492dab7c5b4d7d92c67b35d1ea5068": {
          "model_module": "@jupyter-widgets/output",
          "model_name": "OutputModel",
          "model_module_version": "1.0.0",
          "state": {
            "_dom_classes": [],
            "_model_module": "@jupyter-widgets/output",
            "_model_module_version": "1.0.0",
            "_model_name": "OutputModel",
            "_view_count": null,
            "_view_module": "@jupyter-widgets/output",
            "_view_module_version": "1.0.0",
            "_view_name": "OutputView",
            "layout": "IPY_MODEL_2780c0919a28481a9e61967a983c8577",
            "msg_id": "",
            "outputs": [
              {
                "output_type": "display_data",
                "data": {
                  "text/plain": "                                                                                                                   \n \u001b[1m \u001b[0m\u001b[1mProgress                \u001b[0m\u001b[1m \u001b[0m \u001b[1m \u001b[0m\u001b[1mDraws\u001b[0m\u001b[1m \u001b[0m \u001b[1m \u001b[0m\u001b[1mDivergences\u001b[0m\u001b[1m \u001b[0m \u001b[1m \u001b[0m\u001b[1mStep size\u001b[0m\u001b[1m \u001b[0m \u001b[1m \u001b[0m\u001b[1mGrad evals\u001b[0m\u001b[1m \u001b[0m \u001b[1m \u001b[0m\u001b[1mSampling Speed \u001b[0m\u001b[1m \u001b[0m \u001b[1m \u001b[0m\u001b[1mElapsed\u001b[0m\u001b[1m \u001b[0m \u001b[1m \u001b[0m\u001b[1mRemaining\u001b[0m\u001b[1m \u001b[0m \n ───────────────────────────────────────────────────────────────────────────────────────────────────────────────── \n  \u001b[38;2;31;119;180m━━━━━━━━━━━━━━━━━━━━━━━━\u001b[0m   2000    0             1.32        3            1554.76 draws/s   0:00:01   0:00:00    \n  \u001b[38;2;31;119;180m━━━━━━━━━━━━━━━━━━━━━━━━\u001b[0m   2000    0             1.54        3            791.45 draws/s    0:00:02   0:00:00    \n                                                                                                                   \n",
                  "text/html": "<pre style=\"white-space:pre;overflow-x:auto;line-height:normal;font-family:Menlo,'DejaVu Sans Mono',consolas,'Courier New',monospace\">                                                                                                                   \n <span style=\"font-weight: bold\"> Progress                 </span> <span style=\"font-weight: bold\"> Draws </span> <span style=\"font-weight: bold\"> Divergences </span> <span style=\"font-weight: bold\"> Step size </span> <span style=\"font-weight: bold\"> Grad evals </span> <span style=\"font-weight: bold\"> Sampling Speed  </span> <span style=\"font-weight: bold\"> Elapsed </span> <span style=\"font-weight: bold\"> Remaining </span> \n ───────────────────────────────────────────────────────────────────────────────────────────────────────────────── \n  <span style=\"color: #1f77b4; text-decoration-color: #1f77b4\">━━━━━━━━━━━━━━━━━━━━━━━━</span>   2000    0             1.32        3            1554.76 draws/s   0:00:01   0:00:00    \n  <span style=\"color: #1f77b4; text-decoration-color: #1f77b4\">━━━━━━━━━━━━━━━━━━━━━━━━</span>   2000    0             1.54        3            791.45 draws/s    0:00:02   0:00:00    \n                                                                                                                   \n</pre>\n"
                },
                "metadata": {}
              }
            ]
          }
        },
        "2780c0919a28481a9e61967a983c8577": {
          "model_module": "@jupyter-widgets/base",
          "model_name": "LayoutModel",
          "model_module_version": "1.2.0",
          "state": {
            "_model_module": "@jupyter-widgets/base",
            "_model_module_version": "1.2.0",
            "_model_name": "LayoutModel",
            "_view_count": null,
            "_view_module": "@jupyter-widgets/base",
            "_view_module_version": "1.2.0",
            "_view_name": "LayoutView",
            "align_content": null,
            "align_items": null,
            "align_self": null,
            "border": null,
            "bottom": null,
            "display": null,
            "flex": null,
            "flex_flow": null,
            "grid_area": null,
            "grid_auto_columns": null,
            "grid_auto_flow": null,
            "grid_auto_rows": null,
            "grid_column": null,
            "grid_gap": null,
            "grid_row": null,
            "grid_template_areas": null,
            "grid_template_columns": null,
            "grid_template_rows": null,
            "height": null,
            "justify_content": null,
            "justify_items": null,
            "left": null,
            "margin": null,
            "max_height": null,
            "max_width": null,
            "min_height": null,
            "min_width": null,
            "object_fit": null,
            "object_position": null,
            "order": null,
            "overflow": null,
            "overflow_x": null,
            "overflow_y": null,
            "padding": null,
            "right": null,
            "top": null,
            "visibility": null,
            "width": null
          }
        },
        "742747e403224749bb1f5043840d67e8": {
          "model_module": "@jupyter-widgets/output",
          "model_name": "OutputModel",
          "model_module_version": "1.0.0",
          "state": {
            "_dom_classes": [],
            "_model_module": "@jupyter-widgets/output",
            "_model_module_version": "1.0.0",
            "_model_name": "OutputModel",
            "_view_count": null,
            "_view_module": "@jupyter-widgets/output",
            "_view_module_version": "1.0.0",
            "_view_name": "OutputView",
            "layout": "IPY_MODEL_f945acb145de4dcdb6988ee58710cdd4",
            "msg_id": "",
            "outputs": [
              {
                "output_type": "display_data",
                "data": {
                  "text/plain": "Fitting: \u001b[38;2;23;100;244m━━━━━━━━━━━━━━━━━━━━━━━━━━━━━━━━━━━━━━\u001b[0m\u001b[38;2;23;100;244m╸\u001b[0m\u001b[38;5;237m━\u001b[0m \u001b[35m 97%\u001b[0m 0:00:01 Average Loss = 5.0238\n",
                  "text/html": "<pre style=\"white-space:pre;overflow-x:auto;line-height:normal;font-family:Menlo,'DejaVu Sans Mono',consolas,'Courier New',monospace\">Fitting: <span style=\"color: #1764f4; text-decoration-color: #1764f4\">━━━━━━━━━━━━━━━━━━━━━━━━━━━━━━━━━━━━━━╸</span><span style=\"color: #3a3a3a; text-decoration-color: #3a3a3a\">━</span> <span style=\"color: #800080; text-decoration-color: #800080\"> 97%</span> 0:00:01 Average Loss = 5.0238\n</pre>\n"
                },
                "metadata": {}
              }
            ]
          }
        },
        "f945acb145de4dcdb6988ee58710cdd4": {
          "model_module": "@jupyter-widgets/base",
          "model_name": "LayoutModel",
          "model_module_version": "1.2.0",
          "state": {
            "_model_module": "@jupyter-widgets/base",
            "_model_module_version": "1.2.0",
            "_model_name": "LayoutModel",
            "_view_count": null,
            "_view_module": "@jupyter-widgets/base",
            "_view_module_version": "1.2.0",
            "_view_name": "LayoutView",
            "align_content": null,
            "align_items": null,
            "align_self": null,
            "border": null,
            "bottom": null,
            "display": null,
            "flex": null,
            "flex_flow": null,
            "grid_area": null,
            "grid_auto_columns": null,
            "grid_auto_flow": null,
            "grid_auto_rows": null,
            "grid_column": null,
            "grid_gap": null,
            "grid_row": null,
            "grid_template_areas": null,
            "grid_template_columns": null,
            "grid_template_rows": null,
            "height": null,
            "justify_content": null,
            "justify_items": null,
            "left": null,
            "margin": null,
            "max_height": null,
            "max_width": null,
            "min_height": null,
            "min_width": null,
            "object_fit": null,
            "object_position": null,
            "order": null,
            "overflow": null,
            "overflow_x": null,
            "overflow_y": null,
            "padding": null,
            "right": null,
            "top": null,
            "visibility": null,
            "width": null
          }
        },
        "2df07b0c98684277bff4d1bfce7c8984": {
          "model_module": "@jupyter-widgets/output",
          "model_name": "OutputModel",
          "model_module_version": "1.0.0",
          "state": {
            "_dom_classes": [],
            "_model_module": "@jupyter-widgets/output",
            "_model_module_version": "1.0.0",
            "_model_name": "OutputModel",
            "_view_count": null,
            "_view_module": "@jupyter-widgets/output",
            "_view_module_version": "1.0.0",
            "_view_name": "OutputView",
            "layout": "IPY_MODEL_9606d562f6ea4c76b6efad5a663ef6f3",
            "msg_id": "",
            "outputs": [
              {
                "output_type": "display_data",
                "data": {
                  "text/plain": "                                                                                                                   \n \u001b[1m \u001b[0m\u001b[1mProgress                \u001b[0m\u001b[1m \u001b[0m \u001b[1m \u001b[0m\u001b[1mDraws\u001b[0m\u001b[1m \u001b[0m \u001b[1m \u001b[0m\u001b[1mDivergences\u001b[0m\u001b[1m \u001b[0m \u001b[1m \u001b[0m\u001b[1mStep size\u001b[0m\u001b[1m \u001b[0m \u001b[1m \u001b[0m\u001b[1mGrad evals\u001b[0m\u001b[1m \u001b[0m \u001b[1m \u001b[0m\u001b[1mSampling Speed \u001b[0m\u001b[1m \u001b[0m \u001b[1m \u001b[0m\u001b[1mElapsed\u001b[0m\u001b[1m \u001b[0m \u001b[1m \u001b[0m\u001b[1mRemaining\u001b[0m\u001b[1m \u001b[0m \n ───────────────────────────────────────────────────────────────────────────────────────────────────────────────── \n  \u001b[38;2;31;119;180m━━━━━━━━━━━━━━━━━━━━━━━━\u001b[0m   2000    0             1.13        3            2483.14 draws/s   0:00:00   0:00:00    \n  \u001b[38;2;31;119;180m━━━━━━━━━━━━━━━━━━━━━━━━\u001b[0m   2000    0             2.05        3            1165.16 draws/s   0:00:01   0:00:00    \n                                                                                                                   \n",
                  "text/html": "<pre style=\"white-space:pre;overflow-x:auto;line-height:normal;font-family:Menlo,'DejaVu Sans Mono',consolas,'Courier New',monospace\">                                                                                                                   \n <span style=\"font-weight: bold\"> Progress                 </span> <span style=\"font-weight: bold\"> Draws </span> <span style=\"font-weight: bold\"> Divergences </span> <span style=\"font-weight: bold\"> Step size </span> <span style=\"font-weight: bold\"> Grad evals </span> <span style=\"font-weight: bold\"> Sampling Speed  </span> <span style=\"font-weight: bold\"> Elapsed </span> <span style=\"font-weight: bold\"> Remaining </span> \n ───────────────────────────────────────────────────────────────────────────────────────────────────────────────── \n  <span style=\"color: #1f77b4; text-decoration-color: #1f77b4\">━━━━━━━━━━━━━━━━━━━━━━━━</span>   2000    0             1.13        3            2483.14 draws/s   0:00:00   0:00:00    \n  <span style=\"color: #1f77b4; text-decoration-color: #1f77b4\">━━━━━━━━━━━━━━━━━━━━━━━━</span>   2000    0             2.05        3            1165.16 draws/s   0:00:01   0:00:00    \n                                                                                                                   \n</pre>\n"
                },
                "metadata": {}
              }
            ]
          }
        },
        "9606d562f6ea4c76b6efad5a663ef6f3": {
          "model_module": "@jupyter-widgets/base",
          "model_name": "LayoutModel",
          "model_module_version": "1.2.0",
          "state": {
            "_model_module": "@jupyter-widgets/base",
            "_model_module_version": "1.2.0",
            "_model_name": "LayoutModel",
            "_view_count": null,
            "_view_module": "@jupyter-widgets/base",
            "_view_module_version": "1.2.0",
            "_view_name": "LayoutView",
            "align_content": null,
            "align_items": null,
            "align_self": null,
            "border": null,
            "bottom": null,
            "display": null,
            "flex": null,
            "flex_flow": null,
            "grid_area": null,
            "grid_auto_columns": null,
            "grid_auto_flow": null,
            "grid_auto_rows": null,
            "grid_column": null,
            "grid_gap": null,
            "grid_row": null,
            "grid_template_areas": null,
            "grid_template_columns": null,
            "grid_template_rows": null,
            "height": null,
            "justify_content": null,
            "justify_items": null,
            "left": null,
            "margin": null,
            "max_height": null,
            "max_width": null,
            "min_height": null,
            "min_width": null,
            "object_fit": null,
            "object_position": null,
            "order": null,
            "overflow": null,
            "overflow_x": null,
            "overflow_y": null,
            "padding": null,
            "right": null,
            "top": null,
            "visibility": null,
            "width": null
          }
        },
        "a8a7aa289bf4434db45cf193b57d3e2b": {
          "model_module": "@jupyter-widgets/output",
          "model_name": "OutputModel",
          "model_module_version": "1.0.0",
          "state": {
            "_dom_classes": [],
            "_model_module": "@jupyter-widgets/output",
            "_model_module_version": "1.0.0",
            "_model_name": "OutputModel",
            "_view_count": null,
            "_view_module": "@jupyter-widgets/output",
            "_view_module_version": "1.0.0",
            "_view_name": "OutputView",
            "layout": "IPY_MODEL_6b5999850ce342158f8ae3718ccb03c0",
            "msg_id": "",
            "outputs": [
              {
                "output_type": "display_data",
                "data": {
                  "text/plain": "Fitting: \u001b[38;2;23;100;244m━━━━━━━━━━━━━━━━━━━━━━━━━━━━━━━━━━━━━━\u001b[0m\u001b[38;2;23;100;244m╸\u001b[0m\u001b[38;5;237m━\u001b[0m \u001b[35m 97%\u001b[0m 0:00:01 Average Loss = 4.8712\n",
                  "text/html": "<pre style=\"white-space:pre;overflow-x:auto;line-height:normal;font-family:Menlo,'DejaVu Sans Mono',consolas,'Courier New',monospace\">Fitting: <span style=\"color: #1764f4; text-decoration-color: #1764f4\">━━━━━━━━━━━━━━━━━━━━━━━━━━━━━━━━━━━━━━╸</span><span style=\"color: #3a3a3a; text-decoration-color: #3a3a3a\">━</span> <span style=\"color: #800080; text-decoration-color: #800080\"> 97%</span> 0:00:01 Average Loss = 4.8712\n</pre>\n"
                },
                "metadata": {}
              }
            ]
          }
        },
        "6b5999850ce342158f8ae3718ccb03c0": {
          "model_module": "@jupyter-widgets/base",
          "model_name": "LayoutModel",
          "model_module_version": "1.2.0",
          "state": {
            "_model_module": "@jupyter-widgets/base",
            "_model_module_version": "1.2.0",
            "_model_name": "LayoutModel",
            "_view_count": null,
            "_view_module": "@jupyter-widgets/base",
            "_view_module_version": "1.2.0",
            "_view_name": "LayoutView",
            "align_content": null,
            "align_items": null,
            "align_self": null,
            "border": null,
            "bottom": null,
            "display": null,
            "flex": null,
            "flex_flow": null,
            "grid_area": null,
            "grid_auto_columns": null,
            "grid_auto_flow": null,
            "grid_auto_rows": null,
            "grid_column": null,
            "grid_gap": null,
            "grid_row": null,
            "grid_template_areas": null,
            "grid_template_columns": null,
            "grid_template_rows": null,
            "height": null,
            "justify_content": null,
            "justify_items": null,
            "left": null,
            "margin": null,
            "max_height": null,
            "max_width": null,
            "min_height": null,
            "min_width": null,
            "object_fit": null,
            "object_position": null,
            "order": null,
            "overflow": null,
            "overflow_x": null,
            "overflow_y": null,
            "padding": null,
            "right": null,
            "top": null,
            "visibility": null,
            "width": null
          }
        }
      }
    }
  },
  "nbformat": 4,
  "nbformat_minor": 0
}