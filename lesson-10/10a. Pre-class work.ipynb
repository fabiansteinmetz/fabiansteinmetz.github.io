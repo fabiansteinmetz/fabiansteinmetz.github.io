{
  "cells": [
    {
      "cell_type": "markdown",
      "id": "ef4f750e",
      "metadata": {
        "id": "ef4f750e"
      },
      "source": [
        "# Model comparison\n",
        "\n",
        "We start our model comparison journey by exploring model overfitting and underfitting and framing good models as ones that are simultaneously able to fit the data (don’t underfit) and make good predictions (don’t overfit)."
      ]
    },
    {
      "cell_type": "markdown",
      "id": "OoH7uOfcH_Jw",
      "metadata": {
        "id": "OoH7uOfcH_Jw"
      },
      "source": [
        "## Prep plan\n",
        "\n",
        "* The McElreath reading should take ~1 hour. Spend the rest of your time on this workbook.\n",
        "* Most of this workbook contains a Python translation of the R code in McElreath, so you can run and read the code here as you read through the text.\n",
        "* There is 1 question to answer and 1 PyMC exercise to complete in this workbook. The PyMC exercise will require significant time to complete."
      ]
    },
    {
      "cell_type": "markdown",
      "id": "d7c39dbc",
      "metadata": {
        "id": "d7c39dbc"
      },
      "source": [
        "## Required reading: Statistical rethinking\n",
        "\n",
        "Read Chapter 7 up to the end of Section 7.1 of McElreath, R. (2020). _Statistical Rethinking, Second Edition_. Chapman and Hall/CRC Press.\n",
        "\n",
        "* [Publisher's page](https://www.routledge.com/Statistical-Rethinking-A-Bayesian-Course-with-Examples-in-R-and-STAN/McElreath/p/book/9780367139919) for buying the book if you want to\n",
        "* [The whole book is available online on O'Reilly via the San Francisco Public Library](https://learning-oreilly-com.ezproxy.sfpl.org/library/view/statistical-rethinking-2nd/9780429639142/xhtml/15_Chapter07.xhtml). Log in with your library card number.\n",
        "\n",
        "Outline:\n",
        "\n",
        "* **The chapter introduction (_Ulysses’ compass_) is required** (1350 words). Much has been written on the topic of model comparison and this introduction gets you ready to think about the goal as striking a balance between models that overfit and models that underfit the data. Note: This chapter makes a few passing references to the previous two chapters which we do not cover in this course. It is okay to ignore the details of those references. (Chapters 5 and 6 deal with Causal Inference which is beyond the scope of CS146 — you should very seriously consider taking CS130 to learn about this important topic.)\n",
        "* **Section 7.1 (_The problem with parameters_) is required** (3400 words). This section starts by demonstrating the overfitting problem using polynomial regression. This is a very standard way of demonstrating overfitting and you should read the section carefully to become familiar with it. (It’s also a standard way of demonstrating why polynomial regression is usually not a good idea.)\n",
        "\n",
        "The next part of this pre-class workbook contains the R code provided in the McElreath book, translated to Python and PyMC. The code was modified and cleaned up slightly from [the source](https://github.com/pymc-devs/pymc-resources/blob/main/Rethinking_2/Chp_07.ipynb) (the `pymc-resources` repository). While reading Section 7.1, you need to follow along in this workbook and run the code as you go. **There are also some questions for you to answer.**\n",
        "\n",
        "In class, we explore polynomial fitting in more depth and explore the impact of priors on model evidence."
      ]
    },
    {
      "cell_type": "markdown",
      "id": "7da390b0",
      "metadata": {
        "id": "7da390b0"
      },
      "source": [
        "### Code from Section 7.1"
      ]
    },
    {
      "cell_type": "code",
      "execution_count": 1,
      "id": "807e8c92",
      "metadata": {
        "id": "807e8c92"
      },
      "outputs": [],
      "source": [
        "import arviz as az\n",
        "import matplotlib.pyplot as plt\n",
        "import numpy as np\n",
        "import pandas as pd\n",
        "import statsmodels.api as sm\n",
        "import statsmodels.formula.api as smf\n",
        "from scipy import stats"
      ]
    },
    {
      "cell_type": "code",
      "execution_count": 2,
      "id": "474af44c",
      "metadata": {
        "id": "474af44c"
      },
      "outputs": [],
      "source": [
        "# Set the default credible interval to match the textbook\n",
        "az.rcParams[\"stats.ci_prob\"] = 0.89"
      ]
    },
    {
      "cell_type": "markdown",
      "id": "7484e87e",
      "metadata": {
        "id": "7484e87e"
      },
      "source": [
        "#### Code 7.1: Create data"
      ]
    },
    {
      "cell_type": "code",
      "execution_count": 3,
      "id": "8e957d5b",
      "metadata": {
        "colab": {
          "base_uri": "https://localhost:8080/",
          "height": 269
        },
        "id": "8e957d5b",
        "outputId": "b8565a74-82e1-42af-d726-e3cbe99f06b4"
      },
      "outputs": [
        {
          "output_type": "execute_result",
          "data": {
            "text/plain": [
              "       species  brain  mass\n",
              "0    afarensis    438  37.0\n",
              "1    africanus    452  35.5\n",
              "2      habilis    612  34.5\n",
              "3       boisei    521  41.5\n",
              "4  rudolfensis    752  55.5\n",
              "5     ergaster    871  61.0\n",
              "6      sapiens   1350  53.5"
            ],
            "text/html": [
              "\n",
              "  <div id=\"df-305b4cdb-ce0b-4960-947e-8d966fd75f7a\" class=\"colab-df-container\">\n",
              "    <div>\n",
              "<style scoped>\n",
              "    .dataframe tbody tr th:only-of-type {\n",
              "        vertical-align: middle;\n",
              "    }\n",
              "\n",
              "    .dataframe tbody tr th {\n",
              "        vertical-align: top;\n",
              "    }\n",
              "\n",
              "    .dataframe thead th {\n",
              "        text-align: right;\n",
              "    }\n",
              "</style>\n",
              "<table border=\"1\" class=\"dataframe\">\n",
              "  <thead>\n",
              "    <tr style=\"text-align: right;\">\n",
              "      <th></th>\n",
              "      <th>species</th>\n",
              "      <th>brain</th>\n",
              "      <th>mass</th>\n",
              "    </tr>\n",
              "  </thead>\n",
              "  <tbody>\n",
              "    <tr>\n",
              "      <th>0</th>\n",
              "      <td>afarensis</td>\n",
              "      <td>438</td>\n",
              "      <td>37.0</td>\n",
              "    </tr>\n",
              "    <tr>\n",
              "      <th>1</th>\n",
              "      <td>africanus</td>\n",
              "      <td>452</td>\n",
              "      <td>35.5</td>\n",
              "    </tr>\n",
              "    <tr>\n",
              "      <th>2</th>\n",
              "      <td>habilis</td>\n",
              "      <td>612</td>\n",
              "      <td>34.5</td>\n",
              "    </tr>\n",
              "    <tr>\n",
              "      <th>3</th>\n",
              "      <td>boisei</td>\n",
              "      <td>521</td>\n",
              "      <td>41.5</td>\n",
              "    </tr>\n",
              "    <tr>\n",
              "      <th>4</th>\n",
              "      <td>rudolfensis</td>\n",
              "      <td>752</td>\n",
              "      <td>55.5</td>\n",
              "    </tr>\n",
              "    <tr>\n",
              "      <th>5</th>\n",
              "      <td>ergaster</td>\n",
              "      <td>871</td>\n",
              "      <td>61.0</td>\n",
              "    </tr>\n",
              "    <tr>\n",
              "      <th>6</th>\n",
              "      <td>sapiens</td>\n",
              "      <td>1350</td>\n",
              "      <td>53.5</td>\n",
              "    </tr>\n",
              "  </tbody>\n",
              "</table>\n",
              "</div>\n",
              "    <div class=\"colab-df-buttons\">\n",
              "      \n",
              "  <div class=\"colab-df-container\">\n",
              "    <button class=\"colab-df-convert\" onclick=\"convertToInteractive('df-305b4cdb-ce0b-4960-947e-8d966fd75f7a')\"\n",
              "            title=\"Convert this dataframe to an interactive table.\"\n",
              "            style=\"display:none;\">\n",
              "      \n",
              "  <svg xmlns=\"http://www.w3.org/2000/svg\" height=\"24px\" viewBox=\"0 -960 960 960\">\n",
              "    <path d=\"M120-120v-720h720v720H120Zm60-500h600v-160H180v160Zm220 220h160v-160H400v160Zm0 220h160v-160H400v160ZM180-400h160v-160H180v160Zm440 0h160v-160H620v160ZM180-180h160v-160H180v160Zm440 0h160v-160H620v160Z\"/>\n",
              "  </svg>\n",
              "    </button>\n",
              "    \n",
              "  <style>\n",
              "    .colab-df-container {\n",
              "      display:flex;\n",
              "      gap: 12px;\n",
              "    }\n",
              "\n",
              "    .colab-df-convert {\n",
              "      background-color: #E8F0FE;\n",
              "      border: none;\n",
              "      border-radius: 50%;\n",
              "      cursor: pointer;\n",
              "      display: none;\n",
              "      fill: #1967D2;\n",
              "      height: 32px;\n",
              "      padding: 0 0 0 0;\n",
              "      width: 32px;\n",
              "    }\n",
              "\n",
              "    .colab-df-convert:hover {\n",
              "      background-color: #E2EBFA;\n",
              "      box-shadow: 0px 1px 2px rgba(60, 64, 67, 0.3), 0px 1px 3px 1px rgba(60, 64, 67, 0.15);\n",
              "      fill: #174EA6;\n",
              "    }\n",
              "\n",
              "    .colab-df-buttons div {\n",
              "      margin-bottom: 4px;\n",
              "    }\n",
              "\n",
              "    [theme=dark] .colab-df-convert {\n",
              "      background-color: #3B4455;\n",
              "      fill: #D2E3FC;\n",
              "    }\n",
              "\n",
              "    [theme=dark] .colab-df-convert:hover {\n",
              "      background-color: #434B5C;\n",
              "      box-shadow: 0px 1px 3px 1px rgba(0, 0, 0, 0.15);\n",
              "      filter: drop-shadow(0px 1px 2px rgba(0, 0, 0, 0.3));\n",
              "      fill: #FFFFFF;\n",
              "    }\n",
              "  </style>\n",
              "\n",
              "    <script>\n",
              "      const buttonEl =\n",
              "        document.querySelector('#df-305b4cdb-ce0b-4960-947e-8d966fd75f7a button.colab-df-convert');\n",
              "      buttonEl.style.display =\n",
              "        google.colab.kernel.accessAllowed ? 'block' : 'none';\n",
              "\n",
              "      async function convertToInteractive(key) {\n",
              "        const element = document.querySelector('#df-305b4cdb-ce0b-4960-947e-8d966fd75f7a');\n",
              "        const dataTable =\n",
              "          await google.colab.kernel.invokeFunction('convertToInteractive',\n",
              "                                                    [key], {});\n",
              "        if (!dataTable) return;\n",
              "\n",
              "        const docLinkHtml = 'Like what you see? Visit the ' +\n",
              "          '<a target=\"_blank\" href=https://colab.research.google.com/notebooks/data_table.ipynb>data table notebook</a>'\n",
              "          + ' to learn more about interactive tables.';\n",
              "        element.innerHTML = '';\n",
              "        dataTable['output_type'] = 'display_data';\n",
              "        await google.colab.output.renderOutput(dataTable, element);\n",
              "        const docLink = document.createElement('div');\n",
              "        docLink.innerHTML = docLinkHtml;\n",
              "        element.appendChild(docLink);\n",
              "      }\n",
              "    </script>\n",
              "  </div>\n",
              "  \n",
              "    </div>\n",
              "  </div>\n",
              "  "
            ]
          },
          "metadata": {},
          "execution_count": 3
        }
      ],
      "source": [
        "brains = pd.DataFrame.from_dict({\n",
        "    \"species\": [\n",
        "        \"afarensis\",\n",
        "        \"africanus\",\n",
        "        \"habilis\",\n",
        "        \"boisei\",\n",
        "        \"rudolfensis\",\n",
        "        \"ergaster\",\n",
        "        \"sapiens\"],\n",
        "    \"brain\": [438, 452, 612, 521, 752, 871, 1350],  # volume in cc\n",
        "    \"mass\": [37.0, 35.5, 34.5, 41.5, 55.5, 61.0, 53.5]})  # mass in kg\n",
        "\n",
        "brains"
      ]
    },
    {
      "cell_type": "code",
      "execution_count": 4,
      "id": "54288034",
      "metadata": {
        "colab": {
          "base_uri": "https://localhost:8080/",
          "height": 542
        },
        "id": "54288034",
        "outputId": "298b165c-9315-48e4-c5d1-3631c7fdec5d"
      },
      "outputs": [
        {
          "output_type": "display_data",
          "data": {
            "text/plain": [
              "<Figure size 800x600 with 1 Axes>"
            ],
            "image/png": "[encoded data removed]"
          },
          "metadata": {}
        }
      ],
      "source": [
        "# Figure 7.2\n",
        "\n",
        "plt.figure(figsize=(8, 6))\n",
        "plt.scatter(brains.mass, brains.brain)\n",
        "\n",
        "# point labels\n",
        "for i, r in brains.iterrows():\n",
        "    if r.species == \"afarensis\":\n",
        "        plt.text(r.mass + 0.5, r.brain, r.species, ha=\"left\", va=\"center\")\n",
        "    elif r.species == \"sapiens\":\n",
        "        plt.text(r.mass, r.brain - 25, r.species, ha=\"center\", va=\"top\")\n",
        "    else:\n",
        "        plt.text(r.mass, r.brain + 25, r.species, ha=\"center\")\n",
        "\n",
        "plt.xlabel(\"body mass (kg)\")\n",
        "plt.ylabel(\"brain volume (cc)\");"
      ]
    },
    {
      "cell_type": "markdown",
      "id": "98e80b4b",
      "metadata": {
        "id": "98e80b4b"
      },
      "source": [
        "#### Code 7.2: Standardize data"
      ]
    },
    {
      "cell_type": "code",
      "execution_count": 5,
      "id": "b0f5593e",
      "metadata": {
        "id": "b0f5593e",
        "outputId": "c51d1bda-f49c-4b2b-86bf-fa484479b2d2",
        "colab": {
          "base_uri": "https://localhost:8080/",
          "height": 269
        }
      },
      "outputs": [
        {
          "output_type": "execute_result",
          "data": {
            "text/plain": [
              "       species  brain  mass  mass_std  brain_std\n",
              "0    afarensis    438  37.0 -0.779467   0.324444\n",
              "1    africanus    452  35.5 -0.917020   0.334815\n",
              "2      habilis    612  34.5 -1.008722   0.453333\n",
              "3       boisei    521  41.5 -0.366808   0.385926\n",
              "4  rudolfensis    752  55.5  0.917020   0.557037\n",
              "5     ergaster    871  61.0  1.421380   0.645185\n",
              "6      sapiens   1350  53.5  0.733616   1.000000"
            ],
            "text/html": [
              "\n",
              "  <div id=\"df-0948355a-f7b4-469f-89e3-1b0505bbe105\" class=\"colab-df-container\">\n",
              "    <div>\n",
              "<style scoped>\n",
              "    .dataframe tbody tr th:only-of-type {\n",
              "        vertical-align: middle;\n",
              "    }\n",
              "\n",
              "    .dataframe tbody tr th {\n",
              "        vertical-align: top;\n",
              "    }\n",
              "\n",
              "    .dataframe thead th {\n",
              "        text-align: right;\n",
              "    }\n",
              "</style>\n",
              "<table border=\"1\" class=\"dataframe\">\n",
              "  <thead>\n",
              "    <tr style=\"text-align: right;\">\n",
              "      <th></th>\n",
              "      <th>species</th>\n",
              "      <th>brain</th>\n",
              "      <th>mass</th>\n",
              "      <th>mass_std</th>\n",
              "      <th>brain_std</th>\n",
              "    </tr>\n",
              "  </thead>\n",
              "  <tbody>\n",
              "    <tr>\n",
              "      <th>0</th>\n",
              "      <td>afarensis</td>\n",
              "      <td>438</td>\n",
              "      <td>37.0</td>\n",
              "      <td>-0.779467</td>\n",
              "      <td>0.324444</td>\n",
              "    </tr>\n",
              "    <tr>\n",
              "      <th>1</th>\n",
              "      <td>africanus</td>\n",
              "      <td>452</td>\n",
              "      <td>35.5</td>\n",
              "      <td>-0.917020</td>\n",
              "      <td>0.334815</td>\n",
              "    </tr>\n",
              "    <tr>\n",
              "      <th>2</th>\n",
              "      <td>habilis</td>\n",
              "      <td>612</td>\n",
              "      <td>34.5</td>\n",
              "      <td>-1.008722</td>\n",
              "      <td>0.453333</td>\n",
              "    </tr>\n",
              "    <tr>\n",
              "      <th>3</th>\n",
              "      <td>boisei</td>\n",
              "      <td>521</td>\n",
              "      <td>41.5</td>\n",
              "      <td>-0.366808</td>\n",
              "      <td>0.385926</td>\n",
              "    </tr>\n",
              "    <tr>\n",
              "      <th>4</th>\n",
              "      <td>rudolfensis</td>\n",
              "      <td>752</td>\n",
              "      <td>55.5</td>\n",
              "      <td>0.917020</td>\n",
              "      <td>0.557037</td>\n",
              "    </tr>\n",
              "    <tr>\n",
              "      <th>5</th>\n",
              "      <td>ergaster</td>\n",
              "      <td>871</td>\n",
              "      <td>61.0</td>\n",
              "      <td>1.421380</td>\n",
              "      <td>0.645185</td>\n",
              "    </tr>\n",
              "    <tr>\n",
              "      <th>6</th>\n",
              "      <td>sapiens</td>\n",
              "      <td>1350</td>\n",
              "      <td>53.5</td>\n",
              "      <td>0.733616</td>\n",
              "      <td>1.000000</td>\n",
              "    </tr>\n",
              "  </tbody>\n",
              "</table>\n",
              "</div>\n",
              "    <div class=\"colab-df-buttons\">\n",
              "      \n",
              "  <div class=\"colab-df-container\">\n",
              "    <button class=\"colab-df-convert\" onclick=\"convertToInteractive('df-0948355a-f7b4-469f-89e3-1b0505bbe105')\"\n",
              "            title=\"Convert this dataframe to an interactive table.\"\n",
              "            style=\"display:none;\">\n",
              "      \n",
              "  <svg xmlns=\"http://www.w3.org/2000/svg\" height=\"24px\" viewBox=\"0 -960 960 960\">\n",
              "    <path d=\"M120-120v-720h720v720H120Zm60-500h600v-160H180v160Zm220 220h160v-160H400v160Zm0 220h160v-160H400v160ZM180-400h160v-160H180v160Zm440 0h160v-160H620v160ZM180-180h160v-160H180v160Zm440 0h160v-160H620v160Z\"/>\n",
              "  </svg>\n",
              "    </button>\n",
              "    \n",
              "  <style>\n",
              "    .colab-df-container {\n",
              "      display:flex;\n",
              "      gap: 12px;\n",
              "    }\n",
              "\n",
              "    .colab-df-convert {\n",
              "      background-color: #E8F0FE;\n",
              "      border: none;\n",
              "      border-radius: 50%;\n",
              "      cursor: pointer;\n",
              "      display: none;\n",
              "      fill: #1967D2;\n",
              "      height: 32px;\n",
              "      padding: 0 0 0 0;\n",
              "      width: 32px;\n",
              "    }\n",
              "\n",
              "    .colab-df-convert:hover {\n",
              "      background-color: #E2EBFA;\n",
              "      box-shadow: 0px 1px 2px rgba(60, 64, 67, 0.3), 0px 1px 3px 1px rgba(60, 64, 67, 0.15);\n",
              "      fill: #174EA6;\n",
              "    }\n",
              "\n",
              "    .colab-df-buttons div {\n",
              "      margin-bottom: 4px;\n",
              "    }\n",
              "\n",
              "    [theme=dark] .colab-df-convert {\n",
              "      background-color: #3B4455;\n",
              "      fill: #D2E3FC;\n",
              "    }\n",
              "\n",
              "    [theme=dark] .colab-df-convert:hover {\n",
              "      background-color: #434B5C;\n",
              "      box-shadow: 0px 1px 3px 1px rgba(0, 0, 0, 0.15);\n",
              "      filter: drop-shadow(0px 1px 2px rgba(0, 0, 0, 0.3));\n",
              "      fill: #FFFFFF;\n",
              "    }\n",
              "  </style>\n",
              "\n",
              "    <script>\n",
              "      const buttonEl =\n",
              "        document.querySelector('#df-0948355a-f7b4-469f-89e3-1b0505bbe105 button.colab-df-convert');\n",
              "      buttonEl.style.display =\n",
              "        google.colab.kernel.accessAllowed ? 'block' : 'none';\n",
              "\n",
              "      async function convertToInteractive(key) {\n",
              "        const element = document.querySelector('#df-0948355a-f7b4-469f-89e3-1b0505bbe105');\n",
              "        const dataTable =\n",
              "          await google.colab.kernel.invokeFunction('convertToInteractive',\n",
              "                                                    [key], {});\n",
              "        if (!dataTable) return;\n",
              "\n",
              "        const docLinkHtml = 'Like what you see? Visit the ' +\n",
              "          '<a target=\"_blank\" href=https://colab.research.google.com/notebooks/data_table.ipynb>data table notebook</a>'\n",
              "          + ' to learn more about interactive tables.';\n",
              "        element.innerHTML = '';\n",
              "        dataTable['output_type'] = 'display_data';\n",
              "        await google.colab.output.renderOutput(dataTable, element);\n",
              "        const docLink = document.createElement('div');\n",
              "        docLink.innerHTML = docLinkHtml;\n",
              "        element.appendChild(docLink);\n",
              "      }\n",
              "    </script>\n",
              "  </div>\n",
              "  \n",
              "    </div>\n",
              "  </div>\n",
              "  "
            ]
          },
          "metadata": {},
          "execution_count": 5
        }
      ],
      "source": [
        "brains.loc[:, \"mass_std\"] = (\n",
        "    (brains.loc[:, \"mass\"] - brains.loc[:, \"mass\"].mean()) /\n",
        "    brains.loc[:, \"mass\"].std())\n",
        "brains.loc[:, \"brain_std\"] = (\n",
        "    brains.loc[:, \"brain\"] / brains.loc[:, \"brain\"].max())\n",
        "\n",
        "brains"
      ]
    },
    {
      "cell_type": "markdown",
      "id": "b53f589c",
      "metadata": {
        "id": "b53f589c"
      },
      "source": [
        "#### Code 7.3: Fit the model"
      ]
    },
    {
      "cell_type": "code",
      "execution_count": 6,
      "id": "c5b4b444",
      "metadata": {
        "colab": {
          "base_uri": "https://localhost:8080/",
          "height": 507
        },
        "id": "c5b4b444",
        "outputId": "c341325d-c655-4689-b0d2-1f5962ca47dd"
      },
      "outputs": [
        {
          "output_type": "stream",
          "name": "stderr",
          "text": [
            "/usr/local/lib/python3.12/dist-packages/statsmodels/stats/stattools.py:74: ValueWarning: omni_normtest is not valid with less than 8 observations; 7 samples were given.\n",
            "  warn(\"omni_normtest is not valid with less than 8 observations; %i \"\n"
          ]
        },
        {
          "output_type": "execute_result",
          "data": {
            "text/plain": [
              "<class 'statsmodels.iolib.summary.Summary'>\n",
              "\"\"\"\n",
              "                            OLS Regression Results                            \n",
              "==============================================================================\n",
              "Dep. Variable:              brain_std   R-squared:                       0.490\n",
              "Model:                            OLS   Adj. R-squared:                  0.388\n",
              "Method:                 Least Squares   F-statistic:                     4.807\n",
              "Date:                Wed, 08 Oct 2025   Prob (F-statistic):             0.0798\n",
              "Time:                        12:57:58   Log-Likelihood:                 2.9925\n",
              "No. Observations:                   7   AIC:                            -1.985\n",
              "Df Residuals:                       5   BIC:                            -2.093\n",
              "Df Model:                           1                                         \n",
              "Covariance Type:            nonrobust                                         \n",
              "==============================================================================\n",
              "                 coef    std err          t      P>|t|      [0.025      0.975]\n",
              "------------------------------------------------------------------------------\n",
              "Intercept      0.5287      0.071      7.492      0.001       0.347       0.710\n",
              "mass_std       0.1671      0.076      2.192      0.080      -0.029       0.363\n",
              "==============================================================================\n",
              "Omnibus:                          nan   Durbin-Watson:                   1.561\n",
              "Prob(Omnibus):                    nan   Jarque-Bera (JB):                2.372\n",
              "Skew:                           1.399   Prob(JB):                        0.305\n",
              "Kurtosis:                       3.548   Cond. No.                         1.08\n",
              "==============================================================================\n",
              "\n",
              "Notes:\n",
              "[1] Standard Errors assume that the covariance matrix of the errors is correctly specified.\n",
              "\"\"\""
            ],
            "text/html": [
              "<table class=\"simpletable\">\n",
              "<caption>OLS Regression Results</caption>\n",
              "<tr>\n",
              "  <th>Dep. Variable:</th>        <td>brain_std</td>    <th>  R-squared:         </th> <td>   0.490</td>\n",
              "</tr>\n",
              "<tr>\n",
              "  <th>Model:</th>                   <td>OLS</td>       <th>  Adj. R-squared:    </th> <td>   0.388</td>\n",
              "</tr>\n",
              "<tr>\n",
              "  <th>Method:</th>             <td>Least Squares</td>  <th>  F-statistic:       </th> <td>   4.807</td>\n",
              "</tr>\n",
              "<tr>\n",
              "  <th>Date:</th>             <td>Wed, 08 Oct 2025</td> <th>  Prob (F-statistic):</th>  <td>0.0798</td> \n",
              "</tr>\n",
              "<tr>\n",
              "  <th>Time:</th>                 <td>12:57:58</td>     <th>  Log-Likelihood:    </th> <td>  2.9925</td>\n",
              "</tr>\n",
              "<tr>\n",
              "  <th>No. Observations:</th>      <td>     7</td>      <th>  AIC:               </th> <td>  -1.985</td>\n",
              "</tr>\n",
              "<tr>\n",
              "  <th>Df Residuals:</th>          <td>     5</td>      <th>  BIC:               </th> <td>  -2.093</td>\n",
              "</tr>\n",
              "<tr>\n",
              "  <th>Df Model:</th>              <td>     1</td>      <th>                     </th>     <td> </td>   \n",
              "</tr>\n",
              "<tr>\n",
              "  <th>Covariance Type:</th>      <td>nonrobust</td>    <th>                     </th>     <td> </td>   \n",
              "</tr>\n",
              "</table>\n",
              "<table class=\"simpletable\">\n",
              "<tr>\n",
              "      <td></td>         <th>coef</th>     <th>std err</th>      <th>t</th>      <th>P>|t|</th>  <th>[0.025</th>    <th>0.975]</th>  \n",
              "</tr>\n",
              "<tr>\n",
              "  <th>Intercept</th> <td>    0.5287</td> <td>    0.071</td> <td>    7.492</td> <td> 0.001</td> <td>    0.347</td> <td>    0.710</td>\n",
              "</tr>\n",
              "<tr>\n",
              "  <th>mass_std</th>  <td>    0.1671</td> <td>    0.076</td> <td>    2.192</td> <td> 0.080</td> <td>   -0.029</td> <td>    0.363</td>\n",
              "</tr>\n",
              "</table>\n",
              "<table class=\"simpletable\">\n",
              "<tr>\n",
              "  <th>Omnibus:</th>       <td>   nan</td> <th>  Durbin-Watson:     </th> <td>   1.561</td>\n",
              "</tr>\n",
              "<tr>\n",
              "  <th>Prob(Omnibus):</th> <td>   nan</td> <th>  Jarque-Bera (JB):  </th> <td>   2.372</td>\n",
              "</tr>\n",
              "<tr>\n",
              "  <th>Skew:</th>          <td> 1.399</td> <th>  Prob(JB):          </th> <td>   0.305</td>\n",
              "</tr>\n",
              "<tr>\n",
              "  <th>Kurtosis:</th>      <td> 3.548</td> <th>  Cond. No.          </th> <td>    1.08</td>\n",
              "</tr>\n",
              "</table><br/><br/>Notes:<br/>[1] Standard Errors assume that the covariance matrix of the errors is correctly specified."
            ],
            "text/latex": "\\begin{center}\n\\begin{tabular}{lclc}\n\\toprule\n\\textbf{Dep. Variable:}    &    brain\\_std    & \\textbf{  R-squared:         } &     0.490   \\\\\n\\textbf{Model:}            &       OLS        & \\textbf{  Adj. R-squared:    } &     0.388   \\\\\n\\textbf{Method:}           &  Least Squares   & \\textbf{  F-statistic:       } &     4.807   \\\\\n\\textbf{Date:}             & Wed, 08 Oct 2025 & \\textbf{  Prob (F-statistic):} &   0.0798    \\\\\n\\textbf{Time:}             &     12:57:58     & \\textbf{  Log-Likelihood:    } &    2.9925   \\\\\n\\textbf{No. Observations:} &           7      & \\textbf{  AIC:               } &    -1.985   \\\\\n\\textbf{Df Residuals:}     &           5      & \\textbf{  BIC:               } &    -2.093   \\\\\n\\textbf{Df Model:}         &           1      & \\textbf{                     } &             \\\\\n\\textbf{Covariance Type:}  &    nonrobust     & \\textbf{                     } &             \\\\\n\\bottomrule\n\\end{tabular}\n\\begin{tabular}{lcccccc}\n                   & \\textbf{coef} & \\textbf{std err} & \\textbf{t} & \\textbf{P$> |$t$|$} & \\textbf{[0.025} & \\textbf{0.975]}  \\\\\n\\midrule\n\\textbf{Intercept} &       0.5287  &        0.071     &     7.492  &         0.001        &        0.347    &        0.710     \\\\\n\\textbf{mass\\_std} &       0.1671  &        0.076     &     2.192  &         0.080        &       -0.029    &        0.363     \\\\\n\\bottomrule\n\\end{tabular}\n\\begin{tabular}{lclc}\n\\textbf{Omnibus:}       &    nan & \\textbf{  Durbin-Watson:     } &    1.561  \\\\\n\\textbf{Prob(Omnibus):} &    nan & \\textbf{  Jarque-Bera (JB):  } &    2.372  \\\\\n\\textbf{Skew:}          &  1.399 & \\textbf{  Prob(JB):          } &    0.305  \\\\\n\\textbf{Kurtosis:}      &  3.548 & \\textbf{  Cond. No.          } &     1.08  \\\\\n\\bottomrule\n\\end{tabular}\n%\\caption{OLS Regression Results}\n\\end{center}\n\nNotes: \\newline\n [1] Standard Errors assume that the covariance matrix of the errors is correctly specified."
          },
          "metadata": {},
          "execution_count": 6
        }
      ],
      "source": [
        "m_7_1 = smf.ols(\"brain_std ~ mass_std\", data=brains).fit()\n",
        "m_7_1.summary()"
      ]
    },
    {
      "cell_type": "markdown",
      "id": "c79247f9",
      "metadata": {
        "id": "c79247f9"
      },
      "source": [
        "#### Code 7.4: Ordinary least squares fit"
      ]
    },
    {
      "cell_type": "code",
      "execution_count": 7,
      "id": "74fc21ce",
      "metadata": {
        "colab": {
          "base_uri": "https://localhost:8080/",
          "height": 112
        },
        "id": "74fc21ce",
        "outputId": "0cc41f7f-0c9b-4fc2-c24a-5082ad08a01f"
      },
      "outputs": [
        {
          "output_type": "execute_result",
          "data": {
            "text/plain": [
              "    mean     sd  hdi_5.5%  hdi_94.5%\n",
              "a  0.529  0.071     0.414      0.638\n",
              "b  0.170  0.077     0.041      0.282"
            ],
            "text/html": [
              "\n",
              "  <div id=\"df-2752d272-a1a8-4e8f-8239-27e1ead0dc06\" class=\"colab-df-container\">\n",
              "    <div>\n",
              "<style scoped>\n",
              "    .dataframe tbody tr th:only-of-type {\n",
              "        vertical-align: middle;\n",
              "    }\n",
              "\n",
              "    .dataframe tbody tr th {\n",
              "        vertical-align: top;\n",
              "    }\n",
              "\n",
              "    .dataframe thead th {\n",
              "        text-align: right;\n",
              "    }\n",
              "</style>\n",
              "<table border=\"1\" class=\"dataframe\">\n",
              "  <thead>\n",
              "    <tr style=\"text-align: right;\">\n",
              "      <th></th>\n",
              "      <th>mean</th>\n",
              "      <th>sd</th>\n",
              "      <th>hdi_5.5%</th>\n",
              "      <th>hdi_94.5%</th>\n",
              "    </tr>\n",
              "  </thead>\n",
              "  <tbody>\n",
              "    <tr>\n",
              "      <th>a</th>\n",
              "      <td>0.529</td>\n",
              "      <td>0.071</td>\n",
              "      <td>0.414</td>\n",
              "      <td>0.638</td>\n",
              "    </tr>\n",
              "    <tr>\n",
              "      <th>b</th>\n",
              "      <td>0.170</td>\n",
              "      <td>0.077</td>\n",
              "      <td>0.041</td>\n",
              "      <td>0.282</td>\n",
              "    </tr>\n",
              "  </tbody>\n",
              "</table>\n",
              "</div>\n",
              "    <div class=\"colab-df-buttons\">\n",
              "      \n",
              "  <div class=\"colab-df-container\">\n",
              "    <button class=\"colab-df-convert\" onclick=\"convertToInteractive('df-2752d272-a1a8-4e8f-8239-27e1ead0dc06')\"\n",
              "            title=\"Convert this dataframe to an interactive table.\"\n",
              "            style=\"display:none;\">\n",
              "      \n",
              "  <svg xmlns=\"http://www.w3.org/2000/svg\" height=\"24px\" viewBox=\"0 -960 960 960\">\n",
              "    <path d=\"M120-120v-720h720v720H120Zm60-500h600v-160H180v160Zm220 220h160v-160H400v160Zm0 220h160v-160H400v160ZM180-400h160v-160H180v160Zm440 0h160v-160H620v160ZM180-180h160v-160H180v160Zm440 0h160v-160H620v160Z\"/>\n",
              "  </svg>\n",
              "    </button>\n",
              "    \n",
              "  <style>\n",
              "    .colab-df-container {\n",
              "      display:flex;\n",
              "      gap: 12px;\n",
              "    }\n",
              "\n",
              "    .colab-df-convert {\n",
              "      background-color: #E8F0FE;\n",
              "      border: none;\n",
              "      border-radius: 50%;\n",
              "      cursor: pointer;\n",
              "      display: none;\n",
              "      fill: #1967D2;\n",
              "      height: 32px;\n",
              "      padding: 0 0 0 0;\n",
              "      width: 32px;\n",
              "    }\n",
              "\n",
              "    .colab-df-convert:hover {\n",
              "      background-color: #E2EBFA;\n",
              "      box-shadow: 0px 1px 2px rgba(60, 64, 67, 0.3), 0px 1px 3px 1px rgba(60, 64, 67, 0.15);\n",
              "      fill: #174EA6;\n",
              "    }\n",
              "\n",
              "    .colab-df-buttons div {\n",
              "      margin-bottom: 4px;\n",
              "    }\n",
              "\n",
              "    [theme=dark] .colab-df-convert {\n",
              "      background-color: #3B4455;\n",
              "      fill: #D2E3FC;\n",
              "    }\n",
              "\n",
              "    [theme=dark] .colab-df-convert:hover {\n",
              "      background-color: #434B5C;\n",
              "      box-shadow: 0px 1px 3px 1px rgba(0, 0, 0, 0.15);\n",
              "      filter: drop-shadow(0px 1px 2px rgba(0, 0, 0, 0.3));\n",
              "      fill: #FFFFFF;\n",
              "    }\n",
              "  </style>\n",
              "\n",
              "    <script>\n",
              "      const buttonEl =\n",
              "        document.querySelector('#df-2752d272-a1a8-4e8f-8239-27e1ead0dc06 button.colab-df-convert');\n",
              "      buttonEl.style.display =\n",
              "        google.colab.kernel.accessAllowed ? 'block' : 'none';\n",
              "\n",
              "      async function convertToInteractive(key) {\n",
              "        const element = document.querySelector('#df-2752d272-a1a8-4e8f-8239-27e1ead0dc06');\n",
              "        const dataTable =\n",
              "          await google.colab.kernel.invokeFunction('convertToInteractive',\n",
              "                                                    [key], {});\n",
              "        if (!dataTable) return;\n",
              "\n",
              "        const docLinkHtml = 'Like what you see? Visit the ' +\n",
              "          '<a target=\"_blank\" href=https://colab.research.google.com/notebooks/data_table.ipynb>data table notebook</a>'\n",
              "          + ' to learn more about interactive tables.';\n",
              "        element.innerHTML = '';\n",
              "        dataTable['output_type'] = 'display_data';\n",
              "        await google.colab.output.renderOutput(dataTable, element);\n",
              "        const docLink = document.createElement('div');\n",
              "        docLink.innerHTML = docLinkHtml;\n",
              "        element.appendChild(docLink);\n",
              "      }\n",
              "    </script>\n",
              "  </div>\n",
              "  \n",
              "    </div>\n",
              "  </div>\n",
              "  "
            ]
          },
          "metadata": {},
          "execution_count": 7
        }
      ],
      "source": [
        "p, cov = np.polyfit(\n",
        "    brains.loc[:, \"mass_std\"],\n",
        "    brains.loc[:, \"brain_std\"],\n",
        "    1, cov=True)\n",
        "post = stats.multivariate_normal(p, cov).rvs(1000)\n",
        "az.summary({k: v for k, v in zip(\"ba\", post.T)}, kind=\"stats\")"
      ]
    },
    {
      "cell_type": "markdown",
      "id": "a3cbefbe",
      "metadata": {
        "id": "a3cbefbe"
      },
      "source": [
        "#### Code 7.5: Compute $R^2$"
      ]
    },
    {
      "cell_type": "code",
      "execution_count": 8,
      "id": "61949a10",
      "metadata": {
        "colab": {
          "base_uri": "https://localhost:8080/"
        },
        "id": "61949a10",
        "outputId": "90324f51-a898-4346-e062-bd928cfdec39"
      },
      "outputs": [
        {
          "output_type": "execute_result",
          "data": {
            "text/plain": [
              "0.490158047949084"
            ]
          },
          "metadata": {},
          "execution_count": 8
        }
      ],
      "source": [
        "1 - m_7_1.resid.var() / brains.brain_std.var()"
      ]
    },
    {
      "cell_type": "markdown",
      "id": "207abc42",
      "metadata": {
        "id": "207abc42"
      },
      "source": [
        "#### Code 7.6: Make $R^2$ function"
      ]
    },
    {
      "cell_type": "code",
      "execution_count": 9,
      "id": "8aa490f0",
      "metadata": {
        "colab": {
          "base_uri": "https://localhost:8080/"
        },
        "id": "8aa490f0",
        "outputId": "4e06910d-2ae2-40c7-d0fc-49d90a41a9dd"
      },
      "outputs": [
        {
          "output_type": "execute_result",
          "data": {
            "text/plain": [
              "0.490158047949084"
            ]
          },
          "metadata": {},
          "execution_count": 9
        }
      ],
      "source": [
        "def R2_is_bad(model):\n",
        "    return 1 - model.resid.var() / brains.brain_std.var()\n",
        "\n",
        "R2_is_bad(m_7_1)"
      ]
    },
    {
      "cell_type": "markdown",
      "id": "363806f8",
      "metadata": {
        "id": "363806f8"
      },
      "source": [
        "#### Code 7.7: Fit quadratic model"
      ]
    },
    {
      "cell_type": "code",
      "execution_count": 10,
      "id": "75c3bbcc",
      "metadata": {
        "colab": {
          "base_uri": "https://localhost:8080/",
          "height": 529
        },
        "id": "75c3bbcc",
        "outputId": "96dd0cbd-3ffa-41b0-fca3-5530ff201eba"
      },
      "outputs": [
        {
          "output_type": "stream",
          "name": "stderr",
          "text": [
            "/usr/local/lib/python3.12/dist-packages/statsmodels/stats/stattools.py:74: ValueWarning: omni_normtest is not valid with less than 8 observations; 7 samples were given.\n",
            "  warn(\"omni_normtest is not valid with less than 8 observations; %i \"\n"
          ]
        },
        {
          "output_type": "execute_result",
          "data": {
            "text/plain": [
              "<class 'statsmodels.iolib.summary.Summary'>\n",
              "\"\"\"\n",
              "                            OLS Regression Results                            \n",
              "==============================================================================\n",
              "Dep. Variable:              brain_std   R-squared:                       0.536\n",
              "Model:                            OLS   Adj. R-squared:                  0.304\n",
              "Method:                 Least Squares   F-statistic:                     2.310\n",
              "Date:                Wed, 08 Oct 2025   Prob (F-statistic):              0.215\n",
              "Time:                        12:57:59   Log-Likelihood:                 3.3223\n",
              "No. Observations:                   7   AIC:                           -0.6445\n",
              "Df Residuals:                       4   BIC:                           -0.8068\n",
              "Df Model:                           2                                         \n",
              "Covariance Type:            nonrobust                                         \n",
              "====================================================================================\n",
              "                       coef    std err          t      P>|t|      [0.025      0.975]\n",
              "------------------------------------------------------------------------------------\n",
              "Intercept            0.6142      0.155      3.950      0.017       0.182       1.046\n",
              "mass_std             0.1957      0.093      2.101      0.104      -0.063       0.454\n",
              "I(mass_std ** 2)    -0.0998      0.159     -0.629      0.564      -0.540       0.341\n",
              "==============================================================================\n",
              "Omnibus:                          nan   Durbin-Watson:                   1.479\n",
              "Prob(Omnibus):                    nan   Jarque-Bera (JB):                1.016\n",
              "Skew:                           0.901   Prob(JB):                        0.602\n",
              "Kurtosis:                       2.514   Cond. No.                         4.04\n",
              "==============================================================================\n",
              "\n",
              "Notes:\n",
              "[1] Standard Errors assume that the covariance matrix of the errors is correctly specified.\n",
              "\"\"\""
            ],
            "text/html": [
              "<table class=\"simpletable\">\n",
              "<caption>OLS Regression Results</caption>\n",
              "<tr>\n",
              "  <th>Dep. Variable:</th>        <td>brain_std</td>    <th>  R-squared:         </th> <td>   0.536</td>\n",
              "</tr>\n",
              "<tr>\n",
              "  <th>Model:</th>                   <td>OLS</td>       <th>  Adj. R-squared:    </th> <td>   0.304</td>\n",
              "</tr>\n",
              "<tr>\n",
              "  <th>Method:</th>             <td>Least Squares</td>  <th>  F-statistic:       </th> <td>   2.310</td>\n",
              "</tr>\n",
              "<tr>\n",
              "  <th>Date:</th>             <td>Wed, 08 Oct 2025</td> <th>  Prob (F-statistic):</th>  <td> 0.215</td> \n",
              "</tr>\n",
              "<tr>\n",
              "  <th>Time:</th>                 <td>12:57:59</td>     <th>  Log-Likelihood:    </th> <td>  3.3223</td>\n",
              "</tr>\n",
              "<tr>\n",
              "  <th>No. Observations:</th>      <td>     7</td>      <th>  AIC:               </th> <td> -0.6445</td>\n",
              "</tr>\n",
              "<tr>\n",
              "  <th>Df Residuals:</th>          <td>     4</td>      <th>  BIC:               </th> <td> -0.8068</td>\n",
              "</tr>\n",
              "<tr>\n",
              "  <th>Df Model:</th>              <td>     2</td>      <th>                     </th>     <td> </td>   \n",
              "</tr>\n",
              "<tr>\n",
              "  <th>Covariance Type:</th>      <td>nonrobust</td>    <th>                     </th>     <td> </td>   \n",
              "</tr>\n",
              "</table>\n",
              "<table class=\"simpletable\">\n",
              "<tr>\n",
              "          <td></td>            <th>coef</th>     <th>std err</th>      <th>t</th>      <th>P>|t|</th>  <th>[0.025</th>    <th>0.975]</th>  \n",
              "</tr>\n",
              "<tr>\n",
              "  <th>Intercept</th>        <td>    0.6142</td> <td>    0.155</td> <td>    3.950</td> <td> 0.017</td> <td>    0.182</td> <td>    1.046</td>\n",
              "</tr>\n",
              "<tr>\n",
              "  <th>mass_std</th>         <td>    0.1957</td> <td>    0.093</td> <td>    2.101</td> <td> 0.104</td> <td>   -0.063</td> <td>    0.454</td>\n",
              "</tr>\n",
              "<tr>\n",
              "  <th>I(mass_std ** 2)</th> <td>   -0.0998</td> <td>    0.159</td> <td>   -0.629</td> <td> 0.564</td> <td>   -0.540</td> <td>    0.341</td>\n",
              "</tr>\n",
              "</table>\n",
              "<table class=\"simpletable\">\n",
              "<tr>\n",
              "  <th>Omnibus:</th>       <td>   nan</td> <th>  Durbin-Watson:     </th> <td>   1.479</td>\n",
              "</tr>\n",
              "<tr>\n",
              "  <th>Prob(Omnibus):</th> <td>   nan</td> <th>  Jarque-Bera (JB):  </th> <td>   1.016</td>\n",
              "</tr>\n",
              "<tr>\n",
              "  <th>Skew:</th>          <td> 0.901</td> <th>  Prob(JB):          </th> <td>   0.602</td>\n",
              "</tr>\n",
              "<tr>\n",
              "  <th>Kurtosis:</th>      <td> 2.514</td> <th>  Cond. No.          </th> <td>    4.04</td>\n",
              "</tr>\n",
              "</table><br/><br/>Notes:<br/>[1] Standard Errors assume that the covariance matrix of the errors is correctly specified."
            ],
            "text/latex": "\\begin{center}\n\\begin{tabular}{lclc}\n\\toprule\n\\textbf{Dep. Variable:}    &    brain\\_std    & \\textbf{  R-squared:         } &     0.536   \\\\\n\\textbf{Model:}            &       OLS        & \\textbf{  Adj. R-squared:    } &     0.304   \\\\\n\\textbf{Method:}           &  Least Squares   & \\textbf{  F-statistic:       } &     2.310   \\\\\n\\textbf{Date:}             & Wed, 08 Oct 2025 & \\textbf{  Prob (F-statistic):} &    0.215    \\\\\n\\textbf{Time:}             &     12:57:59     & \\textbf{  Log-Likelihood:    } &    3.3223   \\\\\n\\textbf{No. Observations:} &           7      & \\textbf{  AIC:               } &   -0.6445   \\\\\n\\textbf{Df Residuals:}     &           4      & \\textbf{  BIC:               } &   -0.8068   \\\\\n\\textbf{Df Model:}         &           2      & \\textbf{                     } &             \\\\\n\\textbf{Covariance Type:}  &    nonrobust     & \\textbf{                     } &             \\\\\n\\bottomrule\n\\end{tabular}\n\\begin{tabular}{lcccccc}\n                           & \\textbf{coef} & \\textbf{std err} & \\textbf{t} & \\textbf{P$> |$t$|$} & \\textbf{[0.025} & \\textbf{0.975]}  \\\\\n\\midrule\n\\textbf{Intercept}         &       0.6142  &        0.155     &     3.950  &         0.017        &        0.182    &        1.046     \\\\\n\\textbf{mass\\_std}         &       0.1957  &        0.093     &     2.101  &         0.104        &       -0.063    &        0.454     \\\\\n\\textbf{I(mass\\_std ** 2)} &      -0.0998  &        0.159     &    -0.629  &         0.564        &       -0.540    &        0.341     \\\\\n\\bottomrule\n\\end{tabular}\n\\begin{tabular}{lclc}\n\\textbf{Omnibus:}       &    nan & \\textbf{  Durbin-Watson:     } &    1.479  \\\\\n\\textbf{Prob(Omnibus):} &    nan & \\textbf{  Jarque-Bera (JB):  } &    1.016  \\\\\n\\textbf{Skew:}          &  0.901 & \\textbf{  Prob(JB):          } &    0.602  \\\\\n\\textbf{Kurtosis:}      &  2.514 & \\textbf{  Cond. No.          } &     4.04  \\\\\n\\bottomrule\n\\end{tabular}\n%\\caption{OLS Regression Results}\n\\end{center}\n\nNotes: \\newline\n [1] Standard Errors assume that the covariance matrix of the errors is correctly specified."
          },
          "metadata": {},
          "execution_count": 10
        }
      ],
      "source": [
        "m_7_2 = smf.ols(\"brain_std ~ mass_std + I(mass_std**2)\", data=brains).fit()\n",
        "m_7_2.summary()"
      ]
    },
    {
      "cell_type": "markdown",
      "id": "305c9f05",
      "metadata": {
        "id": "305c9f05"
      },
      "source": [
        "#### Code 7.8: Fit degree 3–5 models"
      ]
    },
    {
      "cell_type": "code",
      "execution_count": 11,
      "id": "2765918d",
      "metadata": {
        "id": "2765918d"
      },
      "outputs": [],
      "source": [
        "m_7_3 = smf.ols(\n",
        "    \"brain_std ~ mass_std + I(mass_std**2) + I(mass_std**3)\",\n",
        "    data=brains).fit()\n",
        "m_7_4 = smf.ols(\n",
        "    \"brain_std ~ mass_std + I(mass_std**2) + I(mass_std**3) + I(mass_std**4)\",\n",
        "    data=brains,\n",
        ").fit()\n",
        "m_7_5 = smf.ols(\n",
        "    \"brain_std ~ mass_std + I(mass_std**2) + I(mass_std**3) + I(mass_std**4)\"\n",
        "    \" + I(mass_std**5)\",\n",
        "    data=brains,\n",
        ").fit()"
      ]
    },
    {
      "cell_type": "markdown",
      "id": "cdf1af39",
      "metadata": {
        "id": "cdf1af39"
      },
      "source": [
        "#### Code 7.9: Fit degree 6 model"
      ]
    },
    {
      "cell_type": "code",
      "execution_count": 12,
      "id": "9b10b228",
      "metadata": {
        "id": "9b10b228"
      },
      "outputs": [],
      "source": [
        "m_7_6 = smf.ols(\n",
        "    \"brain_std ~ mass_std + I(mass_std**2) + I(mass_std**3) + I(mass_std**4)\"\n",
        "    \" + I(mass_std**5) + I(mass_std**6)\",\n",
        "    data=brains,\n",
        ").fit()"
      ]
    },
    {
      "cell_type": "markdown",
      "id": "4d17a3fb",
      "metadata": {
        "id": "4d17a3fb"
      },
      "source": [
        "#### Code 7.10: Plot results\n",
        "\n",
        "The chapter gives code to produce the first panel of Figure 7.3. Here, produce the entire figure by looping over models 7.1-7.6."
      ]
    },
    {
      "cell_type": "code",
      "execution_count": 13,
      "id": "2ed04ff8",
      "metadata": {
        "colab": {
          "base_uri": "https://localhost:8080/",
          "height": 1000
        },
        "id": "2ed04ff8",
        "outputId": "a9a75587-c274-49e1-eb3f-df0d607269d9"
      },
      "outputs": [
        {
          "output_type": "stream",
          "name": "stderr",
          "text": [
            "/usr/local/lib/python3.12/dist-packages/statsmodels/regression/linear_model.py:1717: RuntimeWarning: divide by zero encountered in scalar divide\n",
            "  return np.dot(wresid, wresid) / self.df_resid\n"
          ]
        },
        {
          "output_type": "display_data",
          "data": {
            "text/plain": [
              "<Figure size 800x1120 with 6 Axes>"
            ],
            "image/png": "[encoded data removed]"
          },
          "metadata": {}
        }
      ],
      "source": [
        "models = [m_7_1, m_7_2, m_7_3, m_7_4, m_7_5, m_7_6]\n",
        "names = [\"m_7_1\", \"m_7_2\", \"m_7_3\", \"m_7_4\", \"m_7_5\", \"m_7_6\"]\n",
        "\n",
        "mass_plot = np.linspace(33, 62, 100)\n",
        "mass_new = (mass_plot - brains.mass.mean()) / brains.mass.std()\n",
        "\n",
        "fig, axs = plt.subplots(3, 2, figsize=[8, 11.2], sharex=True, sharey=\"row\")\n",
        "\n",
        "for model, name, ax in zip(models, names, axs.flat):\n",
        "    prediction = model.get_prediction({\"mass_std\": mass_new})\n",
        "    pred = prediction.summary_frame(alpha=0.11) * brains.brain.max()\n",
        "\n",
        "    ax.plot(mass_plot, pred[\"mean\"])\n",
        "    ax.fill_between(\n",
        "        mass_plot, pred[\"mean_ci_lower\"], pred[\"mean_ci_upper\"], alpha=0.3)\n",
        "    ax.scatter(brains.mass, brains.brain, color=\"C0\", s=15)\n",
        "\n",
        "    ax.set_title(\n",
        "        f\"{name}: $R^2$ = {model.rsquared:.2f}\", loc=\"left\", fontsize=11)\n",
        "\n",
        "    if ax.get_subplotspec().is_first_col():\n",
        "        ax.set_ylabel(\"brain volume (cc)\")\n",
        "\n",
        "    if ax.get_subplotspec().is_last_row():\n",
        "        ax.set_xlabel(\"body mass (kg)\")\n",
        "\n",
        "    if ax.get_subplotspec().is_last_row():\n",
        "        ax.set_ylim(-500, 2100)\n",
        "        ax.axhline(0, ls=\"dashed\", c=\"k\", lw=1)\n",
        "        ax.set_yticks([0, 450, 1300])\n",
        "    else:\n",
        "        ax.set_ylim(300, 1600)\n",
        "        ax.set_yticks([450, 900, 1300])\n",
        "\n",
        "fig.tight_layout()"
      ]
    },
    {
      "cell_type": "markdown",
      "id": "1007d133",
      "metadata": {
        "id": "1007d133"
      },
      "source": [
        "#### Code 7.11 This is R-specific notation for dropping rows"
      ]
    },
    {
      "cell_type": "code",
      "execution_count": 14,
      "id": "f3b9f953",
      "metadata": {
        "id": "f3b9f953"
      },
      "outputs": [],
      "source": [
        "brains_new = brains.drop(brains.index[-1])"
      ]
    },
    {
      "cell_type": "code",
      "execution_count": 15,
      "id": "7a83a0c6",
      "metadata": {
        "colab": {
          "base_uri": "https://localhost:8080/",
          "height": 414
        },
        "id": "7a83a0c6",
        "outputId": "6cb86e97-d774-49b3-d567-675e0e065d31"
      },
      "outputs": [
        {
          "output_type": "display_data",
          "data": {
            "text/plain": [
              "<Figure size 800x400 with 2 Axes>"
            ],
            "image/png": "[encoded data removed]"
          },
          "metadata": {}
        }
      ],
      "source": [
        "# Figure 7.4\n",
        "\n",
        "f, (ax1, ax2) = plt.subplots(1, 2, sharey=True, figsize=(8, 4))\n",
        "ax1.scatter(brains.mass, brains.brain, alpha=0.8)\n",
        "ax2.scatter(brains.mass, brains.brain, alpha=0.8)\n",
        "for i in range(len(brains)):\n",
        "    d_new = brains.drop(brains.index[-i])  # drop each data point in turn\n",
        "\n",
        "    # first order model\n",
        "    m0 = smf.ols(\"brain ~ mass\", d_new).fit()\n",
        "    # need to calculate regression line\n",
        "    # need to add intercept term explicitly\n",
        "    x = sm.add_constant(d_new.mass)  # add constant to new data frame with mass\n",
        "    x_pred = pd.DataFrame(\n",
        "        {\"mass\": np.linspace(x.mass.min() - 10, x.mass.max() + 10, 50)}\n",
        "    )  # create linspace dataframe\n",
        "    x_pred2 = sm.add_constant(x_pred)  # add constant to newly created linspace dataframe\n",
        "    y_pred = m0.predict(x_pred2)  # calculate predicted values\n",
        "    ax1.plot(x_pred, y_pred, \"gray\", alpha=0.5)\n",
        "    ax1.set_ylabel(\"body mass (kg)\", fontsize=12)\n",
        "    ax1.set_xlabel(\"brain volume (cc)\", fontsize=12)\n",
        "    ax1.set_title(\"Underfit model\")\n",
        "\n",
        "    # fifth order model\n",
        "    m1 = smf.ols(\n",
        "        \"brain ~ mass + I(mass**2) + I(mass**3) + I(mass**4) + I(mass**5)\", data=d_new\n",
        "    ).fit()\n",
        "    x = sm.add_constant(d_new.mass)  # add constant to new data frame with mass\n",
        "    x_pred = pd.DataFrame(\n",
        "        {\"mass\": np.linspace(x.mass.min() - 10, x.mass.max() + 10, 200)}\n",
        "    )  # create linspace dataframe\n",
        "    x_pred2 = sm.add_constant(x_pred)  # add constant to newly created linspace dataframe\n",
        "    y_pred = m1.predict(x_pred2)  # calculate predicted values from fitted model\n",
        "    ax2.plot(x_pred, y_pred, \"gray\", alpha=0.5)\n",
        "    ax2.set_xlim(32, 62)\n",
        "    ax2.set_ylim(-250, 2200)\n",
        "    ax2.set_ylabel(\"body mass (kg)\", fontsize=12)\n",
        "    ax2.set_xlabel(\"brain volume (cc)\", fontsize=12)\n",
        "    ax2.set_title(\"Overfit model\")"
      ]
    },
    {
      "cell_type": "markdown",
      "id": "e11f20ea",
      "metadata": {
        "id": "e11f20ea"
      },
      "source": [
        "Of the 7 straight lines in the left-hand figure above, there is one line that is quite different from the other six lines. Which data point was dropped to generate that one line? Explain."
      ]
    },
    {
      "cell_type": "code",
      "execution_count": 16,
      "id": "6db5922f",
      "metadata": {
        "id": "6db5922f"
      },
      "outputs": [],
      "source": [
        "# ENTER YOUR ANSWER IN YOUR FORUM PRE-CLASS WORKBOOK"
      ]
    },
    {
      "cell_type": "markdown",
      "id": "76eaae00",
      "metadata": {
        "id": "76eaae00"
      },
      "source": [
        "## Required task\n",
        "\n",
        "Implement the polynomial regression model from this chapter in PyMC and run it for different degrees on the same data set to produce a plot similar to Figure 7.3.\n",
        "\n",
        "We will reuse this model in class.\n",
        "\n",
        "For a given degree, $d$, and data set $(x_j, y_j)$ the model is\n",
        "\n",
        "$$\\begin{aligned}\n",
        "\\sigma &\\sim \\text{Log-Normal}(0, 1) \\\\\n",
        "\\alpha &\\sim \\text{Normal}(0.5, 1^2) \\\\\n",
        "\\beta_i &\\sim \\text{Normal}(0, 10^2) \\text{ for } i = 1,2,\\ldots,d\\\\\n",
        "\\mu_j &= \\alpha + \\sum_{i=1}^d \\beta_i (x_j)^i \\\\\n",
        "y_j &\\sim \\text{Normal}(\\mu_j, \\sigma)\n",
        "\\end{aligned}$$\n"
      ]
    },
    {
      "cell_type": "code",
      "execution_count": 41,
      "id": "be985df9",
      "metadata": {
        "id": "be985df9"
      },
      "outputs": [],
      "source": [
        "import pymc as pm\n",
        "\n",
        "# Fit the polynomial model for degrees 1–6\n",
        "with pm.Model() as model_1:\n",
        "  a = pm.Normal(\"a\", mu = 0, sigma = 1)\n",
        "  b = pm.Normal(\"b\", mu = 0, sigma = 10, shape = 1)\n",
        "  sigma = pm.Lognormal(\"sigma\", mu = 0, sigma = 1)\n",
        "  mu = pm.Deterministic(\"mu\", a + b[0] * brains.mass_std)\n",
        "  y = pm.Normal(\"y\", mu = mu, sigma = sigma, observed = brains.brain_std)\n",
        "\n",
        "with pm.Model() as model_2:\n",
        "  a = pm.Normal(\"a\", mu = 0, sigma = 1)\n",
        "  b = pm.Normal(\"b\", mu = 0, sigma = 10, shape = 2)\n",
        "  sigma = pm.Lognormal(\"sigma\", mu = 0, sigma = 1)\n",
        "  mu = pm.Deterministic(\"mu\", a + b[0] * brains.mass_std\n",
        "                        + b[1] * brains.mass_std ** 2)\n",
        "  y = pm.Normal(\"y\", mu = mu, sigma = sigma, observed = brains.brain_std)\n",
        "\n",
        "with pm.Model() as model_3:\n",
        "  a = pm.Normal(\"a\", mu = 0, sigma = 1)\n",
        "  b = pm.Normal(\"b\", mu = 0, sigma = 10, shape = 3)\n",
        "  sigma = pm.Lognormal(\"sigma\", mu = 0, sigma = 1)\n",
        "  mu = pm.Deterministic(\"mu\", a + b[0] * brains.mass_std\n",
        "                        + b[1] * brains.mass_std ** 2\n",
        "                        + b[2] * brains.mass_std ** 3)\n",
        "  y = pm.Normal(\"y\", mu = mu, sigma = sigma, observed = brains.brain_std)\n",
        "\n",
        "with pm.Model() as model_4:\n",
        "  a = pm.Normal(\"a\", mu = 0, sigma = 1)\n",
        "  b = pm.Normal(\"b\", mu = 0, sigma = 10, shape = 4)\n",
        "  sigma = pm.Lognormal(\"sigma\", mu = 0, sigma = 1)\n",
        "  mu = pm.Deterministic(\"mu\", a + b[0] * brains.mass_std\n",
        "                        + b[1] * brains.mass_std ** 2\n",
        "                        + b[2] * brains.mass_std ** 3\n",
        "                        + b[3] * brains.mass_std ** 4)\n",
        "  y = pm.Normal(\"y\", mu = mu, sigma = sigma, observed = brains.brain_std)\n",
        "\n",
        "\n",
        "with pm.Model() as model_5:\n",
        "  a = pm.Normal(\"a\", mu = 0, sigma = 1)\n",
        "  b = pm.Normal(\"b\", mu = 0, sigma = 10, shape = 5)\n",
        "  sigma = pm.Lognormal(\"sigma\", mu = 0, sigma = 1)\n",
        "  mu = pm.Deterministic(\"mu\", a + b[0] * brains.mass_std\n",
        "                        + b[1] * brains.mass_std ** 2\n",
        "                        + b[2] * brains.mass_std ** 3\n",
        "                        + b[3] * brains.mass_std ** 4\n",
        "                        + b[4] * brains.mass_std ** 5)\n",
        "  y = pm.Normal(\"y\", mu = mu, sigma = sigma, observed = brains.brain_std)\n",
        "\n",
        "\n",
        "with pm.Model() as model_6:\n",
        "  a = pm.Normal(\"a\", mu = 0, sigma = 1)\n",
        "  b = pm.Normal(\"b\", mu = 0, sigma = 10, shape = 6)\n",
        "  sigma = 0.001\n",
        "  mu = pm.Deterministic(\"mu\", a + b[0] * brains.mass_std\n",
        "                        + b[1] * brains.mass_std ** 2\n",
        "                        + b[2] * brains.mass_std ** 3\n",
        "                        + b[3] * brains.mass_std ** 4\n",
        "                        + b[4] * brains.mass_std ** 5\n",
        "                        + b[5] * brains.mass_std ** 6)\n",
        "  y = pm.Normal(\"y\", mu = mu, sigma = sigma, observed = brains.brain_std)\n",
        "\n",
        "# Plot the results from all 6 model fits\n",
        "\n",
        "\n"
      ]
    },
    {
      "cell_type": "code",
      "source": [
        "import pymc as pm\n",
        "import arviz as az\n",
        "import matplotlib.pyplot as plt\n",
        "import numpy as np\n",
        "\n",
        "# sample from the six models\n",
        "traces = []\n",
        "for model in [model_1, model_2, model_3, model_4, model_5, model_6]:\n",
        "    with model:\n",
        "        trace = pm.sample(1000, tune=1000, target_accept=0.9, progressbar=True)\n",
        "        traces.append(trace)\n",
        "\n",
        "# convert back to the original scale\n",
        "x_std = np.linspace(brains.mass_std.min(), brains.mass_std.max(), 100)\n",
        "mass_mean, mass_std = brains.mass.mean(), brains.mass.std()\n",
        "brain_max = brains.brain.max()\n",
        "x = x_std * mass_std + mass_mean\n",
        "\n",
        "# individual plots\n",
        "for d, (model, trace) in enumerate(zip(\n",
        "    [model_1, model_2, model_3, model_4, model_5, model_6], traces), 1):\n",
        "\n",
        "    # posterior samples\n",
        "    a_samples = trace.posterior[\"a\"].values.flatten()\n",
        "    b_samples = trace.posterior[\"b\"].values\n",
        "\n",
        "    # posterior predictive samples\n",
        "    mu_pred_std = np.zeros((len(a_samples), len(x_std))) # empty matrix\n",
        "    for i in range(len(a_samples)): # for each sample\n",
        "        mu_pred_std[i] = a_samples[i] + sum( # create new data based on the posterior samples\n",
        "            b_samples[..., j].flatten()[i] * x_std ** (j + 1)\n",
        "            for j in range(d)\n",
        "        )\n",
        "\n",
        "    # convert back to original scale\n",
        "    mu_pred = mu_pred_std * brain_max\n",
        "\n",
        "    #plotting\n",
        "    plt.figure(figsize=(8, 6))\n",
        "    plt.scatter(brains.mass, brains.brain, c=\"darkorange\", alpha=0.9, label=\"Observed data\")\n",
        "    az.plot_hdi(x, mu_pred, color=\"C1\")\n",
        "    plt.plot(x, mu_pred.mean(axis=0), color=\"C1\", label=f\"Mean fit (degree {d})\")\n",
        "    plt.xlabel(\"Mass (original scale)\")\n",
        "    plt.ylabel(\"Brain (original scale)\")\n",
        "    plt.title(f\"Bayesian Polynomial Fit (Degree {d})\")\n",
        "    plt.legend()\n",
        "    plt.tight_layout()\n",
        "    plt.show()\n"
      ],
      "metadata": {
        "id": "wbWVwziq7y-M",
        "outputId": "ebfb6f49-1cde-4f72-dad8-e3d69323e1d9",
        "colab": {
          "base_uri": "https://localhost:8080/",
          "height": 702,
          "referenced_widgets": [
            "bc39ba68fae84669aec3cf58cea5458c",
            "3c7cea6cef724bce87d4c9d201b3a1d9",
            "66b17b24ce484dd1a2eb37c83d2b9588",
            "6059036ef0834f11af5739cb7e30c794",
            "57d5a1ce58964bf4a7a14f8b06653238",
            "1483f7aa177c49dea5540ebfa506eeaa",
            "872f3e83738f4d0aaf2e9ed61316aac7",
            "d5fd40fd9f714cd197a9fd708b034668",
            "eed308f0625946cbb5f05b3e9a5a2f41",
            "84bfdbe1f00f4300ab171dae0e98fc1d",
            "30fc789d3940494098ac4cf8a87affff",
            "0e919ddfcf1d49fd8268b1cae396343c"
          ]
        }
      },
      "id": "wbWVwziq7y-M",
      "execution_count": null,
      "outputs": [
        {
          "output_type": "display_data",
          "data": {
            "text/plain": [
              "Output()"
            ],
            "application/vnd.jupyter.widget-view+json": {
              "version_major": 2,
              "version_minor": 0,
              "model_id": "bc39ba68fae84669aec3cf58cea5458c"
            }
          },
          "metadata": {}
        },
        {
          "output_type": "display_data",
          "data": {
            "text/plain": [],
            "text/html": [
              "<pre style=\"white-space:pre;overflow-x:auto;line-height:normal;font-family:Menlo,'DejaVu Sans Mono',consolas,'Courier New',monospace\"></pre>\n"
            ]
          },
          "metadata": {}
        },
        {
          "output_type": "display_data",
          "data": {
            "text/plain": [
              "Output()"
            ],
            "application/vnd.jupyter.widget-view+json": {
              "version_major": 2,
              "version_minor": 0,
              "model_id": "66b17b24ce484dd1a2eb37c83d2b9588"
            }
          },
          "metadata": {}
        },
        {
          "output_type": "display_data",
          "data": {
            "text/plain": [],
            "text/html": [
              "<pre style=\"white-space:pre;overflow-x:auto;line-height:normal;font-family:Menlo,'DejaVu Sans Mono',consolas,'Courier New',monospace\"></pre>\n"
            ]
          },
          "metadata": {}
        },
        {
          "output_type": "display_data",
          "data": {
            "text/plain": [
              "Output()"
            ],
            "application/vnd.jupyter.widget-view+json": {
              "version_major": 2,
              "version_minor": 0,
              "model_id": "57d5a1ce58964bf4a7a14f8b06653238"
            }
          },
          "metadata": {}
        },
        {
          "output_type": "display_data",
          "data": {
            "text/plain": [],
            "text/html": [
              "<pre style=\"white-space:pre;overflow-x:auto;line-height:normal;font-family:Menlo,'DejaVu Sans Mono',consolas,'Courier New',monospace\"></pre>\n"
            ]
          },
          "metadata": {}
        },
        {
          "output_type": "display_data",
          "data": {
            "text/plain": [
              "Output()"
            ],
            "application/vnd.jupyter.widget-view+json": {
              "version_major": 2,
              "version_minor": 0,
              "model_id": "872f3e83738f4d0aaf2e9ed61316aac7"
            }
          },
          "metadata": {}
        },
        {
          "output_type": "display_data",
          "data": {
            "text/plain": [],
            "text/html": [
              "<pre style=\"white-space:pre;overflow-x:auto;line-height:normal;font-family:Menlo,'DejaVu Sans Mono',consolas,'Courier New',monospace\"></pre>\n"
            ]
          },
          "metadata": {}
        },
        {
          "output_type": "stream",
          "name": "stderr",
          "text": [
            "ERROR:pymc.stats.convergence:There were 28 divergences after tuning. Increase `target_accept` or reparameterize.\n",
            "ERROR:pymc.stats.convergence:The effective sample size per chain is smaller than 100 for some parameters.  A higher number is needed for reliable rhat and ess computation. See https://arxiv.org/abs/1903.08008 for details\n"
          ]
        },
        {
          "output_type": "display_data",
          "data": {
            "text/plain": [
              "Output()"
            ],
            "application/vnd.jupyter.widget-view+json": {
              "version_major": 2,
              "version_minor": 0,
              "model_id": "eed308f0625946cbb5f05b3e9a5a2f41"
            }
          },
          "metadata": {}
        },
        {
          "output_type": "display_data",
          "data": {
            "text/plain": [],
            "text/html": [
              "<pre style=\"white-space:pre;overflow-x:auto;line-height:normal;font-family:Menlo,'DejaVu Sans Mono',consolas,'Courier New',monospace\"></pre>\n"
            ]
          },
          "metadata": {}
        },
        {
          "output_type": "stream",
          "name": "stderr",
          "text": [
            "ERROR:pymc.stats.convergence:There were 54 divergences after tuning. Increase `target_accept` or reparameterize.\n",
            "ERROR:pymc.stats.convergence:The effective sample size per chain is smaller than 100 for some parameters.  A higher number is needed for reliable rhat and ess computation. See https://arxiv.org/abs/1903.08008 for details\n"
          ]
        },
        {
          "output_type": "display_data",
          "data": {
            "text/plain": [
              "Output()"
            ],
            "application/vnd.jupyter.widget-view+json": {
              "version_major": 2,
              "version_minor": 0,
              "model_id": "30fc789d3940494098ac4cf8a87affff"
            }
          },
          "metadata": {}
        }
      ]
    }
  ],
  "metadata": {
    "colab": {
      "provenance": []
    },
    "kernelspec": {
      "display_name": "Python 3 (ipykernel)",
      "language": "python",
      "name": "python3"
    },
    "language_info": {
      "codemirror_mode": {
        "name": "ipython",
        "version": 3
      },
      "file_extension": ".py",
      "mimetype": "text/x-python",
      "name": "python",
      "nbconvert_exporter": "python",
      "pygments_lexer": "ipython3",
      "version": "3.13.5"
    },
    "widgets": {
      "application/vnd.jupyter.widget-state+json": {
        "bc39ba68fae84669aec3cf58cea5458c": {
          "model_module": "@jupyter-widgets/output",
          "model_name": "OutputModel",
          "model_module_version": "1.0.0",
          "state": {
            "_dom_classes": [],
            "_model_module": "@jupyter-widgets/output",
            "_model_module_version": "1.0.0",
            "_model_name": "OutputModel",
            "_view_count": null,
            "_view_module": "@jupyter-widgets/output",
            "_view_module_version": "1.0.0",
            "_view_name": "OutputView",
            "layout": "IPY_MODEL_3c7cea6cef724bce87d4c9d201b3a1d9",
            "msg_id": "",
            "outputs": [
              {
                "output_type": "display_data",
                "data": {
                  "text/plain": "                                                                                                                   \n \u001b[1m \u001b[0m\u001b[1mProgress                \u001b[0m\u001b[1m \u001b[0m \u001b[1m \u001b[0m\u001b[1mDraws\u001b[0m\u001b[1m \u001b[0m \u001b[1m \u001b[0m\u001b[1mDivergences\u001b[0m\u001b[1m \u001b[0m \u001b[1m \u001b[0m\u001b[1mStep size\u001b[0m\u001b[1m \u001b[0m \u001b[1m \u001b[0m\u001b[1mGrad evals\u001b[0m\u001b[1m \u001b[0m \u001b[1m \u001b[0m\u001b[1mSampling Speed \u001b[0m\u001b[1m \u001b[0m \u001b[1m \u001b[0m\u001b[1mElapsed\u001b[0m\u001b[1m \u001b[0m \u001b[1m \u001b[0m\u001b[1mRemaining\u001b[0m\u001b[1m \u001b[0m \n ───────────────────────────────────────────────────────────────────────────────────────────────────────────────── \n  \u001b[38;2;31;119;180m━━━━━━━━━━━━━━━━━━━━━━━━\u001b[0m   2000    0             0.56        7            1882.41 draws/s   0:00:01   0:00:00    \n  \u001b[38;2;31;119;180m━━━━━━━━━━━━━━━━━━━━━━━━\u001b[0m   2000    0             0.45        1            952.21 draws/s    0:00:02   0:00:00    \n                                                                                                                   \n",
                  "text/html": "<pre style=\"white-space:pre;overflow-x:auto;line-height:normal;font-family:Menlo,'DejaVu Sans Mono',consolas,'Courier New',monospace\">                                                                                                                   \n <span style=\"font-weight: bold\"> Progress                 </span> <span style=\"font-weight: bold\"> Draws </span> <span style=\"font-weight: bold\"> Divergences </span> <span style=\"font-weight: bold\"> Step size </span> <span style=\"font-weight: bold\"> Grad evals </span> <span style=\"font-weight: bold\"> Sampling Speed  </span> <span style=\"font-weight: bold\"> Elapsed </span> <span style=\"font-weight: bold\"> Remaining </span> \n ───────────────────────────────────────────────────────────────────────────────────────────────────────────────── \n  <span style=\"color: #1f77b4; text-decoration-color: #1f77b4\">━━━━━━━━━━━━━━━━━━━━━━━━</span>   2000    0             0.56        7            1882.41 draws/s   0:00:01   0:00:00    \n  <span style=\"color: #1f77b4; text-decoration-color: #1f77b4\">━━━━━━━━━━━━━━━━━━━━━━━━</span>   2000    0             0.45        1            952.21 draws/s    0:00:02   0:00:00    \n                                                                                                                   \n</pre>\n"
                },
                "metadata": {}
              }
            ]
          }
        },
        "3c7cea6cef724bce87d4c9d201b3a1d9": {
          "model_module": "@jupyter-widgets/base",
          "model_name": "LayoutModel",
          "model_module_version": "1.2.0",
          "state": {
            "_model_module": "@jupyter-widgets/base",
            "_model_module_version": "1.2.0",
            "_model_name": "LayoutModel",
            "_view_count": null,
            "_view_module": "@jupyter-widgets/base",
            "_view_module_version": "1.2.0",
            "_view_name": "LayoutView",
            "align_content": null,
            "align_items": null,
            "align_self": null,
            "border": null,
            "bottom": null,
            "display": null,
            "flex": null,
            "flex_flow": null,
            "grid_area": null,
            "grid_auto_columns": null,
            "grid_auto_flow": null,
            "grid_auto_rows": null,
            "grid_column": null,
            "grid_gap": null,
            "grid_row": null,
            "grid_template_areas": null,
            "grid_template_columns": null,
            "grid_template_rows": null,
            "height": null,
            "justify_content": null,
            "justify_items": null,
            "left": null,
            "margin": null,
            "max_height": null,
            "max_width": null,
            "min_height": null,
            "min_width": null,
            "object_fit": null,
            "object_position": null,
            "order": null,
            "overflow": null,
            "overflow_x": null,
            "overflow_y": null,
            "padding": null,
            "right": null,
            "top": null,
            "visibility": null,
            "width": null
          }
        },
        "66b17b24ce484dd1a2eb37c83d2b9588": {
          "model_module": "@jupyter-widgets/output",
          "model_name": "OutputModel",
          "model_module_version": "1.0.0",
          "state": {
            "_dom_classes": [],
            "_model_module": "@jupyter-widgets/output",
            "_model_module_version": "1.0.0",
            "_model_name": "OutputModel",
            "_view_count": null,
            "_view_module": "@jupyter-widgets/output",
            "_view_module_version": "1.0.0",
            "_view_name": "OutputView",
            "layout": "IPY_MODEL_6059036ef0834f11af5739cb7e30c794",
            "msg_id": "",
            "outputs": [
              {
                "output_type": "display_data",
                "data": {
                  "text/plain": "                                                                                                                   \n \u001b[1m \u001b[0m\u001b[1mProgress                 \u001b[0m\u001b[1m \u001b[0m \u001b[1m \u001b[0m\u001b[1mDraws\u001b[0m\u001b[1m \u001b[0m \u001b[1m \u001b[0m\u001b[1mDivergences\u001b[0m\u001b[1m \u001b[0m \u001b[1m \u001b[0m\u001b[1mStep size\u001b[0m\u001b[1m \u001b[0m \u001b[1m \u001b[0m\u001b[1mGrad evals\u001b[0m\u001b[1m \u001b[0m \u001b[1m \u001b[0m\u001b[1mSampling Speed\u001b[0m\u001b[1m \u001b[0m \u001b[1m \u001b[0m\u001b[1mElapsed\u001b[0m\u001b[1m \u001b[0m \u001b[1m \u001b[0m\u001b[1mRemaining\u001b[0m\u001b[1m \u001b[0m \n ───────────────────────────────────────────────────────────────────────────────────────────────────────────────── \n  \u001b[38;2;31;119;180m━━━━━━━━━━━━━━━━━━━━━━━━━\u001b[0m   2000    0             0.28        7            968.92 draws/s   0:00:02   0:00:00    \n  \u001b[38;2;31;119;180m━━━━━━━━━━━━━━━━━━━━━━━━━\u001b[0m   2000    0             0.24        7            483.83 draws/s   0:00:04   0:00:00    \n                                                                                                                   \n",
                  "text/html": "<pre style=\"white-space:pre;overflow-x:auto;line-height:normal;font-family:Menlo,'DejaVu Sans Mono',consolas,'Courier New',monospace\">                                                                                                                   \n <span style=\"font-weight: bold\"> Progress                  </span> <span style=\"font-weight: bold\"> Draws </span> <span style=\"font-weight: bold\"> Divergences </span> <span style=\"font-weight: bold\"> Step size </span> <span style=\"font-weight: bold\"> Grad evals </span> <span style=\"font-weight: bold\"> Sampling Speed </span> <span style=\"font-weight: bold\"> Elapsed </span> <span style=\"font-weight: bold\"> Remaining </span> \n ───────────────────────────────────────────────────────────────────────────────────────────────────────────────── \n  <span style=\"color: #1f77b4; text-decoration-color: #1f77b4\">━━━━━━━━━━━━━━━━━━━━━━━━━</span>   2000    0             0.28        7            968.92 draws/s   0:00:02   0:00:00    \n  <span style=\"color: #1f77b4; text-decoration-color: #1f77b4\">━━━━━━━━━━━━━━━━━━━━━━━━━</span>   2000    0             0.24        7            483.83 draws/s   0:00:04   0:00:00    \n                                                                                                                   \n</pre>\n"
                },
                "metadata": {}
              }
            ]
          }
        },
        "6059036ef0834f11af5739cb7e30c794": {
          "model_module": "@jupyter-widgets/base",
          "model_name": "LayoutModel",
          "model_module_version": "1.2.0",
          "state": {
            "_model_module": "@jupyter-widgets/base",
            "_model_module_version": "1.2.0",
            "_model_name": "LayoutModel",
            "_view_count": null,
            "_view_module": "@jupyter-widgets/base",
            "_view_module_version": "1.2.0",
            "_view_name": "LayoutView",
            "align_content": null,
            "align_items": null,
            "align_self": null,
            "border": null,
            "bottom": null,
            "display": null,
            "flex": null,
            "flex_flow": null,
            "grid_area": null,
            "grid_auto_columns": null,
            "grid_auto_flow": null,
            "grid_auto_rows": null,
            "grid_column": null,
            "grid_gap": null,
            "grid_row": null,
            "grid_template_areas": null,
            "grid_template_columns": null,
            "grid_template_rows": null,
            "height": null,
            "justify_content": null,
            "justify_items": null,
            "left": null,
            "margin": null,
            "max_height": null,
            "max_width": null,
            "min_height": null,
            "min_width": null,
            "object_fit": null,
            "object_position": null,
            "order": null,
            "overflow": null,
            "overflow_x": null,
            "overflow_y": null,
            "padding": null,
            "right": null,
            "top": null,
            "visibility": null,
            "width": null
          }
        },
        "57d5a1ce58964bf4a7a14f8b06653238": {
          "model_module": "@jupyter-widgets/output",
          "model_name": "OutputModel",
          "model_module_version": "1.0.0",
          "state": {
            "_dom_classes": [],
            "_model_module": "@jupyter-widgets/output",
            "_model_module_version": "1.0.0",
            "_model_name": "OutputModel",
            "_view_count": null,
            "_view_module": "@jupyter-widgets/output",
            "_view_module_version": "1.0.0",
            "_view_name": "OutputView",
            "layout": "IPY_MODEL_1483f7aa177c49dea5540ebfa506eeaa",
            "msg_id": "",
            "outputs": [
              {
                "output_type": "display_data",
                "data": {
                  "text/plain": "                                                                                                                   \n \u001b[1m \u001b[0m\u001b[1mProgress                 \u001b[0m\u001b[1m \u001b[0m \u001b[1m \u001b[0m\u001b[1mDraws\u001b[0m\u001b[1m \u001b[0m \u001b[1m \u001b[0m\u001b[1mDivergences\u001b[0m\u001b[1m \u001b[0m \u001b[1m \u001b[0m\u001b[1mStep size\u001b[0m\u001b[1m \u001b[0m \u001b[1m \u001b[0m\u001b[1mGrad evals\u001b[0m\u001b[1m \u001b[0m \u001b[1m \u001b[0m\u001b[1mSampling Speed\u001b[0m\u001b[1m \u001b[0m \u001b[1m \u001b[0m\u001b[1mElapsed\u001b[0m\u001b[1m \u001b[0m \u001b[1m \u001b[0m\u001b[1mRemaining\u001b[0m\u001b[1m \u001b[0m \n ───────────────────────────────────────────────────────────────────────────────────────────────────────────────── \n  \u001b[38;2;31;119;180m━━━━━━━━━━━━━━━━━━━━━━━━━\u001b[0m   2000    0             0.16        7            488.97 draws/s   0:00:04   0:00:00    \n  \u001b[38;2;31;119;180m━━━━━━━━━━━━━━━━━━━━━━━━━\u001b[0m   2000    0             0.23        31           277.13 draws/s   0:00:07   0:00:00    \n                                                                                                                   \n",
                  "text/html": "<pre style=\"white-space:pre;overflow-x:auto;line-height:normal;font-family:Menlo,'DejaVu Sans Mono',consolas,'Courier New',monospace\">                                                                                                                   \n <span style=\"font-weight: bold\"> Progress                  </span> <span style=\"font-weight: bold\"> Draws </span> <span style=\"font-weight: bold\"> Divergences </span> <span style=\"font-weight: bold\"> Step size </span> <span style=\"font-weight: bold\"> Grad evals </span> <span style=\"font-weight: bold\"> Sampling Speed </span> <span style=\"font-weight: bold\"> Elapsed </span> <span style=\"font-weight: bold\"> Remaining </span> \n ───────────────────────────────────────────────────────────────────────────────────────────────────────────────── \n  <span style=\"color: #1f77b4; text-decoration-color: #1f77b4\">━━━━━━━━━━━━━━━━━━━━━━━━━</span>   2000    0             0.16        7            488.97 draws/s   0:00:04   0:00:00    \n  <span style=\"color: #1f77b4; text-decoration-color: #1f77b4\">━━━━━━━━━━━━━━━━━━━━━━━━━</span>   2000    0             0.23        31           277.13 draws/s   0:00:07   0:00:00    \n                                                                                                                   \n</pre>\n"
                },
                "metadata": {}
              }
            ]
          }
        },
        "1483f7aa177c49dea5540ebfa506eeaa": {
          "model_module": "@jupyter-widgets/base",
          "model_name": "LayoutModel",
          "model_module_version": "1.2.0",
          "state": {
            "_model_module": "@jupyter-widgets/base",
            "_model_module_version": "1.2.0",
            "_model_name": "LayoutModel",
            "_view_count": null,
            "_view_module": "@jupyter-widgets/base",
            "_view_module_version": "1.2.0",
            "_view_name": "LayoutView",
            "align_content": null,
            "align_items": null,
            "align_self": null,
            "border": null,
            "bottom": null,
            "display": null,
            "flex": null,
            "flex_flow": null,
            "grid_area": null,
            "grid_auto_columns": null,
            "grid_auto_flow": null,
            "grid_auto_rows": null,
            "grid_column": null,
            "grid_gap": null,
            "grid_row": null,
            "grid_template_areas": null,
            "grid_template_columns": null,
            "grid_template_rows": null,
            "height": null,
            "justify_content": null,
            "justify_items": null,
            "left": null,
            "margin": null,
            "max_height": null,
            "max_width": null,
            "min_height": null,
            "min_width": null,
            "object_fit": null,
            "object_position": null,
            "order": null,
            "overflow": null,
            "overflow_x": null,
            "overflow_y": null,
            "padding": null,
            "right": null,
            "top": null,
            "visibility": null,
            "width": null
          }
        },
        "872f3e83738f4d0aaf2e9ed61316aac7": {
          "model_module": "@jupyter-widgets/output",
          "model_name": "OutputModel",
          "model_module_version": "1.0.0",
          "state": {
            "_dom_classes": [],
            "_model_module": "@jupyter-widgets/output",
            "_model_module_version": "1.0.0",
            "_model_name": "OutputModel",
            "_view_count": null,
            "_view_module": "@jupyter-widgets/output",
            "_view_module_version": "1.0.0",
            "_view_name": "OutputView",
            "layout": "IPY_MODEL_d5fd40fd9f714cd197a9fd708b034668",
            "msg_id": "",
            "outputs": [
              {
                "output_type": "display_data",
                "data": {
                  "text/plain": "                                                                                                                   \n \u001b[1m \u001b[0m\u001b[1mProgress                 \u001b[0m\u001b[1m \u001b[0m \u001b[1m \u001b[0m\u001b[1mDraws\u001b[0m\u001b[1m \u001b[0m \u001b[1m \u001b[0m\u001b[1mDivergences\u001b[0m\u001b[1m \u001b[0m \u001b[1m \u001b[0m\u001b[1mStep size\u001b[0m\u001b[1m \u001b[0m \u001b[1m \u001b[0m\u001b[1mGrad evals\u001b[0m\u001b[1m \u001b[0m \u001b[1m \u001b[0m\u001b[1mSampling Speed\u001b[0m\u001b[1m \u001b[0m \u001b[1m \u001b[0m\u001b[1mElapsed\u001b[0m\u001b[1m \u001b[0m \u001b[1m \u001b[0m\u001b[1mRemaining\u001b[0m\u001b[1m \u001b[0m \n ───────────────────────────────────────────────────────────────────────────────────────────────────────────────── \n  \u001b[38;2;214;39;40m━━━━━━━━━━━━━━━━━━━━━━━━━\u001b[0m   2000    11            0.06        63           202.10 draws/s   0:00:09   0:00:00    \n  \u001b[38;2;214;39;40m━━━━━━━━━━━━━━━━━━━━━━━━━\u001b[0m   2000    17            0.03        15           86.67 draws/s    0:00:23   0:00:00    \n                                                                                                                   \n",
                  "text/html": "<pre style=\"white-space:pre;overflow-x:auto;line-height:normal;font-family:Menlo,'DejaVu Sans Mono',consolas,'Courier New',monospace\">                                                                                                                   \n <span style=\"font-weight: bold\"> Progress                  </span> <span style=\"font-weight: bold\"> Draws </span> <span style=\"font-weight: bold\"> Divergences </span> <span style=\"font-weight: bold\"> Step size </span> <span style=\"font-weight: bold\"> Grad evals </span> <span style=\"font-weight: bold\"> Sampling Speed </span> <span style=\"font-weight: bold\"> Elapsed </span> <span style=\"font-weight: bold\"> Remaining </span> \n ───────────────────────────────────────────────────────────────────────────────────────────────────────────────── \n  <span style=\"color: #d62728; text-decoration-color: #d62728\">━━━━━━━━━━━━━━━━━━━━━━━━━</span>   2000    11            0.06        63           202.10 draws/s   0:00:09   0:00:00    \n  <span style=\"color: #d62728; text-decoration-color: #d62728\">━━━━━━━━━━━━━━━━━━━━━━━━━</span>   2000    17            0.03        15           86.67 draws/s    0:00:23   0:00:00    \n                                                                                                                   \n</pre>\n"
                },
                "metadata": {}
              }
            ]
          }
        },
        "d5fd40fd9f714cd197a9fd708b034668": {
          "model_module": "@jupyter-widgets/base",
          "model_name": "LayoutModel",
          "model_module_version": "1.2.0",
          "state": {
            "_model_module": "@jupyter-widgets/base",
            "_model_module_version": "1.2.0",
            "_model_name": "LayoutModel",
            "_view_count": null,
            "_view_module": "@jupyter-widgets/base",
            "_view_module_version": "1.2.0",
            "_view_name": "LayoutView",
            "align_content": null,
            "align_items": null,
            "align_self": null,
            "border": null,
            "bottom": null,
            "display": null,
            "flex": null,
            "flex_flow": null,
            "grid_area": null,
            "grid_auto_columns": null,
            "grid_auto_flow": null,
            "grid_auto_rows": null,
            "grid_column": null,
            "grid_gap": null,
            "grid_row": null,
            "grid_template_areas": null,
            "grid_template_columns": null,
            "grid_template_rows": null,
            "height": null,
            "justify_content": null,
            "justify_items": null,
            "left": null,
            "margin": null,
            "max_height": null,
            "max_width": null,
            "min_height": null,
            "min_width": null,
            "object_fit": null,
            "object_position": null,
            "order": null,
            "overflow": null,
            "overflow_x": null,
            "overflow_y": null,
            "padding": null,
            "right": null,
            "top": null,
            "visibility": null,
            "width": null
          }
        },
        "eed308f0625946cbb5f05b3e9a5a2f41": {
          "model_module": "@jupyter-widgets/output",
          "model_name": "OutputModel",
          "model_module_version": "1.0.0",
          "state": {
            "_dom_classes": [],
            "_model_module": "@jupyter-widgets/output",
            "_model_module_version": "1.0.0",
            "_model_name": "OutputModel",
            "_view_count": null,
            "_view_module": "@jupyter-widgets/output",
            "_view_module_version": "1.0.0",
            "_view_name": "OutputView",
            "layout": "IPY_MODEL_84bfdbe1f00f4300ab171dae0e98fc1d",
            "msg_id": "",
            "outputs": [
              {
                "output_type": "display_data",
                "data": {
                  "text/plain": "                                                                                                                   \n \u001b[1m \u001b[0m\u001b[1mProgress                 \u001b[0m\u001b[1m \u001b[0m \u001b[1m \u001b[0m\u001b[1mDraws\u001b[0m\u001b[1m \u001b[0m \u001b[1m \u001b[0m\u001b[1mDivergences\u001b[0m\u001b[1m \u001b[0m \u001b[1m \u001b[0m\u001b[1mStep size\u001b[0m\u001b[1m \u001b[0m \u001b[1m \u001b[0m\u001b[1mGrad evals\u001b[0m\u001b[1m \u001b[0m \u001b[1m \u001b[0m\u001b[1mSampling Speed\u001b[0m\u001b[1m \u001b[0m \u001b[1m \u001b[0m\u001b[1mElapsed\u001b[0m\u001b[1m \u001b[0m \u001b[1m \u001b[0m\u001b[1mRemaining\u001b[0m\u001b[1m \u001b[0m \n ───────────────────────────────────────────────────────────────────────────────────────────────────────────────── \n  \u001b[38;2;214;39;40m━━━━━━━━━━━━━━━━━━━━━━━━━\u001b[0m   2000    37            0.01        511          64.56 draws/s    0:00:30   0:00:00    \n  \u001b[38;2;214;39;40m━━━━━━━━━━━━━━━━━━━━━━━━━\u001b[0m   2000    17            0.03        63           33.35 draws/s    0:00:59   0:00:00    \n                                                                                                                   \n",
                  "text/html": "<pre style=\"white-space:pre;overflow-x:auto;line-height:normal;font-family:Menlo,'DejaVu Sans Mono',consolas,'Courier New',monospace\">                                                                                                                   \n <span style=\"font-weight: bold\"> Progress                  </span> <span style=\"font-weight: bold\"> Draws </span> <span style=\"font-weight: bold\"> Divergences </span> <span style=\"font-weight: bold\"> Step size </span> <span style=\"font-weight: bold\"> Grad evals </span> <span style=\"font-weight: bold\"> Sampling Speed </span> <span style=\"font-weight: bold\"> Elapsed </span> <span style=\"font-weight: bold\"> Remaining </span> \n ───────────────────────────────────────────────────────────────────────────────────────────────────────────────── \n  <span style=\"color: #d62728; text-decoration-color: #d62728\">━━━━━━━━━━━━━━━━━━━━━━━━━</span>   2000    37            0.01        511          64.56 draws/s    0:00:30   0:00:00    \n  <span style=\"color: #d62728; text-decoration-color: #d62728\">━━━━━━━━━━━━━━━━━━━━━━━━━</span>   2000    17            0.03        63           33.35 draws/s    0:00:59   0:00:00    \n                                                                                                                   \n</pre>\n"
                },
                "metadata": {}
              }
            ]
          }
        },
        "84bfdbe1f00f4300ab171dae0e98fc1d": {
          "model_module": "@jupyter-widgets/base",
          "model_name": "LayoutModel",
          "model_module_version": "1.2.0",
          "state": {
            "_model_module": "@jupyter-widgets/base",
            "_model_module_version": "1.2.0",
            "_model_name": "LayoutModel",
            "_view_count": null,
            "_view_module": "@jupyter-widgets/base",
            "_view_module_version": "1.2.0",
            "_view_name": "LayoutView",
            "align_content": null,
            "align_items": null,
            "align_self": null,
            "border": null,
            "bottom": null,
            "display": null,
            "flex": null,
            "flex_flow": null,
            "grid_area": null,
            "grid_auto_columns": null,
            "grid_auto_flow": null,
            "grid_auto_rows": null,
            "grid_column": null,
            "grid_gap": null,
            "grid_row": null,
            "grid_template_areas": null,
            "grid_template_columns": null,
            "grid_template_rows": null,
            "height": null,
            "justify_content": null,
            "justify_items": null,
            "left": null,
            "margin": null,
            "max_height": null,
            "max_width": null,
            "min_height": null,
            "min_width": null,
            "object_fit": null,
            "object_position": null,
            "order": null,
            "overflow": null,
            "overflow_x": null,
            "overflow_y": null,
            "padding": null,
            "right": null,
            "top": null,
            "visibility": null,
            "width": null
          }
        },
        "30fc789d3940494098ac4cf8a87affff": {
          "model_module": "@jupyter-widgets/output",
          "model_name": "OutputModel",
          "model_module_version": "1.0.0",
          "state": {
            "_dom_classes": [],
            "_model_module": "@jupyter-widgets/output",
            "_model_module_version": "1.0.0",
            "_model_name": "OutputModel",
            "_view_count": null,
            "_view_module": "@jupyter-widgets/output",
            "_view_module_version": "1.0.0",
            "_view_name": "OutputView",
            "layout": "IPY_MODEL_0e919ddfcf1d49fd8268b1cae396343c",
            "msg_id": "",
            "outputs": [
              {
                "output_type": "display_data",
                "data": {
                  "text/plain": "                                                                                                                   \n \u001b[1m \u001b[0m\u001b[1mProgress                 \u001b[0m\u001b[1m \u001b[0m \u001b[1m \u001b[0m\u001b[1mDraws\u001b[0m\u001b[1m \u001b[0m \u001b[1m \u001b[0m\u001b[1mDivergences\u001b[0m\u001b[1m \u001b[0m \u001b[1m \u001b[0m\u001b[1mStep size\u001b[0m\u001b[1m \u001b[0m \u001b[1m \u001b[0m\u001b[1mGrad evals\u001b[0m\u001b[1m \u001b[0m \u001b[1m \u001b[0m\u001b[1mSampling Speed\u001b[0m\u001b[1m \u001b[0m \u001b[1m \u001b[0m\u001b[1mElapsed\u001b[0m\u001b[1m \u001b[0m \u001b[1m \u001b[0m\u001b[1mRemaining\u001b[0m\u001b[1m \u001b[0m \n ───────────────────────────────────────────────────────────────────────────────────────────────────────────────── \n  \u001b[38;2;31;119;180m━━━━━━━━━━━━━━━━━━━━━━━━━\u001b[0m   2000    0             0.00        127          25.29 draws/s    0:01:19   0:00:00    \n  \u001b[38;2;31;119;180m━━━━━━━━━━━━━━━━━━━\u001b[0m\u001b[38;5;237m╺\u001b[0m\u001b[38;5;237m━━━━━\u001b[0m   1536    0             0.00        1023         12.15 draws/s    0:02:06   0:00:16    \n                                                                                                                   \n",
                  "text/html": "<pre style=\"white-space:pre;overflow-x:auto;line-height:normal;font-family:Menlo,'DejaVu Sans Mono',consolas,'Courier New',monospace\">                                                                                                                   \n <span style=\"font-weight: bold\"> Progress                  </span> <span style=\"font-weight: bold\"> Draws </span> <span style=\"font-weight: bold\"> Divergences </span> <span style=\"font-weight: bold\"> Step size </span> <span style=\"font-weight: bold\"> Grad evals </span> <span style=\"font-weight: bold\"> Sampling Speed </span> <span style=\"font-weight: bold\"> Elapsed </span> <span style=\"font-weight: bold\"> Remaining </span> \n ───────────────────────────────────────────────────────────────────────────────────────────────────────────────── \n  <span style=\"color: #1f77b4; text-decoration-color: #1f77b4\">━━━━━━━━━━━━━━━━━━━━━━━━━</span>   2000    0             0.00        127          25.29 draws/s    0:01:19   0:00:00    \n  <span style=\"color: #1f77b4; text-decoration-color: #1f77b4\">━━━━━━━━━━━━━━━━━━━</span><span style=\"color: #3a3a3a; text-decoration-color: #3a3a3a\">╺━━━━━</span>   1536    0             0.00        1023         12.15 draws/s    0:02:06   0:00:16    \n                                                                                                                   \n</pre>\n"
                },
                "metadata": {}
              }
            ]
          }
        },
        "0e919ddfcf1d49fd8268b1cae396343c": {
          "model_module": "@jupyter-widgets/base",
          "model_name": "LayoutModel",
          "model_module_version": "1.2.0",
          "state": {
            "_model_module": "@jupyter-widgets/base",
            "_model_module_version": "1.2.0",
            "_model_name": "LayoutModel",
            "_view_count": null,
            "_view_module": "@jupyter-widgets/base",
            "_view_module_version": "1.2.0",
            "_view_name": "LayoutView",
            "align_content": null,
            "align_items": null,
            "align_self": null,
            "border": null,
            "bottom": null,
            "display": null,
            "flex": null,
            "flex_flow": null,
            "grid_area": null,
            "grid_auto_columns": null,
            "grid_auto_flow": null,
            "grid_auto_rows": null,
            "grid_column": null,
            "grid_gap": null,
            "grid_row": null,
            "grid_template_areas": null,
            "grid_template_columns": null,
            "grid_template_rows": null,
            "height": null,
            "justify_content": null,
            "justify_items": null,
            "left": null,
            "margin": null,
            "max_height": null,
            "max_width": null,
            "min_height": null,
            "min_width": null,
            "object_fit": null,
            "object_position": null,
            "order": null,
            "overflow": null,
            "overflow_x": null,
            "overflow_y": null,
            "padding": null,
            "right": null,
            "top": null,
            "visibility": null,
            "width": null
          }
        }
      }
    }
  },
  "nbformat": 4,
  "nbformat_minor": 5
}